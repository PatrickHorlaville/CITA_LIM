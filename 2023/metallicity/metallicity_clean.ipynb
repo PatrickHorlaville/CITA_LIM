{
 "cells": [
  {
   "cell_type": "code",
   "execution_count": 1,
   "id": "f094e371",
   "metadata": {},
   "outputs": [
    {
     "name": "stderr",
     "output_type": "stream",
     "text": [
      "WARNING: AstropyDeprecationWarning: `astropy.cosmology.core.FlatLambdaCDM` has been moved (since v5.0) and should be imported as ``from astropy.cosmology import FlatLambdaCDM``. In future this will raise an exception. [astropy.cosmology.core]\n"
     ]
    }
   ],
   "source": [
    "import numpy as np\n",
    "import matplotlib\n",
    "import matplotlib.pyplot as plt\n",
    "import astropy.units as u # I use astropy units in everything, very helpful for bookkeeping/debugging\n",
    "\n",
    "from lim import lim # The base intensity mapping object\n",
    "\n",
    "matplotlib.rcParams.update({'font.size': 18,'figure.figsize':[8,7]}) # Make figures better\n",
    "#matplotlib.rcParams,update({}'figure.figsize'] = [8,7]\n",
    "from scipy.ndimage import gaussian_filter\n",
    "plt.rcParams[\"mathtext.fontset\"] = \"dejavuserif\""
   ]
  },
  {
   "cell_type": "code",
   "execution_count": 2,
   "id": "0ea4518c",
   "metadata": {},
   "outputs": [
    {
     "name": "stdout",
     "output_type": "stream",
     "text": [
      "Input cosmological model does not match simulations\n",
      "Setting analytic cosmology to match simulation\n",
      "Input cosmological model does not match simulations\n",
      "Setting analytic cosmology to match simulation\n"
     ]
    }
   ],
   "source": [
    "# Initialize LineModel with default model\n",
    "m = lim()\n",
    "m_cii = lim('Lichen_v4', doSim = True)\n",
    "m_cii_v1 = lim('Lichen', doSim = True)"
   ]
  },
  {
   "cell_type": "code",
   "execution_count": 37,
   "id": "4c189c58",
   "metadata": {},
   "outputs": [],
   "source": [
    "m_cii.update(model_par = {'zdex': 0.4,\n",
    " 'M0': 1900000000.0,\n",
    " 'Mmin': 20000000000,\n",
    " 'alpha_MH1': 0.74,\n",
    " 'alpha_LCII': 0.024,\n",
    " 'alpha0': -1.412,\n",
    " 'gamma0': 0.31,\n",
    " 'BehrooziFile': 'sfr_reinterp.dat'},\n",
    "            nuObs = 226*u.GHz,\n",
    "            Delta_nu = 28*u.GHz,\n",
    "             dnu = 2.8*u.GHz,\n",
    "            Omega_field = 4*u.deg**2,\n",
    "            catalogue_file  = '/home/dongwooc/scratchspace/pprun_hiz_npz/COMAP_z5.8-7.9_960Mpc_seed_13819.npz')"
   ]
  },
  {
   "cell_type": "code",
   "execution_count": 13,
   "id": "f19d9baf",
   "metadata": {},
   "outputs": [],
   "source": [
    "m_cii_v1.update(nuObs = 270*u.GHz,\n",
    "            Delta_nu = 40*u.GHz,\n",
    "               dnu = 2.8*u.GHz)"
   ]
  },
  {
   "cell_type": "code",
   "execution_count": 14,
   "id": "d87aad45",
   "metadata": {},
   "outputs": [],
   "source": [
    "a = lambda z:1/(1.+z)\n",
    "# Behroozi et al 2013a parameters\n",
    "nu = lambda z:np.exp(-4*a(z)**2)\n",
    "log10_eps = lambda z:-1.777-0.006*(a(z)-1)*nu(z)-0.119*(a(z)-1)\n",
    "log10_M1 = lambda z:11.514+(-1.793*(a(z)-1)-0.251*z)*nu(z)\n",
    "alpha = lambda z:-1.412+0.731*(a(z)-1)*nu(z)\n",
    "delta = lambda z:3.508+(2.608*(a(z)-1)-0.043*z)*nu(z)\n",
    "gamma_f = lambda z:0.316+(1.319*(a(z)-1)+0.279*z)*nu(z)\n",
    "f = lambda x, z:-np.log10(10**(alpha(z)*x)+1)+delta(z)*(np.log10(1+np.exp(x)))**gamma_f(z)/(1+np.exp(10**(-x)))\n",
    "xi = lambda z:0.218-0.023*(a(z)-1)\n",
    "\n",
    "def stellar_m(halo_m,z,scatter=False):\n",
    "    sm = 10**(log10_eps(z)+log10_M1(z)+f(np.log10(halo_m/(10**log10_M1(z))),z)-f\n",
    "(0,z))\n",
    "    if scatter:\n",
    "        rand = np.random.lognormal(-0.5*(xi(z)*np.log(10))**2,xi(z)*np.log(10))\n",
    "        return sm*rand\n",
    "    else:\n",
    "        return sm\n",
    "\n",
    "    \n",
    "from limlam_mocker import limlam_mocker as llm\n",
    "from limlam_mocker.limlam_mocker import add_log_normal_scatter\n",
    "import scipy as sp\n",
    "import scipy.interpolate\n",
    "sigma_sfr = 0.3\n",
    "\n",
    "tablepath = '/mnt/scratch-lustre/horlaville/clara_limlam/limCode2020-master_clara_2/sfr_reinterp.dat'\n",
    "\n",
    "dat_zp1, dat_logm, dat_logsfr, _ = np.loadtxt(tablepath, unpack=True)\n",
    "dat_logzp1 = np.log10(dat_zp1)\n",
    "dat_sfr    = 10.**dat_logsfr\n",
    "dat_logzp1  = np.unique(dat_logzp1)    # log(z), 1D \n",
    "dat_logm    = np.unique(dat_logm)      # log(Mhalo), 1D        \n",
    "dat_sfr     = np.reshape(dat_sfr, (dat_logm.size, dat_logzp1.size))\n",
    "sfr_interp_tab = sp.interpolate.RectBivariateSpline(dat_logm, dat_logzp1, dat_sfr, kx=1, ky=1)\n",
    "\n",
    "gamma = 0.31\n",
    "beta = 2.1\n",
    "m_0 = 10.11\n",
    "m_1 = 0.56\n",
    "Z_0 = 8.779\n",
    "\n",
    "def M_0(sfr):\n",
    "    return (10**(m_0))*(sfr**(m_1))\n",
    "\n",
    "def metal(stellar_m, M_0):\n",
    "    return Z_0 - (gamma/beta)*np.log10(1 + (stellar_m/M_0)**(-beta))"
   ]
  },
  {
   "cell_type": "code",
   "execution_count": 15,
   "id": "8c052416",
   "metadata": {},
   "outputs": [
    {
     "name": "stdout",
     "output_type": "stream",
     "text": [
      "Loading .npz catalogues...\n"
     ]
    }
   ],
   "source": [
    "halo_ms = m_cii_v1.halos.M\n",
    "halo_zs = m_cii_v1.halos.redshift\n",
    "\n",
    "map_zs = (m_cii_v1.mapinst.nu_rest/m_cii_v1.mapinst.nu_bincents) - 1\n",
    "med_z = np.median(map_zs)\n",
    "\n",
    "halo_sm = stellar_m(halo_ms, med_z)\n",
    "\n",
    "halo_sfr = sfr_interp_tab.ev(np.log10(halo_ms), np.log10(halo_zs + 1))\n",
    "halo_IR = halo_sfr*(1.36*(10**10))\n",
    "halo_IR = add_log_normal_scatter(halo_IR, 0.3, seed = 23)\n",
    "\n",
    "\n",
    "halo_M0 = M_0(halo_sfr)\n",
    "\n",
    "halo_z = metal(halo_sm, halo_M0)\n",
    "\n",
    "halos_cii_v1 = m_cii_v1.L_halos.value"
   ]
  },
  {
   "cell_type": "code",
   "execution_count": null,
   "id": "b0dfc8f9",
   "metadata": {},
   "outputs": [],
   "source": [
    "halos_cii_v2 = m_cii.L_halos.value"
   ]
  },
  {
   "cell_type": "code",
   "execution_count": 6,
   "id": "a07abfe3",
   "metadata": {},
   "outputs": [],
   "source": [
    "fire_galaxies_z6 = '/mnt/scratch-lustre/horlaville/clara_limlam/limCode2020-master_clara_2/fire_galaxies/fire_galaxies_z6.dat'\n",
    "massive_z6, log_cii_z6, log_ir_z6 = np.loadtxt(fire_galaxies_z6, unpack=True)\n",
    "\n",
    "mass_fire_z6 = massive_z6 < 0\n",
    "fire_box_z6 = massive_z6 >= 0\n",
    "fire_zs_z6 = [6 for i in range(len(massive_z6))]\n",
    "\n",
    "fire_cii_z6 = 10**(log_cii_z6)\n",
    "fire_ir_z6 = 10**(log_ir_z6)\n",
    "\n",
    "\n",
    "fire_galaxies_z8 = '/mnt/scratch-lustre/horlaville/clara_limlam/limCode2020-master_clara_2/fire_galaxies/fire_galaxies_z8.dat'\n",
    "massive_z8, log_cii_z8, log_ir_z8 = np.loadtxt(fire_galaxies_z8, unpack=True)\n",
    "\n",
    "mass_fire_z8 = massive_z8 < 0\n",
    "fire_box_z8 = massive_z8 >= 0\n",
    "fire_zs_z8 = [8 for i in range(len(massive_z8))]\n",
    "\n",
    "fire_cii_z8 = 10**(log_cii_z8)\n",
    "fire_ir_z8 = 10**(log_ir_z8)"
   ]
  },
  {
   "cell_type": "code",
   "execution_count": 7,
   "id": "462cc6d1",
   "metadata": {},
   "outputs": [
    {
     "data": {
      "image/png": "[encoded data removed]",
      "text/plain": [
       "<Figure size 576x504 with 1 Axes>"
      ]
     },
     "metadata": {
      "needs_background": "light"
     },
     "output_type": "display_data"
    }
   ],
   "source": [
    "_, ir_bins, _ = plt.hist(halo_IR, bins = np.logspace(np.log10(10**8), np.log10(7*(10**12)), 20))\n",
    "plt.xscale('log')"
   ]
  },
  {
   "cell_type": "code",
   "execution_count": 8,
   "id": "74c663cc",
   "metadata": {},
   "outputs": [],
   "source": [
    "ir_center = (ir_bins[:-1] + ir_bins[1:]) / 2"
   ]
  },
  {
   "cell_type": "code",
   "execution_count": 9,
   "id": "f19b3ff5",
   "metadata": {},
   "outputs": [],
   "source": [
    "def reg_ir(ir_bin, vnzn, halos_cii):\n",
    "\n",
    "    ind = [0 for i in range(len(ir_bin) - 1)]\n",
    "    med = [0 for i in range(len(ir_bin) - 1)]\n",
    "    mean = [0 for i in range(len(ir_bin) - 1)]\n",
    "\n",
    "    perc68_down = [0 for i in range(len(ir_bin) - 1)]\n",
    "    perc68_up = [0 for i in range(len(ir_bin) - 1)]\n",
    "\n",
    "    perc95_down = [0 for i in range(len(ir_bin) - 1)]\n",
    "    perc95_up = [0 for i in range(len(ir_bin) - 1)]\n",
    "\n",
    "    perc997_down = [0 for i in range(len(ir_bin) - 1)]\n",
    "    perc997_up = [0 for i in range(len(ir_bin) - 1)]\n",
    "    \n",
    "    nhalos = [0 for i in range(len(ir_bin) - 1)]\n",
    "\n",
    "\n",
    "    for i in range(len(ir_bin) - 1):\n",
    "    \n",
    "        ind[i] = (halo_IR[vnzn] >= ir_bin[i]) & (halo_IR[vnzn] <= ir_bin[i+1])\n",
    "        \n",
    "        med[i] = np.median((halos_cii/halo_IR)[vnzn][ind[i]])\n",
    "        mean[i] = np.mean((halos_cii/halo_IR)[vnzn][ind[i]])\n",
    "    \n",
    "        perc68_down[i] = np.percentile((halos_cii/halo_IR)[vnzn][ind[i]], 0.15+2.35+13.5)\n",
    "        perc68_up[i] = np.percentile((halos_cii/halo_IR)[vnzn][ind[i]], 0.15+2.35+13.5+68)\n",
    "    \n",
    "        perc95_down[i] = np.percentile((halos_cii/halo_IR)[vnzn][ind[i]], 0.15+2.35)\n",
    "        perc95_up[i] = np.percentile((halos_cii/halo_IR)[vnzn][ind[i]], 0.15+2.35+13.5+68+13.5)\n",
    "    \n",
    "        perc997_down[i] = np.percentile((halos_cii/halo_IR)[vnzn][ind[i]], 0.15)\n",
    "        perc997_up[i] = np.percentile((halos_cii/halo_IR)[vnzn][ind[i]], 0.15+2.35+13.5+68+13.5+2.35)\n",
    "        \n",
    "        nhalos[i] = len((halos_cii/halo_IR)[vnzn][ind[i]])\n",
    "        \n",
    "    \n",
    "    return mean, med, perc68_down, perc68_up, perc95_down, perc95_up, perc997_down, perc997_up, nhalos"
   ]
  },
  {
   "cell_type": "markdown",
   "id": "9309fad9",
   "metadata": {},
   "source": [
    "v1z6:"
   ]
  },
  {
   "cell_type": "code",
   "execution_count": 16,
   "id": "f6515836",
   "metadata": {},
   "outputs": [],
   "source": [
    "v1z6 = (halo_zs > 5.5) & (halo_zs < 6.5)"
   ]
  },
  {
   "cell_type": "code",
   "execution_count": 17,
   "id": "cc32ce60",
   "metadata": {},
   "outputs": [],
   "source": [
    "mean_v1z6, med_v1z6, perc68_down_v1z6, perc68_up_v1z6, perc95_down_v1z6, perc95_up_v1z6, perc997_down_v1z6, perc997_up_v1z6, nhalos_z6 = reg_ir(ir_bins, v1z6, halos_cii_v1)"
   ]
  },
  {
   "cell_type": "code",
   "execution_count": 18,
   "id": "3df2db23",
   "metadata": {},
   "outputs": [],
   "source": [
    "alpha_dens_z6 = nhalos_z6/np.max(nhalos_z6)"
   ]
  },
  {
   "cell_type": "markdown",
   "id": "9271daac",
   "metadata": {},
   "source": [
    "v2z6:"
   ]
  },
  {
   "cell_type": "code",
   "execution_count": 28,
   "id": "98cc2e15",
   "metadata": {},
   "outputs": [],
   "source": [
    "v2z6 = (halo_zs > 5.5) & (halo_zs < 6.5)"
   ]
  },
  {
   "cell_type": "code",
   "execution_count": 29,
   "id": "a1a63566",
   "metadata": {},
   "outputs": [],
   "source": [
    "mean_v2z6, med_v2z6, perc68_down_v2z6, perc68_up_v2z6, perc95_down_v2z6, perc95_up_v2z6, perc997_down_v2z6, perc997_up_v2z6, _ = reg_ir(ir_bins, v2z6, halos_cii_v2)"
   ]
  },
  {
   "cell_type": "markdown",
   "id": "c3d6707b",
   "metadata": {},
   "source": [
    "v1z8:"
   ]
  },
  {
   "cell_type": "code",
   "execution_count": 10,
   "id": "f1d3c756",
   "metadata": {},
   "outputs": [],
   "source": [
    "v1z8 = halo_zs > 7"
   ]
  },
  {
   "cell_type": "code",
   "execution_count": 11,
   "id": "ca44f188",
   "metadata": {},
   "outputs": [],
   "source": [
    "mean_v1z8, med_v1z8, perc68_down_v1z8, perc68_up_v1z8, perc95_down_v1z8, perc95_up_v1z8, perc997_down_v1z8, perc997_up_v1z8, nhalos_z8 = reg_ir(ir_bins, v1z8, halos_cii_v1)"
   ]
  },
  {
   "cell_type": "code",
   "execution_count": 12,
   "id": "3beb12b5",
   "metadata": {},
   "outputs": [],
   "source": [
    "alpha_dens_z8 = nhalos_z8/np.max(nhalos_z8)"
   ]
  },
  {
   "cell_type": "markdown",
   "id": "8002edb0",
   "metadata": {},
   "source": [
    "v2z8:"
   ]
  },
  {
   "cell_type": "code",
   "execution_count": 47,
   "id": "ac442092",
   "metadata": {},
   "outputs": [],
   "source": [
    "v2z8 = halo_zs > 7"
   ]
  },
  {
   "cell_type": "code",
   "execution_count": 48,
   "id": "cee63b33",
   "metadata": {},
   "outputs": [],
   "source": [
    "mean_v2z8, med_v2z8, perc68_down_v2z8, perc68_up_v2z8, perc95_down_v2z8, perc95_up_v2z8, perc997_down_v2z8, perc997_up_v2z8, _ = reg_ir(ir_bins, v2z8, halos_cii_v2)"
   ]
  },
  {
   "cell_type": "code",
   "execution_count": 19,
   "id": "64465f49",
   "metadata": {},
   "outputs": [
    {
     "data": {
      "text/plain": [
       "<matplotlib.legend.Legend at 0x7f7a41dfe9e0>"
      ]
     },
     "execution_count": 19,
     "metadata": {},
     "output_type": "execute_result"
    },
    {
     "data": {
      "image/png": "[encoded data removed]",
      "text/plain": [
       "<Figure size 576x504 with 1 Axes>"
      ]
     },
     "metadata": {
      "needs_background": "light"
     },
     "output_type": "display_data"
    }
   ],
   "source": [
    "f, a = plt.subplots()\n",
    "\n",
    "plt.title(r'$L_{[C_{II}]}/L_{IR}\\ against\\ L_{IR}$')\n",
    "\n",
    "p6 = a.plot(fire_ir_z6, (fire_cii_z6/fire_ir_z6), c = '#440154FF', marker = '*', markeredgecolor='k', label = r'$FIRE,\\ z\\ =\\ 6$', linestyle = \"None\")\n",
    "p6l = a.plot(np.nan, np.nan, '*')\n",
    "\n",
    "p8 = a.plot(fire_ir_z8, (fire_cii_z8/fire_ir_z8), c = '#FDE725FF', marker = '*', markeredgecolor='#DAA520', label = r'$FIRE,\\ z\\ =\\ 8$', linestyle = \"None\")\n",
    "p8l = a.plot(np.nan, np.nan, '*')\n",
    "\n",
    "plt.xscale('log')\n",
    "plt.yscale('log')\n",
    "plt.xlabel(r'$L_{IR}\\ (L_{\\odot})$')\n",
    "plt.ylabel(r'$L_{[C_{II}]}/L_{IR}$')\n",
    "plt.xlim([5*(10**8), 2*(10**12)])\n",
    "plt.ylim([3*(10**(-5)), (10**(-2))])\n",
    "\n",
    "for i in range(len(ir_center)):\n",
    "    \n",
    "    a.fill_between((ir_bins[i], ir_bins[i+1]), perc68_down_v1z6[i], perc68_up_v1z6[i], edgecolor='k', facecolor='#241571', alpha = 0.75*alpha_dens_z6[i])\n",
    "    \n",
    "    a.fill_between((ir_bins[i], ir_bins[i+1]), perc95_down_v1z6[i], perc68_down_v1z6[i], edgecolor='k', facecolor='#241571', alpha = 0.5*alpha_dens_z6[i])\n",
    "    a.fill_between((ir_bins[i], ir_bins[i+1]), perc68_up_v1z6[i], perc95_up_v1z6[i], edgecolor='k', facecolor='#241571', alpha = 0.5*alpha_dens_z6[i])\n",
    "    \n",
    "    #a.fill_between((ir_bins[i], ir_bins[i+1]), perc997_down_v1z6[i], perc95_down_v1z6[i], facecolor='#241571', alpha = 0.25*alpha_dens[i])\n",
    "    #a.fill_between((ir_bins[i], ir_bins[i+1]), perc95_up_v1z6[i], perc997_up_v1z6[i], facecolor='#241571', alpha = 0.25*alpha_dens[i])\n",
    "\n",
    "    \n",
    "    a.fill_between((ir_bins[i], ir_bins[i+1]), perc68_down_v1z8[i], perc68_up_v1z8[i], edgecolor='#DAA520', facecolor='#FBEC5D', alpha = 0.75*alpha_dens_z8[i])\n",
    "    \n",
    "    a.fill_between((ir_bins[i], ir_bins[i+1]), perc95_down_v1z8[i], perc68_down_v1z8[i], edgecolor='#DAA520', facecolor='#FBEC5D', alpha = 0.5*alpha_dens_z8[i])\n",
    "    a.fill_between((ir_bins[i], ir_bins[i+1]), perc68_up_v1z8[i], perc95_up_v1z8[i], edgecolor='#DAA520', facecolor='#FBEC5D', alpha = 0.5*alpha_dens_z8[i])\n",
    "    \n",
    "    #a.fill_between((ir_bins[i], ir_bins[i+1]), perc997_down_v1z8[i], perc95_down_v1z8[i], facecolor='#FBEC5D', alpha = 0.25*alpha_dens[i])\n",
    "    #a.fill_between((ir_bins[i], ir_bins[i+1]), perc95_up_v1z8[i], perc997_up_v1z8[i], facecolor='#FBEC5D', alpha = 0.25*alpha_dens[i])\n",
    "    \n",
    "p01 = a.plot(ir_center, mean_v1z6, color = 'k', linestyle = '--')\n",
    "p02 = a.fill(np.nan, np.nan, alpha=0.5, edgecolor='k', facecolor='#241571')\n",
    "\n",
    "p03 = a.plot(ir_center, mean_v1z8, color = '#DAA520', linestyle = '--')\n",
    "p04 = a.fill(np.nan, np.nan, alpha=0.5, edgecolor='#DAA520', facecolor='#FBEC5D')\n",
    "\n",
    "a.legend([(p6l[0], p6[0]), (p8l[0], p8[0]), (p02[0], p01[0]), (p03[0], p04[0]), ], [(r'$FIRE,\\ z\\ =\\ 6$'), (r'$FIRE,\\ z\\ =\\ 8$'), (r'$z\\ \\sim 6$'), (r'$z\\ \\sim 8$'), ], bbox_to_anchor = (1,1))"
   ]
  },
  {
   "cell_type": "code",
   "execution_count": 50,
   "id": "9f029f6e",
   "metadata": {},
   "outputs": [
    {
     "data": {
      "text/plain": [
       "<matplotlib.legend.Legend at 0x7fee89ae4b80>"
      ]
     },
     "execution_count": 50,
     "metadata": {},
     "output_type": "execute_result"
    },
    {
     "data": {
      "image/png": "[encoded data removed]",
      "text/plain": [
       "<Figure size 576x504 with 1 Axes>"
      ]
     },
     "metadata": {
      "needs_background": "light"
     },
     "output_type": "display_data"
    }
   ],
   "source": [
    "f, a = plt.subplots()\n",
    "\n",
    "plt.title(r'$L_{[C_{II}]}/L_{IR}\\ against\\ L_{IR}$')\n",
    "\n",
    "p6 = a.plot(fire_ir_z6, (fire_cii_z6/fire_ir_z6), c = '#440154FF', marker = '*', markeredgecolor='k', label = r'$FIRE,\\ z\\ =\\ 6$', linestyle = \"None\")\n",
    "p6l = a.plot(np.nan, np.nan, '*')\n",
    "\n",
    "p8 = a.plot(fire_ir_z8, (fire_cii_z8/fire_ir_z8), c = '#FDE725FF', marker = '*', markeredgecolor='#DAA520', label = r'$FIRE,\\ z\\ =\\ 8$', linestyle = \"None\")\n",
    "p8l = a.plot(np.nan, np.nan, '*')\n",
    "\n",
    "plt.xscale('log')\n",
    "plt.yscale('log')\n",
    "plt.xlabel(r'$L_{IR}\\ (L_{\\odot})$')\n",
    "plt.ylabel(r'$L_{[C_{II}]}/L_{IR}$')\n",
    "plt.xlim([5*(10**8), 2*(10**12)])\n",
    "plt.ylim([3*(10**(-5)), (10**(-2))])\n",
    "\n",
    "for i in range(len(ir_center)):\n",
    "    \n",
    "    a.fill_between((ir_bins[i], ir_bins[i+1]), perc68_down_v2z6[i], perc68_up_v2z6[i], edgecolor='k', facecolor='#241571', alpha = 0.75*alpha_dens_z6[i])\n",
    "    \n",
    "    a.fill_between((ir_bins[i], ir_bins[i+1]), perc95_down_v2z6[i], perc68_down_v2z6[i], edgecolor='k', facecolor='#241571', alpha = 0.5*alpha_dens_z6[i])\n",
    "    a.fill_between((ir_bins[i], ir_bins[i+1]), perc68_up_v2z6[i], perc95_up_v2z6[i], edgecolor='k', facecolor='#241571', alpha = 0.5*alpha_dens_z6[i])\n",
    "    \n",
    "    #a.fill_between((ir_bins[i], ir_bins[i+1]), perc997_down_v2z6[i], perc95_down_v2z6[i], facecolor='#241571', alpha = 0.25*alpha_dens[i])\n",
    "    #a.fill_between((ir_bins[i], ir_bins[i+1]), perc95_up_v2z6[i], perc997_up_v2z6[i], facecolor='#241571', alpha = 0.25*alpha_dens[i])\n",
    "\n",
    "    \n",
    "    a.fill_between((ir_bins[i], ir_bins[i+1]), perc68_down_v2z8[i], perc68_up_v2z8[i], edgecolor='#DAA520', facecolor='#FBEC5D', alpha = 0.75*alpha_dens_z8[i])\n",
    "    \n",
    "    a.fill_between((ir_bins[i], ir_bins[i+1]), perc95_down_v2z8[i], perc68_down_v2z8[i], edgecolor='#DAA520', facecolor='#FBEC5D', alpha = 0.5*alpha_dens_z8[i])\n",
    "    a.fill_between((ir_bins[i], ir_bins[i+1]), perc68_up_v2z8[i], perc95_up_v2z8[i], edgecolor='#DAA520', facecolor='#FBEC5D', alpha = 0.5*alpha_dens_z8[i])\n",
    "    \n",
    "    #a.fill_between((ir_bins[i], ir_bins[i+1]), perc997_down_v2z8[i], perc95_down_v2z8[i], facecolor='#FBEC5D', alpha = 0.25*alpha_dens[i])\n",
    "    #a.fill_between((ir_bins[i], ir_bins[i+1]), perc95_up_v2z8[i], perc997_up_v2z8[i], facecolor='#FBEC5D', alpha = 0.25*alpha_dens[i])\n",
    "    \n",
    "p01 = a.plot(ir_center, mean_v2z6, color = 'k', linestyle = '--')\n",
    "p02 = a.fill(np.nan, np.nan, alpha=0.5, edgecolor='k', facecolor='#241571')\n",
    "\n",
    "p03 = a.plot(ir_center, mean_v2z8, color = '#DAA520', linestyle = '--')\n",
    "p04 = a.fill(np.nan, np.nan, alpha=0.5, edgecolor='#DAA520', facecolor='#FBEC5D')\n",
    "\n",
    "a.legend([(p6l[0], p6[0]), (p8l[0], p8[0]), (p02[0], p01[0]), (p03[0], p04[0]), ], [(r'$FIRE,\\ z\\ =\\ 6$'), (r'$FIRE,\\ z\\ =\\ 8$'), (r'$z\\ \\sim 6$'), (r'$z\\ \\sim 8$'), ], bbox_to_anchor = (1,1))"
   ]
  },
  {
   "cell_type": "markdown",
   "id": "977ca488",
   "metadata": {},
   "source": [
    "# WHY"
   ]
  },
  {
   "cell_type": "code",
   "execution_count": 1,
   "id": "47106f11",
   "metadata": {},
   "outputs": [
    {
     "name": "stderr",
     "output_type": "stream",
     "text": [
      "WARNING: AstropyDeprecationWarning: `astropy.cosmology.core.FlatLambdaCDM` has been moved (since v5.0) and should be imported as ``from astropy.cosmology import FlatLambdaCDM``. In future this will raise an exception. [astropy.cosmology.core]\n"
     ]
    }
   ],
   "source": [
    "import numpy as np\n",
    "import matplotlib\n",
    "import matplotlib.pyplot as plt\n",
    "import astropy.units as u # I use astropy units in everything, very helpful for bookkeeping/debugging\n",
    "\n",
    "from lim import lim # The base intensity mapping object\n",
    "\n",
    "matplotlib.rcParams.update({'font.size': 18,'figure.figsize':[8,7]}) # Make figures better\n",
    "#matplotlib.rcParams,update({}'figure.figsize'] = [8,7]\n",
    "from scipy.ndimage import gaussian_filter\n",
    "plt.rcParams[\"mathtext.fontset\"] = \"dejavuserif\""
   ]
  },
  {
   "cell_type": "code",
   "execution_count": 2,
   "id": "a24f7b52",
   "metadata": {},
   "outputs": [
    {
     "name": "stdout",
     "output_type": "stream",
     "text": [
      "Input cosmological model does not match simulations\n",
      "Setting analytic cosmology to match simulation\n",
      "Input cosmological model does not match simulations\n",
      "Setting analytic cosmology to match simulation\n"
     ]
    }
   ],
   "source": [
    "# Initialize LineModel with default model\n",
    "m = lim()\n",
    "m_cii = lim('Lichen_v4', doSim = True)\n",
    "m_cii_v1 = lim('Lichen', doSim = True)"
   ]
  },
  {
   "cell_type": "code",
   "execution_count": 3,
   "id": "91c40bf3",
   "metadata": {},
   "outputs": [],
   "source": [
    "m_cii.update(model_par = {'zdex': 0.4,\n",
    " 'M0': 1900000000.0,\n",
    " 'Mmin': 20000000000,\n",
    " 'alpha_MH1': 0.74,\n",
    " 'alpha_LCII': 0.024,\n",
    " 'alpha0': -1.412,\n",
    " 'gamma0': 0.31,\n",
    " 'BehrooziFile': 'sfr_reinterp.dat'},\n",
    "            nuObs = 270*u.GHz,\n",
    "            Delta_nu = 40*u.GHz,\n",
    "             dnu = 2.8*u.GHz,\n",
    "            Omega_field = 4*u.deg**2,\n",
    "            catalogue_file  = '/home/dongwooc/scratchspace/pprun_hiz_npz/COMAP_z5.8-7.9_960Mpc_seed_13819.npz')"
   ]
  },
  {
   "cell_type": "code",
   "execution_count": 14,
   "id": "b39f264d",
   "metadata": {},
   "outputs": [],
   "source": [
    "m_cii_v1.update(nuObs = 226*u.GHz,\n",
    "                Delta_nu = 28*u.GHz,\n",
    "                dnu = 2.8*u.GHz,\n",
    "                Omega_field = 4*u.deg**2,\n",
    "                catalogue_file  = '/home/dongwooc/scratchspace/pprun_hiz_npz/COMAP_z5.8-7.9_960Mpc_seed_13819.npz')"
   ]
  },
  {
   "cell_type": "code",
   "execution_count": 15,
   "id": "fe1fca97",
   "metadata": {},
   "outputs": [],
   "source": [
    "a = lambda z:1/(1.+z)\n",
    "# Behroozi et al 2013a parameters\n",
    "nu = lambda z:np.exp(-4*a(z)**2)\n",
    "log10_eps = lambda z:-1.777-0.006*(a(z)-1)*nu(z)-0.119*(a(z)-1)\n",
    "log10_M1 = lambda z:11.514+(-1.793*(a(z)-1)-0.251*z)*nu(z)\n",
    "alpha = lambda z:-1.412+0.731*(a(z)-1)*nu(z)\n",
    "delta = lambda z:3.508+(2.608*(a(z)-1)-0.043*z)*nu(z)\n",
    "gamma_f = lambda z:0.316+(1.319*(a(z)-1)+0.279*z)*nu(z)\n",
    "f = lambda x, z:-np.log10(10**(alpha(z)*x)+1)+delta(z)*(np.log10(1+np.exp(x)))**gamma_f(z)/(1+np.exp(10**(-x)))\n",
    "xi = lambda z:0.218-0.023*(a(z)-1)\n",
    "\n",
    "def stellar_m(halo_m,z,scatter=False):\n",
    "    sm = 10**(log10_eps(z)+log10_M1(z)+f(np.log10(halo_m/(10**log10_M1(z))),z)-f\n",
    "(0,z))\n",
    "    if scatter:\n",
    "        rand = np.random.lognormal(-0.5*(xi(z)*np.log(10))**2,xi(z)*np.log(10))\n",
    "        return sm*rand\n",
    "    else:\n",
    "        return sm\n",
    "\n",
    "    \n",
    "from limlam_mocker import limlam_mocker as llm\n",
    "from limlam_mocker.limlam_mocker import add_log_normal_scatter\n",
    "import scipy as sp\n",
    "import scipy.interpolate\n",
    "sigma_sfr = 0.3\n",
    "\n",
    "tablepath = '/mnt/scratch-lustre/horlaville/clara_limlam/limCode2020-master_clara_2/sfr_reinterp.dat'\n",
    "\n",
    "dat_zp1, dat_logm, dat_logsfr, _ = np.loadtxt(tablepath, unpack=True)\n",
    "dat_logzp1 = np.log10(dat_zp1)\n",
    "dat_sfr    = 10.**dat_logsfr\n",
    "dat_logzp1  = np.unique(dat_logzp1)    # log(z), 1D \n",
    "dat_logm    = np.unique(dat_logm)      # log(Mhalo), 1D        \n",
    "dat_sfr     = np.reshape(dat_sfr, (dat_logm.size, dat_logzp1.size))\n",
    "sfr_interp_tab = sp.interpolate.RectBivariateSpline(dat_logm, dat_logzp1, dat_sfr, kx=1, ky=1)"
   ]
  },
  {
   "cell_type": "code",
   "execution_count": 16,
   "id": "7625e186",
   "metadata": {},
   "outputs": [
    {
     "name": "stdout",
     "output_type": "stream",
     "text": [
      "Loading .npz catalogues...\n"
     ]
    }
   ],
   "source": [
    "halo_ms = m_cii_v1.halos.M\n",
    "halo_zs8 = m_cii_v1.halos.redshift\n",
    "\n",
    "halo_sfr = sfr_interp_tab.ev(np.log10(halo_ms), np.log10(halo_zs8 + 1))\n",
    "halo_IR = halo_sfr*(1.36*(10**10))\n",
    "halo_IR_z8 = add_log_normal_scatter(halo_IR, 0.3, seed = 23)\n",
    "\n",
    "halos_cii_v1_z8 = m_cii_v1.L_halos.value"
   ]
  },
  {
   "cell_type": "code",
   "execution_count": 6,
   "id": "151c363e",
   "metadata": {},
   "outputs": [],
   "source": [
    "fire_galaxies_z6 = '/mnt/scratch-lustre/horlaville/clara_limlam/limCode2020-master_clara_2/fire_galaxies/fire_galaxies_z6.dat'\n",
    "massive_z6, log_cii_z6, log_ir_z6 = np.loadtxt(fire_galaxies_z6, unpack=True)\n",
    "\n",
    "mass_fire_z6 = massive_z6 < 0\n",
    "fire_box_z6 = massive_z6 >= 0\n",
    "fire_zs_z6 = [6 for i in range(len(massive_z6))]\n",
    "\n",
    "fire_cii_z6 = 10**(log_cii_z6)\n",
    "fire_ir_z6 = 10**(log_ir_z6)\n",
    "\n",
    "\n",
    "fire_galaxies_z8 = '/mnt/scratch-lustre/horlaville/clara_limlam/limCode2020-master_clara_2/fire_galaxies/fire_galaxies_z8.dat'\n",
    "massive_z8, log_cii_z8, log_ir_z8 = np.loadtxt(fire_galaxies_z8, unpack=True)\n",
    "\n",
    "mass_fire_z8 = massive_z8 < 0\n",
    "fire_box_z8 = massive_z8 >= 0\n",
    "fire_zs_z8 = [8 for i in range(len(massive_z8))]\n",
    "\n",
    "fire_cii_z8 = 10**(log_cii_z8)\n",
    "fire_ir_z8 = 10**(log_ir_z8)"
   ]
  },
  {
   "cell_type": "code",
   "execution_count": 7,
   "id": "7a613472",
   "metadata": {},
   "outputs": [],
   "source": [
    "z6 = (halo_zs6 > 5.5) & (halo_zs6 < 6.5)"
   ]
  },
  {
   "cell_type": "code",
   "execution_count": 8,
   "id": "fa890e79",
   "metadata": {},
   "outputs": [],
   "source": [
    "halo_IR_z6 = halo_IR_z6[z6]"
   ]
  },
  {
   "cell_type": "code",
   "execution_count": 9,
   "id": "b78e3924",
   "metadata": {},
   "outputs": [],
   "source": [
    "halos_cii_v1_z6 = halos_cii_v1_z6[z6]"
   ]
  },
  {
   "cell_type": "code",
   "execution_count": 17,
   "id": "f7bdec92",
   "metadata": {},
   "outputs": [],
   "source": [
    "z8 = (halo_zs8 > 7)"
   ]
  },
  {
   "cell_type": "code",
   "execution_count": 18,
   "id": "2287c6e1",
   "metadata": {},
   "outputs": [],
   "source": [
    "halo_IR_z8 = halo_IR_z8[z8]"
   ]
  },
  {
   "cell_type": "code",
   "execution_count": 19,
   "id": "d3025865",
   "metadata": {},
   "outputs": [],
   "source": [
    "halos_cii_v1_z8 = halos_cii_v1_z8[z8]"
   ]
  },
  {
   "cell_type": "code",
   "execution_count": 11,
   "id": "3f106ebb",
   "metadata": {},
   "outputs": [
    {
     "data": {
      "image/png": "[encoded data removed]",
      "text/plain": [
       "<Figure size 576x504 with 1 Axes>"
      ]
     },
     "metadata": {
      "needs_background": "light"
     },
     "output_type": "display_data"
    }
   ],
   "source": [
    "ir_binning = np.logspace(np.log10(10**8), np.log10(7*(10**12)), 20)\n",
    "n_ir_z6, _, _= plt.hist(halo_IR_z6, bins = ir_binning)\n",
    "\n",
    "ir_bin_center = (ir_binning[:-1] + ir_binning[1:]) / 2\n",
    "plt.plot(ir_bin_center, n_ir_z6, '.k')\n",
    "plt.xscale('log')"
   ]
  },
  {
   "cell_type": "code",
   "execution_count": 15,
   "id": "4839aae1",
   "metadata": {},
   "outputs": [],
   "source": [
    "spec_bins_z6 = np.digitize(halo_IR_z6, ir_binning)"
   ]
  },
  {
   "cell_type": "code",
   "execution_count": 23,
   "id": "ecd0a2c1",
   "metadata": {},
   "outputs": [
    {
     "data": {
      "text/plain": [
       "array([39, 37, 36, ..., 13,  9,  5])"
      ]
     },
     "execution_count": 23,
     "metadata": {},
     "output_type": "execute_result"
    }
   ],
   "source": [
    "spec_bins_z6"
   ]
  },
  {
   "cell_type": "code",
   "execution_count": 25,
   "id": "09d1722f",
   "metadata": {},
   "outputs": [
    {
     "data": {
      "text/plain": [
       "353051"
      ]
     },
     "execution_count": 25,
     "metadata": {},
     "output_type": "execute_result"
    }
   ],
   "source": [
    "len(halos_cii_v1_z6[spec_bins_z6])"
   ]
  },
  {
   "cell_type": "code",
   "execution_count": 22,
   "id": "1c890aa3",
   "metadata": {},
   "outputs": [
    {
     "data": {
      "text/plain": [
       "353051"
      ]
     },
     "execution_count": 22,
     "metadata": {},
     "output_type": "execute_result"
    }
   ],
   "source": [
    "len(np.take(halos_cii_v1_z6, spec_bins_z6))"
   ]
  },
  {
   "cell_type": "code",
   "execution_count": 19,
   "id": "7601f3a1",
   "metadata": {},
   "outputs": [
    {
     "data": {
      "text/plain": [
       "(37679,)"
      ]
     },
     "execution_count": 19,
     "metadata": {},
     "output_type": "execute_result"
    }
   ],
   "source": [
    "np.shape(spec_bins_z6)"
   ]
  },
  {
   "cell_type": "code",
   "execution_count": null,
   "id": "a14a7b4a",
   "metadata": {},
   "outputs": [],
   "source": []
  },
  {
   "cell_type": "code",
   "execution_count": null,
   "id": "f40eb0e1",
   "metadata": {},
   "outputs": [],
   "source": []
  },
  {
   "cell_type": "code",
   "execution_count": null,
   "id": "a9b24a73",
   "metadata": {},
   "outputs": [],
   "source": []
  },
  {
   "cell_type": "code",
   "execution_count": null,
   "id": "439cc0f8",
   "metadata": {},
   "outputs": [],
   "source": []
  },
  {
   "cell_type": "code",
   "execution_count": null,
   "id": "f66b095e",
   "metadata": {},
   "outputs": [],
   "source": []
  },
  {
   "cell_type": "code",
   "execution_count": 62,
   "id": "3de4b9b8",
   "metadata": {},
   "outputs": [
    {
     "data": {
      "image/png": "[encoded data removed]",
      "text/plain": [
       "<Figure size 576x504 with 1 Axes>"
      ]
     },
     "metadata": {
      "needs_background": "light"
     },
     "output_type": "display_data"
    }
   ],
   "source": [
    "ir_binning = np.logspace(8, 13, 50)\n",
    "n_ir, _, _= plt.hist(halo_IR[z8], bins = ir_binning)\n",
    "\n",
    "ir_bin_center = (ir_binning[:-1] + ir_binning[1:]) / 2\n",
    "plt.plot(ir_bin_center, n_ir, '.k')\n",
    "plt.xscale('log')"
   ]
  },
  {
   "cell_type": "code",
   "execution_count": 41,
   "id": "5e95f526",
   "metadata": {},
   "outputs": [],
   "source": [
    "ind = [0 for i in range(len(ir_bin_center))]\n",
    "med = [0 for i in range(len(ir_bin_center))]\n",
    "mean = [0 for i in range(len(ir_bin_center))]"
   ]
  },
  {
   "cell_type": "code",
   "execution_count": 42,
   "id": "f2389d58",
   "metadata": {},
   "outputs": [
    {
     "name": "stderr",
     "output_type": "stream",
     "text": [
      "/cita/modules/python/3.10.2/lib/python3.10/site-packages/numpy/core/fromnumeric.py:3432: RuntimeWarning: Mean of empty slice.\n",
      "  return _methods._mean(a, axis=axis, dtype=dtype,\n",
      "/cita/modules/python/3.10.2/lib/python3.10/site-packages/numpy/core/_methods.py:190: RuntimeWarning: invalid value encountered in double_scalars\n",
      "  ret = ret.dtype.type(ret / rcount)\n"
     ]
    }
   ],
   "source": [
    "for i in range(len(ir_bin_center)):\n",
    "    \n",
    "    ind[i] = (halo_IR[z6] >= ir_binning[i]) & (halo_IR[z6] <= ir_binning[i+1])\n",
    "        \n",
    "    med[i] = np.median((halos_cii_v1/halo_IR)[z6][ind[i]])\n",
    "    mean[i] = np.mean((halos_cii_v1/halo_IR)[z6][ind[i]])"
   ]
  },
  {
   "cell_type": "code",
   "execution_count": 12,
   "id": "687bde97",
   "metadata": {},
   "outputs": [],
   "source": [
    "def irbin(halo_ir, halo_cii, ir_bin, zsel):\n",
    "    \n",
    "    ir_center = (ir_bin[:-1] + ir_bin[1:]) / 2\n",
    "    \n",
    "    spec_bin = [0 for i in range(len(ir_center))]\n",
    "    med = [0 for i in range(len(ir_center))]\n",
    "    mean = [0 for i in range(len(ir_center))]\n",
    "    \n",
    "    for i in range(len(ir_bin_center)):\n",
    "    \n",
    "        spec_bin[i] = (halo_ir >= ir_binning[i]) & (halo_ir <= ir_binning[i+1])\n",
    "        \n",
    "        med[i] = np.median((halo_cii/halo_ir)[spec_bin[i]])\n",
    "\n",
    "    return ir_center, med"
   ]
  },
  {
   "cell_type": "code",
   "execution_count": 13,
   "id": "4c4535d7",
   "metadata": {},
   "outputs": [],
   "source": [
    "ir_bin_center, med = irbin(halo_IR_z6, halos_cii_v1_z6, ir_binning, z6)"
   ]
  },
  {
   "cell_type": "code",
   "execution_count": 20,
   "id": "7b424335",
   "metadata": {},
   "outputs": [
    {
     "name": "stderr",
     "output_type": "stream",
     "text": [
      "/cita/modules/python/3.10.2/lib/python3.10/site-packages/numpy/core/fromnumeric.py:3432: RuntimeWarning: Mean of empty slice.\n",
      "  return _methods._mean(a, axis=axis, dtype=dtype,\n",
      "/cita/modules/python/3.10.2/lib/python3.10/site-packages/numpy/core/_methods.py:190: RuntimeWarning: invalid value encountered in double_scalars\n",
      "  ret = ret.dtype.type(ret / rcount)\n"
     ]
    }
   ],
   "source": [
    "ir_bin_center, med_z8 = irbin(halo_IR_z8, halos_cii_v1_z8, ir_binning, z8)"
   ]
  },
  {
   "cell_type": "code",
   "execution_count": 21,
   "id": "bebccb56",
   "metadata": {},
   "outputs": [
    {
     "data": {
      "text/plain": [
       "<matplotlib.legend.Legend at 0x7f5d251c63b0>"
      ]
     },
     "execution_count": 21,
     "metadata": {},
     "output_type": "execute_result"
    },
    {
     "data": {
      "image/png": "[encoded data removed]",
      "text/plain": [
       "<Figure size 576x504 with 1 Axes>"
      ]
     },
     "metadata": {
      "needs_background": "light"
     },
     "output_type": "display_data"
    }
   ],
   "source": [
    "plt.plot(ir_bin_center, med, label = 'z = 6')\n",
    "plt.plot(ir_bin_center, med_z8, label = 'z = 8')\n",
    "plt.plot(fire_ir_z6, (fire_cii_z6/fire_ir_z6), c = '#440154FF', marker = '*', markeredgecolor='k', label = r'$FIRE,\\ z\\ =\\ 6$', linestyle = \"None\")\n",
    "plt.plot(fire_ir_z8, (fire_cii_z8/fire_ir_z8), c = '#FDE725FF', marker = '*', markeredgecolor='#DAA520', label = r'$FIRE,\\ z\\ =\\ $8', linestyle = \"None\")\n",
    "\n",
    "\n",
    "plt.xscale('log')\n",
    "plt.yscale('log')\n",
    "plt.xlabel(r'$L_{IR}\\ (L_{\\odot})$')\n",
    "plt.ylabel(r'$L_{[C_{II}]}/L_{IR}$')\n",
    "plt.xlim([5*(10**8), 2*(10**12)])\n",
    "plt.ylim([3*(10**(-5)), (10**(-2))])\n",
    "plt.legend()"
   ]
  },
  {
   "cell_type": "code",
   "execution_count": 68,
   "id": "3af62ac7",
   "metadata": {},
   "outputs": [
    {
     "data": {
      "text/plain": [
       "array([7.83757443, 7.74022512, 7.74007959, ..., 6.91865502, 6.91553758,\n",
       "       6.9239343 ])"
      ]
     },
     "execution_count": 68,
     "metadata": {},
     "output_type": "execute_result"
    }
   ],
   "source": [
    "halo_zs"
   ]
  },
  {
   "cell_type": "code",
   "execution_count": null,
   "id": "8b308601",
   "metadata": {},
   "outputs": [],
   "source": []
  },
  {
   "cell_type": "code",
   "execution_count": null,
   "id": "c9f9d5c3",
   "metadata": {},
   "outputs": [],
   "source": []
  },
  {
   "cell_type": "code",
   "execution_count": 24,
   "id": "48eae670",
   "metadata": {},
   "outputs": [
    {
     "data": {
      "text/plain": [
       "array([1.00000000e+08, 1.79889229e+08, 3.23601346e+08, 5.82123967e+08,\n",
       "       1.04717831e+09, 1.88376099e+09, 3.38868313e+09, 6.09587594e+09,\n",
       "       1.09658242e+10, 1.97263366e+10, 3.54855548e+10, 6.38346909e+10,\n",
       "       1.14831733e+11, 2.06569919e+11, 3.71597035e+11, 6.68463041e+11,\n",
       "       1.20249301e+12, 2.16315540e+12, 3.89128357e+12, 7.00000000e+12])"
      ]
     },
     "execution_count": 24,
     "metadata": {},
     "output_type": "execute_result"
    }
   ],
   "source": [
    "ir_binning"
   ]
  },
  {
   "cell_type": "code",
   "execution_count": 22,
   "id": "2940cb7b",
   "metadata": {},
   "outputs": [],
   "source": [
    "import numpy as np\n",
    "from scipy import stats"
   ]
  },
  {
   "cell_type": "code",
   "execution_count": 47,
   "id": "4fbd8bcf",
   "metadata": {},
   "outputs": [],
   "source": [
    "data_z6 = (halos_cii_v1_z6/halo_IR_z6)\n",
    "bins_z6 = halo_IR_z6"
   ]
  },
  {
   "cell_type": "code",
   "execution_count": 60,
   "id": "f5e66403",
   "metadata": {},
   "outputs": [],
   "source": [
    "st = stats.binned_statistic(bins_z6, data_z6, 'median', bins=ir_binning)"
   ]
  },
  {
   "cell_type": "code",
   "execution_count": 63,
   "id": "29decd0a",
   "metadata": {},
   "outputs": [],
   "source": [
    "data_z8 = (halos_cii_v1_z8/halo_IR_z8)\n",
    "bins_z8 = halo_IR_z8"
   ]
  },
  {
   "cell_type": "code",
   "execution_count": 64,
   "id": "1a1a12a6",
   "metadata": {},
   "outputs": [],
   "source": [
    "st8 = stats.binned_statistic(bins_z8, data_z8, 'median', bins=ir_binning)"
   ]
  },
  {
   "cell_type": "code",
   "execution_count": 61,
   "id": "2be984c9",
   "metadata": {},
   "outputs": [
    {
     "data": {
      "text/plain": [
       "array([1.18262670e-02, 6.89008191e-03, 4.14095267e-03, 2.53693499e-03,\n",
       "       1.60903909e-03, 1.08650033e-03, 7.82044324e-04, 5.74441797e-04,\n",
       "       4.29269139e-04, 3.17014833e-04, 2.32982150e-04, 1.71348470e-04,\n",
       "       1.25935337e-04, 9.26809185e-05, 6.95501972e-05, 4.82301543e-05,\n",
       "       3.52442454e-05, 2.60347502e-05, 1.49992799e-05])"
      ]
     },
     "execution_count": 61,
     "metadata": {},
     "output_type": "execute_result"
    }
   ],
   "source": [
    "st[0]"
   ]
  },
  {
   "cell_type": "code",
   "execution_count": 69,
   "id": "047e3834",
   "metadata": {},
   "outputs": [
    {
     "data": {
      "image/png": "[encoded data removed]",
      "text/plain": [
       "<Figure size 576x504 with 1 Axes>"
      ]
     },
     "metadata": {
      "needs_background": "light"
     },
     "output_type": "display_data"
    }
   ],
   "source": [
    "plt.plot(ir_bin_center, st[0])\n",
    "plt.plot(ir_bin_center, st8[0])\n",
    "plt.xscale('log')\n",
    "plt.yscale('log')"
   ]
  },
  {
   "cell_type": "code",
   "execution_count": 68,
   "id": "1408988e",
   "metadata": {},
   "outputs": [
    {
     "data": {
      "text/plain": [
       "array([9.44706337e-05, 1.66319894e-04, 1.16502198e-04, ...,\n",
       "       1.65693924e-03, 2.68177749e-03, 5.58279433e-03])"
      ]
     },
     "execution_count": 68,
     "metadata": {},
     "output_type": "execute_result"
    }
   ],
   "source": [
    "(halos_cii_v1_z6/halo_IR_z6)"
   ]
  },
  {
   "cell_type": "code",
   "execution_count": 29,
   "id": "e6e915a3",
   "metadata": {},
   "outputs": [
    {
     "data": {
      "text/plain": [
       "array([1.00000000e+08, 1.79889229e+08, 3.23601346e+08, 5.82123967e+08,\n",
       "       1.04717831e+09, 1.88376099e+09, 3.38868313e+09, 6.09587594e+09,\n",
       "       1.09658242e+10, 1.97263366e+10, 3.54855548e+10, 6.38346909e+10,\n",
       "       1.14831733e+11, 2.06569919e+11, 3.71597035e+11, 6.68463041e+11,\n",
       "       1.20249301e+12, 2.16315540e+12, 3.89128357e+12, 7.00000000e+12])"
      ]
     },
     "execution_count": 29,
     "metadata": {},
     "output_type": "execute_result"
    }
   ],
   "source": [
    "ir_binning"
   ]
  },
  {
   "cell_type": "code",
   "execution_count": 45,
   "id": "f37b85eb",
   "metadata": {},
   "outputs": [],
   "source": [
    "from scipy.stats import binned_statistic\n",
    "data = [1,2,2,2,3,4]\n",
    "bin_means = binned_statistic(data, data, bins=[0, 1.5, 2.5, 5])"
   ]
  },
  {
   "cell_type": "code",
   "execution_count": 46,
   "id": "1480603d",
   "metadata": {},
   "outputs": [
    {
     "data": {
      "text/plain": [
       "BinnedStatisticResult(statistic=array([1. , 2. , 3.5]), bin_edges=array([0. , 1.5, 2.5, 5. ]), binnumber=array([1, 2, 2, 2, 3, 3]))"
      ]
     },
     "execution_count": 46,
     "metadata": {},
     "output_type": "execute_result"
    }
   ],
   "source": [
    "bin_means"
   ]
  },
  {
   "cell_type": "code",
   "execution_count": null,
   "id": "77ab110f",
   "metadata": {},
   "outputs": [],
   "source": []
  }
 ],
 "metadata": {
  "kernelspec": {
   "display_name": "Python 3 (ipykernel)",
   "language": "python",
   "name": "python3"
  },
  "language_info": {
   "codemirror_mode": {
    "name": "ipython",
    "version": 3
   },
   "file_extension": ".py",
   "mimetype": "text/x-python",
   "name": "python",
   "nbconvert_exporter": "python",
   "pygments_lexer": "ipython3",
   "version": "3.10.2"
  }
 },
 "nbformat": 4,
 "nbformat_minor": 5
}
