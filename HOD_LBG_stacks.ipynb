{
 "cells": [
  {
   "cell_type": "code",
   "execution_count": 1,
   "id": "0908957b",
   "metadata": {},
   "outputs": [
    {
     "name": "stderr",
     "output_type": "stream",
     "text": [
      "WARNING: AstropyDeprecationWarning: `astropy.cosmology.core.FlatLambdaCDM` has been moved (since v5.0) and should be imported as ``from astropy.cosmology import FlatLambdaCDM``. In future this will raise an exception. [astropy.cosmology.core]\n"
     ]
    }
   ],
   "source": [
    "import numpy as np\n",
    "from scipy import special\n",
    "import matplotlib\n",
    "import matplotlib.pyplot as plt\n",
    "import astropy.units as u # I use astropy units in everything, very helpful for bookkeeping/debugging\n",
    "\n",
    "from lim import lim # The base intensity mapping object\n",
    "\n",
    "matplotlib.rcParams.update({'font.size': 18,'figure.figsize':[8,7]}) # Make figures better\n",
    "#matplotlib.rcParams,update({}'figure.figsize'] = [8,7]\n",
    "from scipy.ndimage import gaussian_filter\n",
    "plt.rcParams[\"mathtext.fontset\"] = \"dejavuserif\""
   ]
  },
  {
   "cell_type": "code",
   "execution_count": null,
   "id": "010771c2",
   "metadata": {},
   "outputs": [],
   "source": []
  }
 ],
 "metadata": {
  "kernelspec": {
   "display_name": "Python 3 (ipykernel)",
   "language": "python",
   "name": "python3"
  },
  "language_info": {
   "codemirror_mode": {
    "name": "ipython",
    "version": 3
   },
   "file_extension": ".py",
   "mimetype": "text/x-python",
   "name": "python",
   "nbconvert_exporter": "python",
   "pygments_lexer": "ipython3",
   "version": "3.10.2"
  }
 },
 "nbformat": 4,
 "nbformat_minor": 5
}
