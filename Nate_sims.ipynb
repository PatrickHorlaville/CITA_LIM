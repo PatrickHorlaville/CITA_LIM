{
 "cells": [
  {
   "cell_type": "code",
   "execution_count": 1,
   "id": "cf60c291",
   "metadata": {},
   "outputs": [
    {
     "name": "stderr",
     "output_type": "stream",
     "text": [
      "WARNING: AstropyDeprecationWarning: `astropy.cosmology.core.FlatLambdaCDM` has been moved (since v5.0) and should be imported as ``from astropy.cosmology import FlatLambdaCDM``. In future this will raise an exception. [astropy.cosmology.core]\n"
     ]
    }
   ],
   "source": [
    "import numpy as np\n",
    "import matplotlib\n",
    "import matplotlib.pyplot as plt\n",
    "import astropy.units as u # I use astropy units in everything, very helpful for bookkeeping/debugging\n",
    "\n",
    "from lim import lim # The base intensity mapping object\n",
    "\n",
    "matplotlib.rcParams.update({'font.size': 18,'figure.figsize':[8,7]}) # Make figures better\n",
    "#matplotlib.rcParams,update({}'figure.figsize'] = [8,7]\n",
    "from scipy.ndimage import gaussian_filter"
   ]
  },
  {
   "cell_type": "code",
   "execution_count": 2,
   "id": "5ee41e2f",
   "metadata": {},
   "outputs": [],
   "source": [
    "data = np.load('nate_sims/new_nate_lightcone.npz', allow_pickle = True)"
   ]
  },
  {
   "cell_type": "code",
   "execution_count": 3,
   "id": "dd7e823f",
   "metadata": {},
   "outputs": [
    {
     "data": {
      "text/plain": [
       "array([[-3.82396355e+01,  2.36126694e+02,  6.73134668e+03, ...,\n",
       "         2.34500000e+02,  6.72850000e+03,  5.92143583e+00],\n",
       "       [-4.88217560e+02,  9.98937531e+01,  6.81045850e+03, ...,\n",
       "         9.75000000e+01,  6.81450000e+03,  6.41378117e+00],\n",
       "       [-7.57260818e+01,  4.37949249e+02,  6.85425244e+03, ...,\n",
       "         4.33500061e+02,  6.85350000e+03,  6.40876436e+00],\n",
       "       ...,\n",
       "       [ 4.32893646e+02, -1.27911749e+01,  6.49955713e+03, ...,\n",
       "        -1.25000000e+01,  6.49950000e+03,  6.33086157e+00],\n",
       "       [ 4.37036163e+02, -1.24819355e+01,  6.49879443e+03, ...,\n",
       "        -1.25000000e+01,  6.49950000e+03,  6.05224180e+00],\n",
       "       [ 3.24653351e+02, -7.62369251e+00,  6.49859229e+03, ...,\n",
       "        -6.50000000e+00,  6.49950000e+03,  6.49030733e+00]], dtype=float32)"
      ]
     },
     "execution_count": 3,
     "metadata": {},
     "output_type": "execute_result"
    }
   ],
   "source": [
    "data['peak']"
   ]
  },
  {
   "cell_type": "code",
   "execution_count": null,
   "id": "2f564b6f",
   "metadata": {},
   "outputs": [],
   "source": []
  }
 ],
 "metadata": {
  "kernelspec": {
   "display_name": "Python 3 (ipykernel)",
   "language": "python",
   "name": "python3"
  },
  "language_info": {
   "codemirror_mode": {
    "name": "ipython",
    "version": 3
   },
   "file_extension": ".py",
   "mimetype": "text/x-python",
   "name": "python",
   "nbconvert_exporter": "python",
   "pygments_lexer": "ipython3",
   "version": "3.10.2"
  }
 },
 "nbformat": 4,
 "nbformat_minor": 5
}
