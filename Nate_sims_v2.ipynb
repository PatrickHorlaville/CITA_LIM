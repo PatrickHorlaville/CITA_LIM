{
 "cells": [
  {
   "cell_type": "code",
   "execution_count": 1,
   "id": "639af411",
   "metadata": {},
   "outputs": [
    {
     "name": "stderr",
     "output_type": "stream",
     "text": [
      "WARNING: AstropyDeprecationWarning: `astropy.cosmology.core.FlatLambdaCDM` has been moved (since v5.0) and should be imported as ``from astropy.cosmology import FlatLambdaCDM``. In future this will raise an exception. [astropy.cosmology.core]\n"
     ]
    }
   ],
   "source": [
    "import numpy as np\n",
    "from scipy import special\n",
    "import matplotlib\n",
    "import matplotlib.pyplot as plt\n",
    "import astropy.units as u # I use astropy units in everything, very helpful for bookkeeping/debugging\n",
    "\n",
    "from lim import lim # The base intensity mapping object\n",
    "\n",
    "matplotlib.rcParams.update({'font.size': 18,'figure.figsize':[8,7]}) # Make figures better\n",
    "#matplotlib.rcParams,update({}'figure.figsize'] = [8,7]\n",
    "from scipy.ndimage import gaussian_filter\n",
    "plt.rcParams[\"mathtext.fontset\"] = \"dejavuserif\""
   ]
  },
  {
   "cell_type": "code",
   "execution_count": 2,
   "id": "20968ca1",
   "metadata": {},
   "outputs": [
    {
     "name": "stdout",
     "output_type": "stream",
     "text": [
      "Input cosmological model does not match simulations\n",
      "Setting analytic cosmology to match simulation\n"
     ]
    }
   ],
   "source": [
    "# Initialize LineModel with default model\n",
    "m = lim()\n",
    "m_cii = lim('Lichen_v4', doSim = True)"
   ]
  },
  {
   "cell_type": "code",
   "execution_count": null,
   "id": "0dfe9053",
   "metadata": {},
   "outputs": [],
   "source": [
    "m_cii.update(model_par = {'zdex': 0.4,\n",
    "                            'M0': 1900000000.0,\n",
    "                            'Mmin': 20000000000,\n",
    "                            'alpha_MH1': 0.74,\n",
    "                            'alpha_LCII': 0.024,\n",
    "                            'BehrooziFile': 'sfr_reinterp.dat'},\n",
    "               tobs = 40000*u.GHz,\n",
    "               nuObs = 270*u.GHz,\n",
    "               Delta_nu = 40*u.GHz,\n",
    "               Omega_field = 4*(u.deg**2),\n",
    "               dnu = 2.8*u.GHz,\n",
    "               catalogue_file = '/home/dongwooc/scratchspace/pprun_hiz_npz/COMAP_z5.8-7.9_960Mpc_seed_13819.npz'\n",
    "            )"
   ]
  },
  {
   "cell_type": "code",
   "execution_count": null,
   "id": "ee693dcd",
   "metadata": {},
   "outputs": [],
   "source": [
    "now = datetime.now()\n",
    "current_time = now.strftime(\"%H:%M:%S\")\n",
    "print(\"Beginning time =\", current_time)\n",
    "print(\"------\")\n",
    "\n",
    "for i in range(len(onlyfiles)):\n",
    "    \n",
    "    m_cii.update(catalogue_file = f\"{onlyfiles[i]}\")\n",
    "    \n",
    "    print('Loading', i, 'th lightcone...')\n",
    "    \n",
    "    np.save('/mnt/scratch-lustre/horlaville/nuObs270/zdex04/alpha_cii_0-024/alpha_mhi_0-80/sig/cii_sig'+str(i)+'.npy', m_cii.maps.value)\n",
    "    np.save('/mnt/scratch-lustre/horlaville/nuObs270/zdex04/alpha_cii_0-024/alpha_mhi_0-80/for/cii_for'+str(i)+'.npy', m_cii.noise_added_map)\n",
    "    np.save('/mnt/scratch-lustre/horlaville/nuObs270/zdex04/alpha_cii_0-024/alpha_mhi_0-80/pspec/cii_pspec'+str(i)+'.npy', m_cii.Pk_sim.value)\n",
    "    \n",
    "    print('Finished loading', i, 'th lightcone!')\n",
    "    \n",
    "now = datetime.now()\n",
    "current_time = now.strftime(\"%H:%M:%S\")\n",
    "print(\"------\")\n",
    "print(\"Finished at =\", current_time)"
   ]
  },
  {
   "cell_type": "code",
   "execution_count": 5,
   "id": "64a5ad6f",
   "metadata": {},
   "outputs": [
    {
     "name": "stdout",
     "output_type": "stream",
     "text": [
      "z = 6:\n",
      "294.14044935109234\n",
      "247.57320832430656\n"
     ]
    }
   ],
   "source": [
    "print('z = 6:')\n",
    "print(1897/(5.4493 + 1))\n",
    "print(1897/(6.66238 + 1))"
   ]
  },
  {
   "cell_type": "code",
   "execution_count": 6,
   "id": "4c968c5d",
   "metadata": {},
   "outputs": [
    {
     "name": "stdout",
     "output_type": "stream",
     "text": [
      "z = 7.5:\n",
      "243.6424351399949\n",
      "203.11579849028323\n"
     ]
    }
   ],
   "source": [
    "print('z = 7.5:')\n",
    "print(1897/(6.786 + 1))\n",
    "print(1897/(8.3395 + 1))"
   ]
  },
  {
   "cell_type": "code",
   "execution_count": null,
   "id": "3aea29ca",
   "metadata": {},
   "outputs": [],
   "source": [
    "'/mnt/scratch-lustre/njcarlson/peak-patch-runs/23.04.29_LIM_production_runs/z6/'"
   ]
  },
  {
   "cell_type": "code",
   "execution_count": null,
   "id": "16b12822",
   "metadata": {},
   "outputs": [],
   "source": []
  },
  {
   "cell_type": "code",
   "execution_count": null,
   "id": "60e2486b",
   "metadata": {},
   "outputs": [],
   "source": [
    "'/mnt/scratch-lustre/njcarlson/peak-patch-runs/23.04.29_LIM_production_runs/z6/ng0_13580/output/500Mpc_n432_nb74_nt3_merge.pksc.13580'"
   ]
  },
  {
   "cell_type": "code",
   "execution_count": 11,
   "id": "f438d530",
   "metadata": {},
   "outputs": [
    {
     "data": {
      "text/plain": [
       "[]"
      ]
     },
     "execution_count": 11,
     "metadata": {},
     "output_type": "execute_result"
    }
   ],
   "source": [
    "onlyfiles"
   ]
  },
  {
   "cell_type": "code",
   "execution_count": 22,
   "id": "558c81fa",
   "metadata": {},
   "outputs": [],
   "source": [
    "from pathlib import Path\n",
    "\n",
    "z6g_paths = [str(path) for path in Path('/mnt/scratch-lustre/njcarlson/peak-patch-runs/23.04.29_LIM_production_runs/z6/').resolve().glob(\"ng0*/output/500Mpc_n432_nb74_nt3_merge*\")]\n",
    "z6ng7_paths = [str(path) for path in Path('/mnt/scratch-lustre/njcarlson/peak-patch-runs/23.04.29_LIM_production_runs/z6/').resolve().glob(\"ng7*/output/500Mpc_n432_nb74_nt3_merge*\")]\n",
    "z6ng8_paths = [str(path) for path in Path('/mnt/scratch-lustre/njcarlson/peak-patch-runs/23.04.29_LIM_production_runs/z6/').resolve().glob(\"ng8*/output/500Mpc_n432_nb74_nt3_merge*\")]\n",
    "\n",
    "z7g_paths = [str(path) for path in Path('/mnt/scratch-lustre/njcarlson/peak-patch-runs/23.04.29_LIM_production_runs/z7.5/').resolve().glob(\"ng0*/output/500Mpc_n432_nb74_nt3_merge*\")]\n",
    "z7ng7_paths = [str(path) for path in Path('/mnt/scratch-lustre/njcarlson/peak-patch-runs/23.04.29_LIM_production_runs/z7.5/').resolve().glob(\"ng7*/output/500Mpc_n432_nb74_nt3_merge*\")]\n",
    "z7ng8_paths = [str(path) for path in Path('/mnt/scratch-lustre/njcarlson/peak-patch-runs/23.04.29_LIM_production_runs/z7.5/').resolve().glob(\"ng8*/output/500Mpc_n432_nb74_nt3_merge*\")]"
   ]
  },
  {
   "cell_type": "code",
   "execution_count": null,
   "id": "0b5efb4b",
   "metadata": {},
   "outputs": [],
   "source": []
  }
 ],
 "metadata": {
  "kernelspec": {
   "display_name": "Python 3 (ipykernel)",
   "language": "python",
   "name": "python3"
  },
  "language_info": {
   "codemirror_mode": {
    "name": "ipython",
    "version": 3
   },
   "file_extension": ".py",
   "mimetype": "text/x-python",
   "name": "python",
   "nbconvert_exporter": "python",
   "pygments_lexer": "ipython3",
   "version": "3.10.2"
  }
 },
 "nbformat": 4,
 "nbformat_minor": 5
}
