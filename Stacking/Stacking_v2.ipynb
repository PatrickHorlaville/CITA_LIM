{
 "cells": [
  {
   "cell_type": "markdown",
   "id": "6b3c4cfd",
   "metadata": {},
   "source": [
    "# Stacking Analysis -- usage"
   ]
  },
  {
   "cell_type": "code",
   "execution_count": 2,
   "id": "9cdd5668",
   "metadata": {},
   "outputs": [
    {
     "data": {
      "text/plain": [
       "'/cita/h/home-2/horlaville/clara_limlam/limCode2020-master_clara_2/Stacking'"
      ]
     },
     "execution_count": 2,
     "metadata": {},
     "output_type": "execute_result"
    }
   ],
   "source": [
    "%pwd"
   ]
  },
  {
   "cell_type": "code",
   "execution_count": 13,
   "id": "648c96a6",
   "metadata": {},
   "outputs": [
    {
     "name": "stderr",
     "output_type": "stream",
     "text": [
      "WARNING: AstropyDeprecationWarning: `astropy.cosmology.core.FlatLambdaCDM` has been moved (since v5.0) and should be imported as ``from astropy.cosmology import FlatLambdaCDM``. In future this will raise an exception. [astropy.cosmology.core]\n"
     ]
    }
   ],
   "source": [
    "import numpy as np\n",
    "import matplotlib\n",
    "import matplotlib.pyplot as plt\n",
    "import astropy.units as u # I use astropy units in everything, very helpful for bookkeeping/debugging\n",
    "\n",
    "import sys \n",
    "sys.path.append('..')\n",
    "\n",
    "from lim import lim # The base intensity mapping object\n",
    "\n",
    "matplotlib.rcParams.update({'font.size': 18,'figure.figsize':[8,7]}) # Make figures better\n",
    "#matplotlib.rcParams,update({}'figure.figsize'] = [8,7]"
   ]
  },
  {
   "cell_type": "code",
   "execution_count": 14,
   "id": "4767fccf",
   "metadata": {},
   "outputs": [],
   "source": [
    "# Initialize LineModel with default model\n",
    "m = lim()"
   ]
  },
  {
   "cell_type": "code",
   "execution_count": 15,
   "id": "19a16892",
   "metadata": {},
   "outputs": [
    {
     "name": "stdout",
     "output_type": "stream",
     "text": [
      "Input cosmological model does not match simulations\n",
      "Setting analytic cosmology to match simulation\n"
     ]
    }
   ],
   "source": [
    "m_noise = lim('Lichen_v2',doSim=True)"
   ]
  },
  {
   "cell_type": "code",
   "execution_count": null,
   "id": "e3bfb66e",
   "metadata": {},
   "outputs": [],
   "source": []
  }
 ],
 "metadata": {
  "kernelspec": {
   "display_name": "Python 3 (ipykernel)",
   "language": "python",
   "name": "python3"
  },
  "language_info": {
   "codemirror_mode": {
    "name": "ipython",
    "version": 3
   },
   "file_extension": ".py",
   "mimetype": "text/x-python",
   "name": "python",
   "nbconvert_exporter": "python",
   "pygments_lexer": "ipython3",
   "version": "3.10.2"
  }
 },
 "nbformat": 4,
 "nbformat_minor": 5
}
