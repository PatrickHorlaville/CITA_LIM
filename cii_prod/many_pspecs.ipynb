{
 "cells": [
  {
   "cell_type": "code",
   "execution_count": null,
   "id": "0354558a",
   "metadata": {},
   "outputs": [],
   "source": [
    "%cd '/mnt/scratch-lustre/horlaville/clara_limlam/limCode2020-master_clara_2/'"
   ]
  },
  {
   "cell_type": "code",
   "execution_count": null,
   "id": "47ddad53",
   "metadata": {},
   "outputs": [],
   "source": [
    "import numpy as np\n",
    "import matplotlib\n",
    "import matplotlib.pyplot as plt\n",
    "import astropy.units as u # I use astropy units in everything, very helpful for bookkeeping/debugging\n",
    "\n",
    "from lim import lim # The base intensity mapping object\n",
    "\n",
    "matplotlib.rcParams.update({'font.size': 18,'figure.figsize':[8,7]}) # Make figures better\n",
    "#matplotlib.rcParams,update({}'figure.figsize'] = [8,7]\n",
    "from scipy.ndimage import gaussian_filter\n",
    "plt.rcParams[\"mathtext.fontset\"] = \"dejavuserif\"\n",
    "\n",
    "# new formatting:\n",
    "plt.rcParams['text.usetex'] = True\n",
    "plt.rcParams['text.latex.preamble'] = '\\\\usepackage{tgheros}\\\\usepackage{sansmath}\\\\sansmath'"
   ]
  },
  {
   "cell_type": "markdown",
   "id": "27f40050",
   "metadata": {},
   "source": [
    "multi-band"
   ]
  },
  {
   "cell_type": "code",
   "execution_count": null,
   "id": "58297dff",
   "metadata": {},
   "outputs": [],
   "source": [
    "pspec226 = [0 for i in range(len(onlyfiles))]\n",
    "pspec270 = [0 for i in range(len(onlyfiles))]\n",
    "\n",
    "for i in range(len(onlyfiles)):\n",
    "    pspec226[i] = np.load('/mnt/scratch-lustre/horlaville/nuObs226_corr/zdex04/cii_pspec_nuObs226/cii_pspec'+str(i)+'.npy')\n",
    "    pspec270[i] = np.load('/mnt/scratch-lustre/horlaville/nuObs270_corr/zdex04/alpha_cii_0-024/alpha_mhi_0-74/Mmin_2-10e10/alpha0_-1_412/gamma0_0_31/pspec/cii_pspec'+str(i)+'.npy')"
   ]
  },
  {
   "cell_type": "code",
   "execution_count": null,
   "id": "76006114",
   "metadata": {},
   "outputs": [],
   "source": [
    "Pk_trend_26 = np.mean(pspec226, axis = 0)\n",
    "\n",
    "Pk_trend_70 = np.mean(pspec270, axis = 0)\n",
    "\n",
    "k_arr = np.load('/mnt/scratch-lustre/horlaville/nuObs226_corr/zdex04/cii_pspec_nuObs226/cii_pspec_ksim.npy')"
   ]
  },
  {
   "cell_type": "code",
   "execution_count": null,
   "id": "73b8f563",
   "metadata": {},
   "outputs": [],
   "source": [
    "plt.plot(k_arr, Pk_trend_26, label='nuObs=226GHz')\n",
    "plt.plot(k_arr, Pk_trend_70, label='nuObs=270GHz')\n",
    "plt.xscale('log')\n",
    "plt.yscale('log')\n",
    "plt.legend()\n",
    "plt.title('P(k)')"
   ]
  },
  {
   "cell_type": "code",
   "execution_count": null,
   "id": "56b29058",
   "metadata": {},
   "outputs": [],
   "source": [
    "combined_array = np.array(list(zip(k_arr, Pk_trend_70, Pk_trend_26)))"
   ]
  },
  {
   "cell_type": "code",
   "execution_count": null,
   "id": "a50def69",
   "metadata": {},
   "outputs": [],
   "source": [
    "np.savetxt('pspecs.dat', combined_array, fmt='%e', delimiter='\\t', header='k\\tPk_270\\tPk_226')"
   ]
  },
  {
   "cell_type": "code",
   "execution_count": null,
   "id": "ac99f4ce",
   "metadata": {},
   "outputs": [],
   "source": []
  },
  {
   "cell_type": "code",
   "execution_count": null,
   "id": "266afb76",
   "metadata": {},
   "outputs": [],
   "source": []
  },
  {
   "cell_type": "markdown",
   "id": "61f1d7dc",
   "metadata": {},
   "source": [
    "multi-$\\sigma_Z$"
   ]
  },
  {
   "cell_type": "code",
   "execution_count": null,
   "id": "33dc2c34",
   "metadata": {},
   "outputs": [],
   "source": [
    "pspec00 = [0 for i in range(len(onlyfiles))]\n",
    "pspec02 = [0 for i in range(len(onlyfiles))]\n",
    "pspec04 = [0 for i in range(len(onlyfiles))]\n",
    "pspec06 = [0 for i in range(len(onlyfiles))]\n",
    "pspec08 = [0 for i in range(len(onlyfiles))]\n",
    "pspec10 = [0 for i in range(len(onlyfiles))]\n",
    "\n",
    "for i in range(len(onlyfiles)):\n",
    "    pspec00[i] = np.load('/mnt/scratch-lustre/horlaville/nuObs270_corr/zdex00/pspec/cii_pspec'+str(i)+'.npy')\n",
    "    pspec02[i] = np.load('/mnt/scratch-lustre/horlaville/nuObs270_corr/zdex02//pspec/cii_pspec'+str(i)+'.npy')\n",
    "    pspec04[i] = np.load('/mnt/scratch-lustre/horlaville/nuObs270_corr/zdex04/alpha_cii_0-024/alpha_mhi_0-74/Mmin_2-10e10/alpha0_-1_412/gamma0_0_31/pspec/cii_pspec'+str(i)+'.npy')\n",
    "    pspec06[i] = np.load('/mnt/scratch-lustre/horlaville/nuObs270_corr/zdex06/pspec/cii_pspec'+str(i)+'.npy')\n",
    "    pspec08[i] = np.load('/mnt/scratch-lustre/horlaville/nuObs270_corr/zdex08/pspec/cii_pspec'+str(i)+'.npy')\n",
    "    pspec10[i] = np.load('/mnt/scratch-lustre/horlaville/nuObs270_corr/zdex10/pspec/cii_pspec'+str(i)+'.npy')"
   ]
  },
  {
   "cell_type": "code",
   "execution_count": null,
   "id": "277b6d2a",
   "metadata": {},
   "outputs": [],
   "source": [
    "Pk_trend_00 = np.median(pspec00, axis = 0)\n",
    "Pk_00_up = np.percentile(pspec00, 84, axis = 0)\n",
    "Pk_00_down = np.percentile(pspec00, 16, axis = 0)\n",
    "\n",
    "Pk_trend_02 = np.median(pspec02, axis = 0)\n",
    "Pk_02_up = np.percentile(pspec02, 84, axis = 0)\n",
    "Pk_02_down = np.percentile(pspec02, 16, axis = 0)\n",
    "\n",
    "Pk_trend_04 = np.median(pspec04, axis = 0)\n",
    "Pk_04_up = np.percentile(pspec04, 84, axis = 0)\n",
    "Pk_04_down = np.percentile(pspec04, 16, axis = 0)\n",
    "\n",
    "Pk_trend_06 = np.median(pspec06, axis = 0)\n",
    "Pk_06_up = np.percentile(pspec06, 84, axis = 0)\n",
    "Pk_06_down = np.percentile(pspec06, 16, axis = 0)\n",
    "\n",
    "Pk_trend_08 = np.median(pspec08, axis = 0)\n",
    "Pk_08_up = np.percentile(pspec08, 84, axis = 0)\n",
    "Pk_08_down = np.percentile(pspec08, 16, axis = 0)\n",
    "\n",
    "Pk_trend_10 = np.median(pspec10, axis = 0)\n",
    "Pk_10_up = np.percentile(pspec10, 84, axis = 0)\n",
    "Pk_10_down = np.percentile(pspec10, 16, axis = 0)"
   ]
  },
  {
   "cell_type": "code",
   "execution_count": null,
   "id": "87b0406c",
   "metadata": {},
   "outputs": [],
   "source": [
    "pspecs_k = k_arr"
   ]
  },
  {
   "cell_type": "code",
   "execution_count": null,
   "id": "0a211971",
   "metadata": {},
   "outputs": [],
   "source": [
    "f, a = plt.subplots()\n",
    "\n",
    "a.fill_between(pspecs_k[1:], Pk_00_down[1:], Pk_00_up[1:], alpha = 0.5, edgecolor='#1F968BFF', facecolor='#20A387FF')\n",
    "p01 = a.plot(pspecs_k[1:], Pk_trend_00[1:], color = '#1F968BFF', linestyle = '--')\n",
    "p02 = a.fill(np.nan, np.nan, alpha=0.5, edgecolor='#1F968BFF', facecolor='#20A387FF')\n",
    "\n",
    "\n",
    "a.fill_between(pspecs_k[1:], Pk_02_down[1:], Pk_02_up[1:], alpha=0.5, edgecolor='#287D8EFF', facecolor='#238A8DFF')\n",
    "p21 = a.plot(pspecs_k[1:], Pk_trend_02[1:], color = '#287D8EFF', linestyle = '--')\n",
    "p22 = a.fill(np.nan, np.nan, alpha=0.5, edgecolor='#287D8EFF', facecolor='#238A8DFF')\n",
    "\n",
    "\n",
    "a.fill_between(pspecs_k[1:], Pk_04_down[1:], Pk_04_up[1:], alpha=0.5, edgecolor='#33638DFF', facecolor='#2D708EFF')\n",
    "p41 = a.plot(pspecs_k[1:], Pk_trend_04[1:], color = '#33638DFF', linestyle = '--')\n",
    "p42 = a.fill(np.nan, np.nan, alpha=0.5, edgecolor='#33638DFF', facecolor='#2D708EFF')\n",
    "\n",
    "\n",
    "a.fill_between(pspecs_k[1:], Pk_06_down[1:], Pk_06_up[1:], alpha=0.5, edgecolor='#404788FF', facecolor='#39568CFF')\n",
    "p61 = a.plot(pspecs_k[1:], Pk_trend_06[1:], color = '#404788FF', linestyle = '--')\n",
    "p62 = a.fill(np.nan, np.nan, alpha=0.5, edgecolor='#404788FF', facecolor='#39568CFF')\n",
    "\n",
    "\n",
    "a.fill_between(pspecs_k[1:], Pk_08_down[1:], Pk_08_up[1:], alpha=0.5, edgecolor='#482677FF', facecolor='#453781FF')\n",
    "p81 = a.plot(pspecs_k[1:], Pk_trend_08[1:], color = '#482677FF', linestyle = '--')\n",
    "p82 = a.fill(np.nan, np.nan, alpha=0.5, edgecolor='#482677FF', facecolor='#453781FF')\n",
    "\n",
    "\n",
    "a.fill_between(pspecs_k[1:], Pk_10_down[1:], Pk_10_up[1:], alpha=0.5, edgecolor='#440154FF', facecolor='#481567FF')\n",
    "p101 = a.plot(pspecs_k[1:], Pk_trend_10[1:], color = '#440154FF', linestyle = '--')\n",
    "p102 = a.fill(np.nan, np.nan, alpha=0.5, edgecolor='#440154FF', facecolor='#481567FF')\n",
    "\n",
    "#a.legend([(p02[0], p01[0]), (p22[0], p21[0]), (p42[0], p41[0]), (p62[0], p61[0]), (p82[0], p81[0]), (p102[0], p101[0]), ], [('$\\\\sigma_Z$ = 0.0'), ('$\\\\sigma_Z$ = 0.2'), ('$\\\\sigma_Z$ = 0.4'), ('$\\\\sigma_Z$ = 0.6'), ('$\\\\sigma_Z$ = 0.8'), ('$\\\\sigma_Z$ = 1.0') ])\n",
    "a.legend([(p102[0], p101[0]), (p82[0], p81[0]), (p62[0], p61[0]), (p42[0], p41[0]), (p22[0], p21[0]), (p02[0], p01[0]), ], [('$\\\\sigma_Z$ = 1.0'), ('$\\\\sigma_Z$ = 0.8'), ('$\\\\sigma_Z$ = 0.6'), ('$\\\\sigma_Z$ = 0.4'), ('$\\\\sigma_Z$ = 0.2'), ('$\\\\sigma_Z$ = 0.0') ])\n",
    "\n",
    "\n",
    "\n",
    "\n",
    "plt.xscale('log')\n",
    "plt.yscale('log')\n",
    "plt.grid()\n",
    "plt.xlabel('k (Mpc$^{-1}$)')\n",
    "plt.ylabel('P(k) (Mpc$^3$ Jy$^2$ sr$^{-2}$)')\n",
    "plt.title('Average Power Spectrum')\n",
    "\n",
    "plt.savefig('paper_figs/corr/pspecs_zdexs.pdf', bbox_inches = 'tight')"
   ]
  },
  {
   "cell_type": "code",
   "execution_count": null,
   "id": "b81ac657",
   "metadata": {},
   "outputs": [],
   "source": []
  },
  {
   "cell_type": "code",
   "execution_count": null,
   "id": "3911c019",
   "metadata": {},
   "outputs": [],
   "source": []
  },
  {
   "cell_type": "code",
   "execution_count": null,
   "id": "7ec5d664",
   "metadata": {},
   "outputs": [],
   "source": []
  },
  {
   "cell_type": "code",
   "execution_count": null,
   "id": "4818577e",
   "metadata": {},
   "outputs": [],
   "source": []
  },
  {
   "cell_type": "code",
   "execution_count": null,
   "id": "31e9d766",
   "metadata": {},
   "outputs": [],
   "source": []
  },
  {
   "cell_type": "code",
   "execution_count": null,
   "id": "07ddc411",
   "metadata": {},
   "outputs": [],
   "source": []
  }
 ],
 "metadata": {
  "kernelspec": {
   "display_name": "Python 3 (ipykernel)",
   "language": "python",
   "name": "python3"
  },
  "language_info": {
   "codemirror_mode": {
    "name": "ipython",
    "version": 3
   },
   "file_extension": ".py",
   "mimetype": "text/x-python",
   "name": "python",
   "nbconvert_exporter": "python",
   "pygments_lexer": "ipython3",
   "version": "3.10.2"
  }
 },
 "nbformat": 4,
 "nbformat_minor": 5
}
