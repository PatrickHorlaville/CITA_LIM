{
 "cells": [
  {
   "cell_type": "markdown",
   "id": "0c7f03eb",
   "metadata": {},
   "source": [
    " # RESCALING EVERYTHING"
   ]
  },
  {
   "cell_type": "code",
   "execution_count": 1,
   "id": "3e108c39",
   "metadata": {},
   "outputs": [
    {
     "name": "stdout",
     "output_type": "stream",
     "text": [
      "/fs/lustre/scratch/horlaville/clara_limlam/limCode2020-master_clara_2\n"
     ]
    }
   ],
   "source": [
    "%cd '/mnt/scratch-lustre/horlaville/clara_limlam/limCode2020-master_clara_2/'"
   ]
  },
  {
   "cell_type": "code",
   "execution_count": 2,
   "id": "e4636cf3",
   "metadata": {},
   "outputs": [
    {
     "name": "stderr",
     "output_type": "stream",
     "text": [
      "WARNING: AstropyDeprecationWarning: `astropy.cosmology.core.FlatLambdaCDM` has been moved (since v5.0) and should be imported as ``from astropy.cosmology import FlatLambdaCDM``. In future this will raise an exception. [astropy.cosmology.core]\n"
     ]
    }
   ],
   "source": [
    "import numpy as np\n",
    "import matplotlib\n",
    "import matplotlib.pyplot as plt\n",
    "import astropy.units as u # I use astropy units in everything, very helpful for bookkeeping/debugging\n",
    "\n",
    "from lim import lim # The base intensity mapping object\n",
    "\n",
    "matplotlib.rcParams.update({'font.size': 18,'figure.figsize':[8,7]}) # Make figures better\n",
    "#matplotlib.rcParams,update({}'figure.figsize'] = [8,7]\n",
    "from scipy.ndimage import gaussian_filter\n",
    "plt.rcParams[\"mathtext.fontset\"] = \"dejavuserif\""
   ]
  },
  {
   "cell_type": "code",
   "execution_count": 3,
   "id": "0f5c6c21",
   "metadata": {},
   "outputs": [],
   "source": [
    "lc_paths = '/home/dongwooc/scratchspace/pprun_hiz_npz/'\n",
    "from os import listdir\n",
    "from os.path import isfile, join\n",
    "onlyfiles = [f for f in listdir(lc_paths) if isfile(join(lc_paths, f))]\n",
    "onlyfiles.remove('pksc2npz_5313591.out')\n",
    "onlyfiles.remove('pksc2npz.sh')\n",
    "for i in range(len(onlyfiles)):\n",
    "    onlyfiles[i] = lc_paths+onlyfiles[i]"
   ]
  },
  {
   "cell_type": "code",
   "execution_count": 55,
   "id": "c5400aa1",
   "metadata": {},
   "outputs": [
    {
     "name": "stdout",
     "output_type": "stream",
     "text": [
      "Input cosmological model does not match simulations\n",
      "Setting analytic cosmology to match simulation\n"
     ]
    }
   ],
   "source": [
    "# Initialize LineModel with default model\n",
    "m = lim()\n",
    "m_cii = lim('Lichen_v4', doSim = True)\n",
    "\n",
    "m_cii.update(model_par = {'zdex': 0.4,\n",
    " 'M0': 1900000000.0,\n",
    " 'Mmin': 20000000000,\n",
    " 'alpha_MH1': 0.74,\n",
    " 'alpha_LCII': 0.024,\n",
    " 'alpha0': -1.412,\n",
    " 'gamma0': 0.31,\n",
    " 'BehrooziFile': 'sfr_reinterp.dat'},\n",
    "            dnu = 2.8*u.GHz,\n",
    "            nuObs = 270*u.GHz,\n",
    "            Delta_nu = 40*u.GHz,\n",
    "            tobs = 40000*u.h,\n",
    "            Omega_field = 4*u.deg**2,\n",
    "            catalogue_file = '/home/dongwooc/scratchspace/pprun_hiz_npz/COMAP_z5.8-7.9_960Mpc_seed_13819.npz')"
   ]
  },
  {
   "cell_type": "markdown",
   "id": "ff880df8",
   "metadata": {},
   "source": [
    "# Need to rescale signal by 123%, pspec by (123%)² and noisy mocks need to be regenerated because of noise"
   ]
  },
  {
   "cell_type": "markdown",
   "id": "db2717fe",
   "metadata": {},
   "source": [
    "Need to check that if a given array is stored somewhere, that I can just overwrite it with np.save at that same location with a new array. Use a dummy example to make sure 100% that it works"
   ]
  },
  {
   "cell_type": "code",
   "execution_count": 4,
   "id": "9e7d285f",
   "metadata": {},
   "outputs": [
    {
     "data": {
      "text/plain": [
       "array([[1., 1., 1.],\n",
       "       [1., 1., 1.]])"
      ]
     },
     "execution_count": 4,
     "metadata": {},
     "output_type": "execute_result"
    }
   ],
   "source": [
    "dum = np.ones((2,3))\n",
    "dum"
   ]
  },
  {
   "cell_type": "code",
   "execution_count": 5,
   "id": "4e0884ea",
   "metadata": {},
   "outputs": [],
   "source": [
    "np.save('/mnt/scratch-lustre/horlaville/dum.npy', dum)"
   ]
  },
  {
   "cell_type": "code",
   "execution_count": 6,
   "id": "6a67fed8",
   "metadata": {},
   "outputs": [],
   "source": [
    "dumm = np.load('/mnt/scratch-lustre/horlaville/dum.npy')"
   ]
  },
  {
   "cell_type": "code",
   "execution_count": 8,
   "id": "2ef88b1e",
   "metadata": {},
   "outputs": [],
   "source": [
    "new_dum = 2*dumm"
   ]
  },
  {
   "cell_type": "code",
   "execution_count": 9,
   "id": "39333bda",
   "metadata": {},
   "outputs": [],
   "source": [
    "np.save('/mnt/scratch-lustre/horlaville/dum.npy', new_dum)"
   ]
  },
  {
   "cell_type": "code",
   "execution_count": 10,
   "id": "0fc2fd96",
   "metadata": {},
   "outputs": [],
   "source": [
    "new_dumm = np.load('/mnt/scratch-lustre/horlaville/dum.npy')"
   ]
  },
  {
   "cell_type": "code",
   "execution_count": 11,
   "id": "d6b8dbdb",
   "metadata": {},
   "outputs": [
    {
     "data": {
      "text/plain": [
       "array([[2., 2., 2.],\n",
       "       [2., 2., 2.]])"
      ]
     },
     "execution_count": 11,
     "metadata": {},
     "output_type": "execute_result"
    }
   ],
   "source": [
    "new_dumm"
   ]
  },
  {
   "cell_type": "markdown",
   "id": "fcef47ca",
   "metadata": {},
   "source": [
    "It works"
   ]
  },
  {
   "cell_type": "code",
   "execution_count": 13,
   "id": "183eb532",
   "metadata": {},
   "outputs": [],
   "source": [
    "sig_scale = 1.23\n",
    "pspec_scale = (1.23**2)"
   ]
  },
  {
   "cell_type": "markdown",
   "id": "d3f8cc1b",
   "metadata": {},
   "source": [
    "Personalize noise:"
   ]
  },
  {
   "cell_type": "code",
   "execution_count": 63,
   "id": "79d19b45",
   "metadata": {},
   "outputs": [
    {
     "data": {
      "text/latex": [
       "$3172.8111 \\; \\mathrm{\\frac{Jy}{sr}}$"
      ],
      "text/plain": [
       "<Quantity 3172.81108492 Jy / sr>"
      ]
     },
     "execution_count": 63,
     "metadata": {},
     "output_type": "execute_result"
    }
   ],
   "source": [
    "sigm = m_cii.sigma_N # for tobs = 40000h from parameters update above\n",
    "sigm"
   ]
  },
  {
   "cell_type": "code",
   "execution_count": 64,
   "id": "05725e73",
   "metadata": {},
   "outputs": [],
   "source": [
    "def own_noise(m, sig, pix=1.):\n",
    "    \n",
    "    '''\n",
    "    m is the limlam object\n",
    "    sig is the 3D cube of intensities\n",
    "    pix is the pixelization blurring desired. default is 1.\n",
    "    '''\n",
    "    \n",
    "    sm_map = gaussian_filter(sig, [pix, pix, 0])\n",
    "    noise_sigma  = sigm\n",
    "    noise_map    = np.random.normal(0, noise_sigma.to(u.Jy/u.sr, equivalencies=u.brightness_temperature(m.nuObs)).value, sig.shape)\n",
    "    # print(noise_sigma.to(u.Jy/u.sr).value)\n",
    "    sm_noise_map = sm_map + noise_map\n",
    "    \n",
    "    return sm_noise_map"
   ]
  },
  {
   "cell_type": "code",
   "execution_count": 65,
   "id": "954610a1",
   "metadata": {},
   "outputs": [],
   "source": [
    "for i in range(len(onlyfiles)):\n",
    "    \n",
    "    sigi = np.load('/mnt/scratch-lustre/horlaville/nuObs270/zdex04/alpha_cii_0-024/alpha_mhi_0-74/Mmin_2-10e10/alpha0_-1_412/gamma0_0_31/sig/cii_sig'+str(i)+'.npy')\n",
    "    \n",
    "    sigisc = sig_scale*sigi\n",
    "    newfor = own_noise(m_cii, sigisc)\n",
    "    \n",
    "    np.save('/mnt/scratch-lustre/horlaville/nuObs270_corr/zdex04/alpha_cii_0-024/alpha_mhi_0-74/Mmin_2-10e10/alpha0_-1_412/gamma0_0_31/sig/cii_sig'+str(i)+'.npy', sigisc)\n",
    "    np.save('/mnt/scratch-lustre/horlaville/nuObs270_corr/zdex04/alpha_cii_0-024/alpha_mhi_0-74/Mmin_2-10e10/alpha0_-1_412/gamma0_0_31/for/for_tobs40kh/cii_for'+str(i)+'.npy', newfor)"
   ]
  },
  {
   "cell_type": "code",
   "execution_count": 66,
   "id": "25342a91",
   "metadata": {},
   "outputs": [],
   "source": [
    "for i in range(len(onlyfiles)):\n",
    "    \n",
    "    sigi = np.load('/mnt/scratch-lustre/horlaville/nuObs270/zdex04/alpha_cii_0-024/alpha_mhi_0-74/Mmin_2-10e10/alpha0_-1_412/gamma0_0_27/sig/cii_sig'+str(i)+'.npy')\n",
    "    \n",
    "    sigisc = sig_scale*sigi\n",
    "    newfor = own_noise(m_cii, sigisc)\n",
    "    \n",
    "    np.save('/mnt/scratch-lustre/horlaville/nuObs270_corr/zdex04/alpha_cii_0-024/alpha_mhi_0-74/Mmin_2-10e10/alpha0_-1_412/gamma0_0_27/sig/cii_sig'+str(i)+'.npy', sigisc)\n",
    "    np.save('/mnt/scratch-lustre/horlaville/nuObs270_corr/zdex04/alpha_cii_0-024/alpha_mhi_0-74/Mmin_2-10e10/alpha0_-1_412/gamma0_0_27/for/for_tobs40kh/cii_for'+str(i)+'.npy', newfor)"
   ]
  },
  {
   "cell_type": "code",
   "execution_count": 67,
   "id": "9a77f2f5",
   "metadata": {},
   "outputs": [],
   "source": [
    "for i in range(len(onlyfiles)):\n",
    "    \n",
    "    sigi = np.load('/mnt/scratch-lustre/horlaville/nuObs270/zdex04/alpha_cii_0-024/alpha_mhi_0-74/Mmin_2-10e10/alpha0_-1_412/gamma0_0_35/sig/cii_sig'+str(i)+'.npy')\n",
    "    \n",
    "    sigisc = sig_scale*sigi\n",
    "    newfor = own_noise(m_cii, sigisc)\n",
    "    \n",
    "    np.save('/mnt/scratch-lustre/horlaville/nuObs270_corr/zdex04/alpha_cii_0-024/alpha_mhi_0-74/Mmin_2-10e10/alpha0_-1_412/gamma0_0_35/sig/cii_sig'+str(i)+'.npy', sigisc)\n",
    "    np.save('/mnt/scratch-lustre/horlaville/nuObs270_corr/zdex04/alpha_cii_0-024/alpha_mhi_0-74/Mmin_2-10e10/alpha0_-1_412/gamma0_0_35/for/for_tobs40kh/cii_for'+str(i)+'.npy', newfor)"
   ]
  },
  {
   "cell_type": "code",
   "execution_count": 68,
   "id": "a53ea473",
   "metadata": {},
   "outputs": [],
   "source": [
    "for i in range(len(onlyfiles)):\n",
    "    \n",
    "    sigi = np.load('/mnt/scratch-lustre/horlaville/nuObs270/zdex04/alpha_cii_0-024/alpha_mhi_0-74/Mmin_2-10e10/alpha0_-1_312/sig/cii_sig'+str(i)+'.npy')\n",
    "    \n",
    "    sigisc = sig_scale*sigi\n",
    "    newfor = own_noise(m_cii, sigisc)\n",
    "    \n",
    "    np.save('/mnt/scratch-lustre/horlaville/nuObs270_corr/zdex04/alpha_cii_0-024/alpha_mhi_0-74/Mmin_2-10e10/alpha0_-1_312/sig/cii_sig'+str(i)+'.npy', sigisc)\n",
    "    np.save('/mnt/scratch-lustre/horlaville/nuObs270_corr/zdex04/alpha_cii_0-024/alpha_mhi_0-74/Mmin_2-10e10/alpha0_-1_312/for/for_tobs40kh/cii_for'+str(i)+'.npy', newfor)"
   ]
  },
  {
   "cell_type": "code",
   "execution_count": 69,
   "id": "d6f17d16",
   "metadata": {},
   "outputs": [],
   "source": [
    "for i in range(len(onlyfiles)):\n",
    "    \n",
    "    sigi = np.load('/mnt/scratch-lustre/horlaville/nuObs270/zdex04/alpha_cii_0-024/alpha_mhi_0-74/Mmin_2-10e10/alpha0_-1_512/sig/cii_sig'+str(i)+'.npy')\n",
    "    \n",
    "    sigisc = sig_scale*sigi\n",
    "    newfor = own_noise(m_cii, sigisc)\n",
    "    \n",
    "    np.save('/mnt/scratch-lustre/horlaville/nuObs270_corr/zdex04/alpha_cii_0-024/alpha_mhi_0-74/Mmin_2-10e10/alpha0_-1_512/sig/cii_sig'+str(i)+'.npy', sigisc)\n",
    "    np.save('/mnt/scratch-lustre/horlaville/nuObs270_corr/zdex04/alpha_cii_0-024/alpha_mhi_0-74/Mmin_2-10e10/alpha0_-1_512/for/for_tobs40kh/cii_for'+str(i)+'.npy', newfor)"
   ]
  },
  {
   "cell_type": "code",
   "execution_count": 70,
   "id": "cce97c5e",
   "metadata": {},
   "outputs": [],
   "source": [
    "for i in range(len(onlyfiles)):\n",
    "    \n",
    "    sigi = np.load('/mnt/scratch-lustre/horlaville/nuObs270/zdex04/alpha_cii_0-024/alpha_mhi_0-74/Mmin_2-10e9-9/sig/cii_sig'+str(i)+'.npy')\n",
    "    \n",
    "    sigisc = sig_scale*sigi\n",
    "    newfor = own_noise(m_cii, sigisc)\n",
    "    \n",
    "    np.save('/mnt/scratch-lustre/horlaville/nuObs270_corr/zdex04/alpha_cii_0-024/alpha_mhi_0-74/Mmin_2-10e9-9/sig/cii_sig'+str(i)+'.npy', sigisc)\n",
    "    np.save('/mnt/scratch-lustre/horlaville/nuObs270_corr/zdex04/alpha_cii_0-024/alpha_mhi_0-74/Mmin_2-10e9-9/for/for_tobs40kh/cii_for'+str(i)+'.npy', newfor)"
   ]
  },
  {
   "cell_type": "code",
   "execution_count": 71,
   "id": "e98520f2",
   "metadata": {},
   "outputs": [],
   "source": [
    "for i in range(len(onlyfiles)):\n",
    "    \n",
    "    sigi = np.load('/mnt/scratch-lustre/horlaville/nuObs270/zdex04/alpha_cii_0-024/alpha_mhi_0-74/Mmin_2-10e10-1/sig/cii_sig'+str(i)+'.npy')\n",
    "    \n",
    "    sigisc = sig_scale*sigi\n",
    "    newfor = own_noise(m_cii, sigisc)\n",
    "    \n",
    "    np.save('/mnt/scratch-lustre/horlaville/nuObs270_corr/zdex04/alpha_cii_0-024/alpha_mhi_0-74/Mmin_2-10e10-1/sig/cii_sig'+str(i)+'.npy', sigisc)\n",
    "    np.save('/mnt/scratch-lustre/horlaville/nuObs270_corr/zdex04/alpha_cii_0-024/alpha_mhi_0-74/Mmin_2-10e10-1/for/for_tobs40kh/cii_for'+str(i)+'.npy', newfor)"
   ]
  },
  {
   "cell_type": "code",
   "execution_count": 72,
   "id": "f1460473",
   "metadata": {},
   "outputs": [],
   "source": [
    "for i in range(len(onlyfiles)):\n",
    "    \n",
    "    sigi = np.load('/mnt/scratch-lustre/horlaville/nuObs270/zdex04/alpha_cii_0-024/alpha_mhi_0-68/sig/cii_sig'+str(i)+'.npy')\n",
    "    \n",
    "    sigisc = sig_scale*sigi\n",
    "    newfor = own_noise(m_cii, sigisc)\n",
    "    \n",
    "    np.save('/mnt/scratch-lustre/horlaville/nuObs270_corr/zdex04/alpha_cii_0-024/alpha_mhi_0-68/cii_sig'+str(i)+'.npy', sigisc)\n",
    "    np.save('/mnt/scratch-lustre/horlaville/nuObs270_corr/zdex04/alpha_cii_0-024/alpha_mhi_0-68/for/for_tobs40kh/cii_for'+str(i)+'.npy', newfor)"
   ]
  },
  {
   "cell_type": "code",
   "execution_count": 73,
   "id": "76eb267c",
   "metadata": {},
   "outputs": [],
   "source": [
    "for i in range(len(onlyfiles)):\n",
    "    \n",
    "    sigi = np.load('/mnt/scratch-lustre/horlaville/nuObs270/zdex04/alpha_cii_0-024/alpha_mhi_0-80/sig/cii_sig'+str(i)+'.npy')\n",
    "    \n",
    "    sigisc = sig_scale*sigi\n",
    "    newfor = own_noise(m_cii, sigisc)\n",
    "    \n",
    "    np.save('/mnt/scratch-lustre/horlaville/nuObs270_corr/zdex04/alpha_cii_0-024/alpha_mhi_0-80/sig/cii_sig'+str(i)+'.npy', sigisc)\n",
    "    np.save('/mnt/scratch-lustre/horlaville/nuObs270_corr/zdex04/alpha_cii_0-024/alpha_mhi_0-80/for/for_tobs40kh/cii_for'+str(i)+'.npy', newfor)"
   ]
  },
  {
   "cell_type": "code",
   "execution_count": 74,
   "id": "d9984085",
   "metadata": {},
   "outputs": [],
   "source": [
    "for i in range(len(onlyfiles)):\n",
    "    \n",
    "    sigi = np.load('/mnt/scratch-lustre/horlaville/nuObs270/zdex04/alpha_cii_0-020/sig/cii_sig'+str(i)+'.npy')\n",
    "    \n",
    "    sigisc = sig_scale*sigi\n",
    "    newfor = own_noise(m_cii, sigisc)\n",
    "    \n",
    "    np.save('/mnt/scratch-lustre/horlaville/nuObs270_corr/zdex04/alpha_cii_0-020/cii_sig'+str(i)+'.npy', sigisc)\n",
    "    np.save('/mnt/scratch-lustre/horlaville/nuObs270_corr/zdex04/alpha_cii_0-020/for/for_tobs40kh/cii_for'+str(i)+'.npy', newfor)"
   ]
  },
  {
   "cell_type": "code",
   "execution_count": 75,
   "id": "92aa0118",
   "metadata": {},
   "outputs": [],
   "source": [
    "for i in range(len(onlyfiles)):\n",
    "    \n",
    "    sigi = np.load('/mnt/scratch-lustre/horlaville/nuObs270/zdex04/alpha_cii_0-028/sig/cii_sig'+str(i)+'.npy')\n",
    "    \n",
    "    sigisc = sig_scale*sigi\n",
    "    newfor = own_noise(m_cii, sigisc)\n",
    "    \n",
    "    np.save('/mnt/scratch-lustre/horlaville/nuObs270_corr/zdex04/alpha_cii_0-028/cii_sig'+str(i)+'.npy', sigisc)\n",
    "    np.save('/mnt/scratch-lustre/horlaville/nuObs270_corr/zdex04/alpha_cii_0-028/for/for_tobs40kh/cii_for'+str(i)+'.npy', newfor)"
   ]
  },
  {
   "cell_type": "code",
   "execution_count": 76,
   "id": "7f42721a",
   "metadata": {},
   "outputs": [],
   "source": [
    "for i in range(len(onlyfiles)):\n",
    "    \n",
    "    sigi = np.load('/mnt/scratch-lustre/horlaville/nuObs270/zdex03/sig/cii_sig'+str(i)+'.npy')\n",
    "    \n",
    "    sigisc = sig_scale*sigi\n",
    "    newfor = own_noise(m_cii, sigisc)\n",
    "    \n",
    "    np.save('/mnt/scratch-lustre/horlaville/nuObs270_corr/zdex03/cii_sig'+str(i)+'.npy', sigisc)\n",
    "    np.save('/mnt/scratch-lustre/horlaville/nuObs270_corr/zdex03/for/for_tobs40kh/cii_for'+str(i)+'.npy', newfor)"
   ]
  },
  {
   "cell_type": "code",
   "execution_count": 77,
   "id": "92d533e6",
   "metadata": {},
   "outputs": [],
   "source": [
    "for i in range(len(onlyfiles)):\n",
    "    \n",
    "    sigi = np.load('/mnt/scratch-lustre/horlaville/nuObs270/zdex05/sig/cii_sig'+str(i)+'.npy')\n",
    "    \n",
    "    sigisc = sig_scale*sigi\n",
    "    newfor = own_noise(m_cii, sigisc)\n",
    "    \n",
    "    np.save('/mnt/scratch-lustre/horlaville/nuObs270_corr/zdex05/cii_sig'+str(i)+'.npy', sigisc)\n",
    "    np.save('/mnt/scratch-lustre/horlaville/nuObs270_corr/zdex05/for/for_tobs40kh/cii_for'+str(i)+'.npy', newfor)"
   ]
  },
  {
   "cell_type": "markdown",
   "id": "d6c9b0b9",
   "metadata": {},
   "source": [
    "pspec:"
   ]
  },
  {
   "cell_type": "code",
   "execution_count": 80,
   "id": "1c2c8321",
   "metadata": {},
   "outputs": [
    {
     "data": {
      "text/plain": [
       "1.5129"
      ]
     },
     "execution_count": 80,
     "metadata": {},
     "output_type": "execute_result"
    }
   ],
   "source": [
    "pspec_scale"
   ]
  },
  {
   "cell_type": "code",
   "execution_count": 79,
   "id": "ba123376",
   "metadata": {},
   "outputs": [],
   "source": [
    "for i in range(len(onlyfiles)):\n",
    "    \n",
    "    pspec270 = np.load('/mnt/scratch-lustre/horlaville/nuObs270/zdex04/alpha_cii_0-024/alpha_mhi_0-74/Mmin_2-10e10/alpha0_-1_412/gamma0_0_31/pspec/cii_pspec'+str(i)+'.npy')\n",
    "    pspec226 = np.load('/mnt/scratch-lustre/horlaville/nuObs226/zdex04/cii_pspec_nuObs226/cii_pspec'+str(i)+'.npy')\n",
    "    \n",
    "    pspec270sc = pspec_scale*pspec270\n",
    "    pspec226sc = pspec_scale*pspec226\n",
    "    \n",
    "    np.save('/mnt/scratch-lustre/horlaville/nuObs270_corr/zdex04/alpha_cii_0-024/alpha_mhi_0-74/Mmin_2-10e10/alpha0_-1_412/gamma0_0_31/pspec/cii_pspec'+str(i)+'.npy', pspec270sc)\n",
    "    np.save('/mnt/scratch-lustre/horlaville/nuObs226_corr/zdex04/cii_pspec_nuObs226/cii_pspec'+str(i)+'.npy', pspec226sc)"
   ]
  },
  {
   "cell_type": "code",
   "execution_count": null,
   "id": "67eb417d",
   "metadata": {},
   "outputs": [],
   "source": []
  },
  {
   "cell_type": "markdown",
   "id": "df08c88d",
   "metadata": {},
   "source": [
    "with zdex:"
   ]
  },
  {
   "cell_type": "code",
   "execution_count": 81,
   "id": "9cac90dc",
   "metadata": {},
   "outputs": [],
   "source": [
    "for i in range(len(onlyfiles)):\n",
    "    \n",
    "    pspec = np.load('/mnt/scratch-lustre/horlaville/nuObs270/zdex00/pspec/cii_pspec'+str(i)+'.npy')    \n",
    "    \n",
    "    pspecsc = pspec_scale*pspec\n",
    "    \n",
    "    np.save('/mnt/scratch-lustre/horlaville/nuObs270_corr/zdex00/pspec/cii_pspec'+str(i)+'.npy', pspecsc)"
   ]
  },
  {
   "cell_type": "code",
   "execution_count": 82,
   "id": "92e31363",
   "metadata": {},
   "outputs": [],
   "source": [
    "for i in range(len(onlyfiles)):\n",
    "    \n",
    "    pspec = np.load('/mnt/scratch-lustre/horlaville/nuObs270/zdex02/pspec/cii_pspec'+str(i)+'.npy')    \n",
    "    \n",
    "    pspecsc = pspec_scale*pspec\n",
    "    \n",
    "    np.save('/mnt/scratch-lustre/horlaville/nuObs270_corr/zdex02/pspec/cii_pspec'+str(i)+'.npy', pspecsc)"
   ]
  },
  {
   "cell_type": "code",
   "execution_count": 84,
   "id": "610a3b8e",
   "metadata": {},
   "outputs": [],
   "source": [
    "for i in range(len(onlyfiles)):\n",
    "    \n",
    "    pspec = np.load('/mnt/scratch-lustre/horlaville/nuObs270/zdex06/pspec/cii_pspec'+str(i)+'.npy')    \n",
    "    \n",
    "    pspecsc = pspec_scale*pspec\n",
    "    \n",
    "    np.save('/mnt/scratch-lustre/horlaville/nuObs270_corr/zdex06/pspec/cii_pspec'+str(i)+'.npy', pspecsc)"
   ]
  },
  {
   "cell_type": "code",
   "execution_count": 85,
   "id": "54790b3a",
   "metadata": {},
   "outputs": [],
   "source": [
    "for i in range(len(onlyfiles)):\n",
    "    \n",
    "    pspec = np.load('/mnt/scratch-lustre/horlaville/nuObs270/zdex08/pspec/cii_pspec'+str(i)+'.npy')    \n",
    "    \n",
    "    pspecsc = pspec_scale*pspec\n",
    "    \n",
    "    np.save('/mnt/scratch-lustre/horlaville/nuObs270_corr/zdex08/pspec/cii_pspec'+str(i)+'.npy', pspecsc)"
   ]
  },
  {
   "cell_type": "code",
   "execution_count": 86,
   "id": "0d9d2088",
   "metadata": {},
   "outputs": [],
   "source": [
    "for i in range(len(onlyfiles)):\n",
    "    \n",
    "    pspec = np.load('/mnt/scratch-lustre/horlaville/nuObs270/zdex10/pspec/cii_pspec'+str(i)+'.npy')    \n",
    "    \n",
    "    pspecsc = pspec_scale*pspec\n",
    "    \n",
    "    np.save('/mnt/scratch-lustre/horlaville/nuObs270_corr/zdex10/pspec/cii_pspec'+str(i)+'.npy', pspecsc)"
   ]
  },
  {
   "cell_type": "markdown",
   "id": "91d3fbd3",
   "metadata": {},
   "source": [
    "stacks:"
   ]
  },
  {
   "cell_type": "code",
   "execution_count": 87,
   "id": "9d706d49",
   "metadata": {},
   "outputs": [
    {
     "data": {
      "text/plain": [
       "1.23"
      ]
     },
     "execution_count": 87,
     "metadata": {},
     "output_type": "execute_result"
    }
   ],
   "source": [
    "sig_scale"
   ]
  },
  {
   "cell_type": "code",
   "execution_count": 90,
   "id": "2f7c9a07",
   "metadata": {},
   "outputs": [],
   "source": [
    "for i in range(len(onlyfiles)):\n",
    "    \n",
    "    stac = np.load('/mnt/scratch-lustre/horlaville/nuObs270/zdex04/alpha_cii_0-024/alpha_mhi_0-74/Mmin_2-10e10/alpha0_-1_412/gamma0_0_31/stacks/LBGs_z5-9/sig/sig'+str(i)+'.npy', allow_pickle=True)    \n",
    "    \n",
    "    stasc = sig_scale*stac\n",
    "    \n",
    "    stasc.dump('/mnt/scratch-lustre/horlaville/nuObs270_corr/zdex04/alpha_cii_0-024/alpha_mhi_0-74/Mmin_2-10e10/alpha0_-1_412/gamma0_0_31/stacks/LBGs_z5-9/sig/sig'+str(i)+'.npy')"
   ]
  },
  {
   "cell_type": "code",
   "execution_count": 91,
   "id": "2099d040",
   "metadata": {},
   "outputs": [],
   "source": [
    "for i in range(len(onlyfiles)):\n",
    "    \n",
    "    stac = np.load('/mnt/scratch-lustre/horlaville/nuObs270/zdex04/alpha_cii_0-024/alpha_mhi_0-74/Mmin_2-10e10/alpha0_-1_412/gamma0_0_31/stacks/cii_z6/sig/sig'+str(i)+'.npy', allow_pickle=True)    \n",
    "    \n",
    "    stasc = sig_scale*stac\n",
    "    \n",
    "    stasc.dump('/mnt/scratch-lustre/horlaville/nuObs270_corr/zdex04/alpha_cii_0-024/alpha_mhi_0-74/Mmin_2-10e10/alpha0_-1_412/gamma0_0_31/stacks/cii_z6/sig/sig'+str(i)+'.npy')"
   ]
  },
  {
   "cell_type": "code",
   "execution_count": null,
   "id": "c7e9409a",
   "metadata": {},
   "outputs": [],
   "source": []
  },
  {
   "cell_type": "code",
   "execution_count": null,
   "id": "4dcb5079",
   "metadata": {},
   "outputs": [],
   "source": []
  },
  {
   "cell_type": "code",
   "execution_count": null,
   "id": "91229743",
   "metadata": {},
   "outputs": [],
   "source": []
  }
 ],
 "metadata": {
  "kernelspec": {
   "display_name": "Python 3 (ipykernel)",
   "language": "python",
   "name": "python3"
  },
  "language_info": {
   "codemirror_mode": {
    "name": "ipython",
    "version": 3
   },
   "file_extension": ".py",
   "mimetype": "text/x-python",
   "name": "python",
   "nbconvert_exporter": "python",
   "pygments_lexer": "ipython3",
   "version": "3.10.2"
  }
 },
 "nbformat": 4,
 "nbformat_minor": 5
}
