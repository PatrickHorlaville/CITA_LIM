{
 "cells": [
  {
   "cell_type": "markdown",
   "id": "3cbfedf0",
   "metadata": {},
   "source": [
    " # RESCALING EVERYTHING"
   ]
  },
  {
   "cell_type": "code",
   "execution_count": 1,
   "id": "4e96eab6",
   "metadata": {},
   "outputs": [
    {
     "name": "stdout",
     "output_type": "stream",
     "text": [
      "/fs/lustre/scratch/horlaville/clara_limlam/limCode2020-master_clara_2\n"
     ]
    }
   ],
   "source": [
    "%cd '/mnt/scratch-lustre/horlaville/clara_limlam/limCode2020-master_clara_2/'"
   ]
  },
  {
   "cell_type": "code",
   "execution_count": 2,
   "id": "4cbd06dc",
   "metadata": {},
   "outputs": [
    {
     "name": "stderr",
     "output_type": "stream",
     "text": [
      "WARNING: AstropyDeprecationWarning: `astropy.cosmology.core.FlatLambdaCDM` has been moved (since v5.0) and should be imported as ``from astropy.cosmology import FlatLambdaCDM``. In future this will raise an exception. [astropy.cosmology.core]\n"
     ]
    }
   ],
   "source": [
    "import numpy as np\n",
    "import matplotlib\n",
    "import matplotlib.pyplot as plt\n",
    "import astropy.units as u # I use astropy units in everything, very helpful for bookkeeping/debugging\n",
    "\n",
    "from lim import lim # The base intensity mapping object\n",
    "\n",
    "matplotlib.rcParams.update({'font.size': 18,'figure.figsize':[8,7]}) # Make figures better\n",
    "#matplotlib.rcParams,update({}'figure.figsize'] = [8,7]\n",
    "from scipy.ndimage import gaussian_filter\n",
    "plt.rcParams[\"mathtext.fontset\"] = \"dejavuserif\""
   ]
  },
  {
   "cell_type": "code",
   "execution_count": 3,
   "id": "8dc85c93",
   "metadata": {},
   "outputs": [],
   "source": [
    "lc_paths = '/home/dongwooc/scratchspace/pprun_hiz_npz/'\n",
    "from os import listdir\n",
    "from os.path import isfile, join\n",
    "onlyfiles = [f for f in listdir(lc_paths) if isfile(join(lc_paths, f))]\n",
    "onlyfiles.remove('pksc2npz_5313591.out')\n",
    "onlyfiles.remove('pksc2npz.sh')\n",
    "for i in range(len(onlyfiles)):\n",
    "    onlyfiles[i] = lc_paths+onlyfiles[i]"
   ]
  },
  {
   "cell_type": "code",
   "execution_count": 55,
   "id": "38645e68",
   "metadata": {},
   "outputs": [
    {
     "name": "stdout",
     "output_type": "stream",
     "text": [
      "Input cosmological model does not match simulations\n",
      "Setting analytic cosmology to match simulation\n"
     ]
    }
   ],
   "source": [
    "# Initialize LineModel with default model\n",
    "m = lim()\n",
    "m_cii = lim('Lichen_v4', doSim = True)\n",
    "\n",
    "m_cii.update(model_par = {'zdex': 0.4,\n",
    " 'M0': 1900000000.0,\n",
    " 'Mmin': 20000000000,\n",
    " 'alpha_MH1': 0.74,\n",
    " 'alpha_LCII': 0.024,\n",
    " 'alpha0': -1.412,\n",
    " 'gamma0': 0.31,\n",
    " 'BehrooziFile': 'sfr_reinterp.dat'},\n",
    "            dnu = 2.8*u.GHz,\n",
    "            nuObs = 270*u.GHz,\n",
    "            Delta_nu = 40*u.GHz,\n",
    "            tobs = 40000*u.h,\n",
    "            Omega_field = 4*u.deg**2,\n",
    "            catalogue_file = '/home/dongwooc/scratchspace/pprun_hiz_npz/COMAP_z5.8-7.9_960Mpc_seed_13819.npz')"
   ]
  },
  {
   "cell_type": "markdown",
   "id": "eb57dd45",
   "metadata": {},
   "source": [
    "# Need to rescale signal by 123%, pspec by (123%)² and noisy mocks need to be regenerated because of noise"
   ]
  },
  {
   "cell_type": "markdown",
   "id": "1abeda2f",
   "metadata": {},
   "source": [
    "Need to check that if a given array is stored somewhere, that I can just overwrite it with np.save at that same location with a new array. Use a dummy example to make sure 100% that it works"
   ]
  },
  {
   "cell_type": "code",
   "execution_count": 4,
   "id": "cc82bbd3",
   "metadata": {},
   "outputs": [
    {
     "data": {
      "text/plain": [
       "array([[1., 1., 1.],\n",
       "       [1., 1., 1.]])"
      ]
     },
     "execution_count": 4,
     "metadata": {},
     "output_type": "execute_result"
    }
   ],
   "source": [
    "dum = np.ones((2,3))\n",
    "dum"
   ]
  },
  {
   "cell_type": "code",
   "execution_count": 5,
   "id": "fa6c895f",
   "metadata": {},
   "outputs": [],
   "source": [
    "np.save('/mnt/scratch-lustre/horlaville/dum.npy', dum)"
   ]
  },
  {
   "cell_type": "code",
   "execution_count": 6,
   "id": "de471a0a",
   "metadata": {},
   "outputs": [],
   "source": [
    "dumm = np.load('/mnt/scratch-lustre/horlaville/dum.npy')"
   ]
  },
  {
   "cell_type": "code",
   "execution_count": 8,
   "id": "f6fa2be4",
   "metadata": {},
   "outputs": [],
   "source": [
    "new_dum = 2*dumm"
   ]
  },
  {
   "cell_type": "code",
   "execution_count": 9,
   "id": "ec712fce",
   "metadata": {},
   "outputs": [],
   "source": [
    "np.save('/mnt/scratch-lustre/horlaville/dum.npy', new_dum)"
   ]
  },
  {
   "cell_type": "code",
   "execution_count": 10,
   "id": "d7107d37",
   "metadata": {},
   "outputs": [],
   "source": [
    "new_dumm = np.load('/mnt/scratch-lustre/horlaville/dum.npy')"
   ]
  },
  {
   "cell_type": "code",
   "execution_count": 11,
   "id": "604718e5",
   "metadata": {},
   "outputs": [
    {
     "data": {
      "text/plain": [
       "array([[2., 2., 2.],\n",
       "       [2., 2., 2.]])"
      ]
     },
     "execution_count": 11,
     "metadata": {},
     "output_type": "execute_result"
    }
   ],
   "source": [
    "new_dumm"
   ]
  },
  {
   "cell_type": "markdown",
   "id": "852cb205",
   "metadata": {},
   "source": [
    "It works"
   ]
  },
  {
   "cell_type": "code",
   "execution_count": 13,
   "id": "8796af00",
   "metadata": {},
   "outputs": [],
   "source": [
    "sig_scale = 1.23\n",
    "pspec_scale = (1.23**2)"
   ]
  },
  {
   "cell_type": "markdown",
   "id": "9f010554",
   "metadata": {},
   "source": [
    "Personalize noise:"
   ]
  },
  {
   "cell_type": "code",
   "execution_count": 63,
   "id": "5f3743f3",
   "metadata": {},
   "outputs": [
    {
     "data": {
      "text/latex": [
       "$3172.8111 \\; \\mathrm{\\frac{Jy}{sr}}$"
      ],
      "text/plain": [
       "<Quantity 3172.81108492 Jy / sr>"
      ]
     },
     "execution_count": 63,
     "metadata": {},
     "output_type": "execute_result"
    }
   ],
   "source": [
    "sigm = m_cii.sigma_N # for tobs = 40000h from parameters update above\n",
    "sigm"
   ]
  },
  {
   "cell_type": "code",
   "execution_count": 64,
   "id": "be1e2132",
   "metadata": {},
   "outputs": [],
   "source": [
    "def own_noise(m, sig, pix=1.):\n",
    "    \n",
    "    '''\n",
    "    m is the limlam object\n",
    "    sig is the 3D cube of intensities\n",
    "    pix is the pixelization blurring desired. default is 1.\n",
    "    '''\n",
    "    \n",
    "    sm_map = gaussian_filter(sig, [pix, pix, 0])\n",
    "    noise_sigma  = sigm\n",
    "    noise_map    = np.random.normal(0, noise_sigma.to(u.Jy/u.sr, equivalencies=u.brightness_temperature(m.nuObs)).value, sig.shape)\n",
    "    # print(noise_sigma.to(u.Jy/u.sr).value)\n",
    "    sm_noise_map = sm_map + noise_map\n",
    "    \n",
    "    return sm_noise_map"
   ]
  },
  {
   "cell_type": "code",
   "execution_count": 65,
   "id": "0f06b58b",
   "metadata": {},
   "outputs": [],
   "source": [
    "for i in range(len(onlyfiles)):\n",
    "    \n",
    "    sigi = np.load('/mnt/scratch-lustre/horlaville/nuObs270/zdex04/alpha_cii_0-024/alpha_mhi_0-74/Mmin_2-10e10/alpha0_-1_412/gamma0_0_31/sig/cii_sig'+str(i)+'.npy')\n",
    "    \n",
    "    sigisc = sig_scale*sigi\n",
    "    newfor = own_noise(m_cii, sigisc)\n",
    "    \n",
    "    np.save('/mnt/scratch-lustre/horlaville/nuObs270_corr/zdex04/alpha_cii_0-024/alpha_mhi_0-74/Mmin_2-10e10/alpha0_-1_412/gamma0_0_31/sig/cii_sig'+str(i)+'.npy', sigisc)\n",
    "    np.save('/mnt/scratch-lustre/horlaville/nuObs270_corr/zdex04/alpha_cii_0-024/alpha_mhi_0-74/Mmin_2-10e10/alpha0_-1_412/gamma0_0_31/for/for_tobs40kh/cii_for'+str(i)+'.npy', newfor)"
   ]
  },
  {
   "cell_type": "code",
   "execution_count": 66,
   "id": "511234f3",
   "metadata": {},
   "outputs": [],
   "source": [
    "for i in range(len(onlyfiles)):\n",
    "    \n",
    "    sigi = np.load('/mnt/scratch-lustre/horlaville/nuObs270/zdex04/alpha_cii_0-024/alpha_mhi_0-74/Mmin_2-10e10/alpha0_-1_412/gamma0_0_27/sig/cii_sig'+str(i)+'.npy')\n",
    "    \n",
    "    sigisc = sig_scale*sigi\n",
    "    newfor = own_noise(m_cii, sigisc)\n",
    "    \n",
    "    np.save('/mnt/scratch-lustre/horlaville/nuObs270_corr/zdex04/alpha_cii_0-024/alpha_mhi_0-74/Mmin_2-10e10/alpha0_-1_412/gamma0_0_27/sig/cii_sig'+str(i)+'.npy', sigisc)\n",
    "    np.save('/mnt/scratch-lustre/horlaville/nuObs270_corr/zdex04/alpha_cii_0-024/alpha_mhi_0-74/Mmin_2-10e10/alpha0_-1_412/gamma0_0_27/for/for_tobs40kh/cii_for'+str(i)+'.npy', newfor)"
   ]
  },
  {
   "cell_type": "code",
   "execution_count": 67,
   "id": "979ccb6e",
   "metadata": {},
   "outputs": [],
   "source": [
    "for i in range(len(onlyfiles)):\n",
    "    \n",
    "    sigi = np.load('/mnt/scratch-lustre/horlaville/nuObs270/zdex04/alpha_cii_0-024/alpha_mhi_0-74/Mmin_2-10e10/alpha0_-1_412/gamma0_0_35/sig/cii_sig'+str(i)+'.npy')\n",
    "    \n",
    "    sigisc = sig_scale*sigi\n",
    "    newfor = own_noise(m_cii, sigisc)\n",
    "    \n",
    "    np.save('/mnt/scratch-lustre/horlaville/nuObs270_corr/zdex04/alpha_cii_0-024/alpha_mhi_0-74/Mmin_2-10e10/alpha0_-1_412/gamma0_0_35/sig/cii_sig'+str(i)+'.npy', sigisc)\n",
    "    np.save('/mnt/scratch-lustre/horlaville/nuObs270_corr/zdex04/alpha_cii_0-024/alpha_mhi_0-74/Mmin_2-10e10/alpha0_-1_412/gamma0_0_35/for/for_tobs40kh/cii_for'+str(i)+'.npy', newfor)"
   ]
  },
  {
   "cell_type": "code",
   "execution_count": 68,
   "id": "33289a9e",
   "metadata": {},
   "outputs": [],
   "source": [
    "for i in range(len(onlyfiles)):\n",
    "    \n",
    "    sigi = np.load('/mnt/scratch-lustre/horlaville/nuObs270/zdex04/alpha_cii_0-024/alpha_mhi_0-74/Mmin_2-10e10/alpha0_-1_312/sig/cii_sig'+str(i)+'.npy')\n",
    "    \n",
    "    sigisc = sig_scale*sigi\n",
    "    newfor = own_noise(m_cii, sigisc)\n",
    "    \n",
    "    np.save('/mnt/scratch-lustre/horlaville/nuObs270_corr/zdex04/alpha_cii_0-024/alpha_mhi_0-74/Mmin_2-10e10/alpha0_-1_312/sig/cii_sig'+str(i)+'.npy', sigisc)\n",
    "    np.save('/mnt/scratch-lustre/horlaville/nuObs270_corr/zdex04/alpha_cii_0-024/alpha_mhi_0-74/Mmin_2-10e10/alpha0_-1_312/for/for_tobs40kh/cii_for'+str(i)+'.npy', newfor)"
   ]
  },
  {
   "cell_type": "code",
   "execution_count": 69,
   "id": "2f6bbdf0",
   "metadata": {},
   "outputs": [],
   "source": [
    "for i in range(len(onlyfiles)):\n",
    "    \n",
    "    sigi = np.load('/mnt/scratch-lustre/horlaville/nuObs270/zdex04/alpha_cii_0-024/alpha_mhi_0-74/Mmin_2-10e10/alpha0_-1_512/sig/cii_sig'+str(i)+'.npy')\n",
    "    \n",
    "    sigisc = sig_scale*sigi\n",
    "    newfor = own_noise(m_cii, sigisc)\n",
    "    \n",
    "    np.save('/mnt/scratch-lustre/horlaville/nuObs270_corr/zdex04/alpha_cii_0-024/alpha_mhi_0-74/Mmin_2-10e10/alpha0_-1_512/sig/cii_sig'+str(i)+'.npy', sigisc)\n",
    "    np.save('/mnt/scratch-lustre/horlaville/nuObs270_corr/zdex04/alpha_cii_0-024/alpha_mhi_0-74/Mmin_2-10e10/alpha0_-1_512/for/for_tobs40kh/cii_for'+str(i)+'.npy', newfor)"
   ]
  },
  {
   "cell_type": "code",
   "execution_count": 70,
   "id": "e81ab1ff",
   "metadata": {},
   "outputs": [],
   "source": [
    "for i in range(len(onlyfiles)):\n",
    "    \n",
    "    sigi = np.load('/mnt/scratch-lustre/horlaville/nuObs270/zdex04/alpha_cii_0-024/alpha_mhi_0-74/Mmin_2-10e9-9/sig/cii_sig'+str(i)+'.npy')\n",
    "    \n",
    "    sigisc = sig_scale*sigi\n",
    "    newfor = own_noise(m_cii, sigisc)\n",
    "    \n",
    "    np.save('/mnt/scratch-lustre/horlaville/nuObs270_corr/zdex04/alpha_cii_0-024/alpha_mhi_0-74/Mmin_2-10e9-9/sig/cii_sig'+str(i)+'.npy', sigisc)\n",
    "    np.save('/mnt/scratch-lustre/horlaville/nuObs270_corr/zdex04/alpha_cii_0-024/alpha_mhi_0-74/Mmin_2-10e9-9/for/for_tobs40kh/cii_for'+str(i)+'.npy', newfor)"
   ]
  },
  {
   "cell_type": "code",
   "execution_count": 71,
   "id": "5673b5c1",
   "metadata": {},
   "outputs": [],
   "source": [
    "for i in range(len(onlyfiles)):\n",
    "    \n",
    "    sigi = np.load('/mnt/scratch-lustre/horlaville/nuObs270/zdex04/alpha_cii_0-024/alpha_mhi_0-74/Mmin_2-10e10-1/sig/cii_sig'+str(i)+'.npy')\n",
    "    \n",
    "    sigisc = sig_scale*sigi\n",
    "    newfor = own_noise(m_cii, sigisc)\n",
    "    \n",
    "    np.save('/mnt/scratch-lustre/horlaville/nuObs270_corr/zdex04/alpha_cii_0-024/alpha_mhi_0-74/Mmin_2-10e10-1/sig/cii_sig'+str(i)+'.npy', sigisc)\n",
    "    np.save('/mnt/scratch-lustre/horlaville/nuObs270_corr/zdex04/alpha_cii_0-024/alpha_mhi_0-74/Mmin_2-10e10-1/for/for_tobs40kh/cii_for'+str(i)+'.npy', newfor)"
   ]
  },
  {
   "cell_type": "code",
   "execution_count": 96,
   "id": "f6abfe0b",
   "metadata": {},
   "outputs": [],
   "source": [
    "for i in range(len(onlyfiles)):\n",
    "    \n",
    "    sigi = np.load('/mnt/scratch-lustre/horlaville/nuObs270/zdex04/alpha_cii_0-024/alpha_mhi_0-68/sig/cii_sig'+str(i)+'.npy')\n",
    "    \n",
    "    sigisc = sig_scale*sigi\n",
    "    newfor = own_noise(m_cii, sigisc)\n",
    "    \n",
    "    np.save('/mnt/scratch-lustre/horlaville/nuObs270_corr/zdex04/alpha_cii_0-024/alpha_mhi_0-68/sig/cii_sig'+str(i)+'.npy', sigisc)\n",
    "    np.save('/mnt/scratch-lustre/horlaville/nuObs270_corr/zdex04/alpha_cii_0-024/alpha_mhi_0-68/for/for_tobs40kh/cii_for'+str(i)+'.npy', newfor)"
   ]
  },
  {
   "cell_type": "code",
   "execution_count": 73,
   "id": "a0a98eea",
   "metadata": {},
   "outputs": [],
   "source": [
    "for i in range(len(onlyfiles)):\n",
    "    \n",
    "    sigi = np.load('/mnt/scratch-lustre/horlaville/nuObs270/zdex04/alpha_cii_0-024/alpha_mhi_0-80/sig/cii_sig'+str(i)+'.npy')\n",
    "    \n",
    "    sigisc = sig_scale*sigi\n",
    "    newfor = own_noise(m_cii, sigisc)\n",
    "    \n",
    "    np.save('/mnt/scratch-lustre/horlaville/nuObs270_corr/zdex04/alpha_cii_0-024/alpha_mhi_0-80/sig/cii_sig'+str(i)+'.npy', sigisc)\n",
    "    np.save('/mnt/scratch-lustre/horlaville/nuObs270_corr/zdex04/alpha_cii_0-024/alpha_mhi_0-80/for/for_tobs40kh/cii_for'+str(i)+'.npy', newfor)"
   ]
  },
  {
   "cell_type": "code",
   "execution_count": 97,
   "id": "92c9cc53",
   "metadata": {},
   "outputs": [],
   "source": [
    "for i in range(len(onlyfiles)):\n",
    "    \n",
    "    sigi = np.load('/mnt/scratch-lustre/horlaville/nuObs270/zdex04/alpha_cii_0-020/sig/cii_sig'+str(i)+'.npy')\n",
    "    \n",
    "    sigisc = sig_scale*sigi\n",
    "    newfor = own_noise(m_cii, sigisc)\n",
    "    \n",
    "    np.save('/mnt/scratch-lustre/horlaville/nuObs270_corr/zdex04/alpha_cii_0-020/sig/cii_sig'+str(i)+'.npy', sigisc)\n",
    "    np.save('/mnt/scratch-lustre/horlaville/nuObs270_corr/zdex04/alpha_cii_0-020/for/for_tobs40kh/cii_for'+str(i)+'.npy', newfor)"
   ]
  },
  {
   "cell_type": "code",
   "execution_count": 98,
   "id": "22e6d726",
   "metadata": {},
   "outputs": [],
   "source": [
    "for i in range(len(onlyfiles)):\n",
    "    \n",
    "    sigi = np.load('/mnt/scratch-lustre/horlaville/nuObs270/zdex04/alpha_cii_0-028/sig/cii_sig'+str(i)+'.npy')\n",
    "    \n",
    "    sigisc = sig_scale*sigi\n",
    "    newfor = own_noise(m_cii, sigisc)\n",
    "    \n",
    "    np.save('/mnt/scratch-lustre/horlaville/nuObs270_corr/zdex04/alpha_cii_0-028/sig/cii_sig'+str(i)+'.npy', sigisc)\n",
    "    np.save('/mnt/scratch-lustre/horlaville/nuObs270_corr/zdex04/alpha_cii_0-028/for/for_tobs40kh/cii_for'+str(i)+'.npy', newfor)"
   ]
  },
  {
   "cell_type": "code",
   "execution_count": 99,
   "id": "95a871a7",
   "metadata": {},
   "outputs": [],
   "source": [
    "for i in range(len(onlyfiles)):\n",
    "    \n",
    "    sigi = np.load('/mnt/scratch-lustre/horlaville/nuObs270/zdex03/sig/cii_sig'+str(i)+'.npy')\n",
    "    \n",
    "    sigisc = sig_scale*sigi\n",
    "    newfor = own_noise(m_cii, sigisc)\n",
    "    \n",
    "    np.save('/mnt/scratch-lustre/horlaville/nuObs270_corr/zdex03/sig/cii_sig'+str(i)+'.npy', sigisc)\n",
    "    np.save('/mnt/scratch-lustre/horlaville/nuObs270_corr/zdex03/for/for_tobs40kh/cii_for'+str(i)+'.npy', newfor)"
   ]
  },
  {
   "cell_type": "code",
   "execution_count": 100,
   "id": "4ae8f365",
   "metadata": {},
   "outputs": [],
   "source": [
    "for i in range(len(onlyfiles)):\n",
    "    \n",
    "    sigi = np.load('/mnt/scratch-lustre/horlaville/nuObs270/zdex05/sig/cii_sig'+str(i)+'.npy')\n",
    "    \n",
    "    sigisc = sig_scale*sigi\n",
    "    newfor = own_noise(m_cii, sigisc)\n",
    "    \n",
    "    np.save('/mnt/scratch-lustre/horlaville/nuObs270_corr/zdex05/sig/cii_sig'+str(i)+'.npy', sigisc)\n",
    "    np.save('/mnt/scratch-lustre/horlaville/nuObs270_corr/zdex05/for/for_tobs40kh/cii_for'+str(i)+'.npy', newfor)"
   ]
  },
  {
   "cell_type": "markdown",
   "id": "9da73e51",
   "metadata": {},
   "source": [
    "pspec:"
   ]
  },
  {
   "cell_type": "code",
   "execution_count": 80,
   "id": "ee19296a",
   "metadata": {},
   "outputs": [
    {
     "data": {
      "text/plain": [
       "1.5129"
      ]
     },
     "execution_count": 80,
     "metadata": {},
     "output_type": "execute_result"
    }
   ],
   "source": [
    "pspec_scale"
   ]
  },
  {
   "cell_type": "code",
   "execution_count": 79,
   "id": "4df3ca18",
   "metadata": {},
   "outputs": [],
   "source": [
    "for i in range(len(onlyfiles)):\n",
    "    \n",
    "    pspec270 = np.load('/mnt/scratch-lustre/horlaville/nuObs270/zdex04/alpha_cii_0-024/alpha_mhi_0-74/Mmin_2-10e10/alpha0_-1_412/gamma0_0_31/pspec/cii_pspec'+str(i)+'.npy')\n",
    "    pspec226 = np.load('/mnt/scratch-lustre/horlaville/nuObs226/zdex04/cii_pspec_nuObs226/cii_pspec'+str(i)+'.npy')\n",
    "    \n",
    "    pspec270sc = pspec_scale*pspec270\n",
    "    pspec226sc = pspec_scale*pspec226\n",
    "    \n",
    "    np.save('/mnt/scratch-lustre/horlaville/nuObs270_corr/zdex04/alpha_cii_0-024/alpha_mhi_0-74/Mmin_2-10e10/alpha0_-1_412/gamma0_0_31/pspec/cii_pspec'+str(i)+'.npy', pspec270sc)\n",
    "    np.save('/mnt/scratch-lustre/horlaville/nuObs226_corr/zdex04/cii_pspec_nuObs226/cii_pspec'+str(i)+'.npy', pspec226sc)"
   ]
  },
  {
   "cell_type": "code",
   "execution_count": null,
   "id": "6debeaae",
   "metadata": {},
   "outputs": [],
   "source": []
  },
  {
   "cell_type": "markdown",
   "id": "434542c4",
   "metadata": {},
   "source": [
    "with zdex:"
   ]
  },
  {
   "cell_type": "code",
   "execution_count": 81,
   "id": "5cb2617f",
   "metadata": {},
   "outputs": [],
   "source": [
    "for i in range(len(onlyfiles)):\n",
    "    \n",
    "    pspec = np.load('/mnt/scratch-lustre/horlaville/nuObs270/zdex00/pspec/cii_pspec'+str(i)+'.npy')    \n",
    "    \n",
    "    pspecsc = pspec_scale*pspec\n",
    "    \n",
    "    np.save('/mnt/scratch-lustre/horlaville/nuObs270_corr/zdex00/pspec/cii_pspec'+str(i)+'.npy', pspecsc)"
   ]
  },
  {
   "cell_type": "code",
   "execution_count": 82,
   "id": "b21e129b",
   "metadata": {},
   "outputs": [],
   "source": [
    "for i in range(len(onlyfiles)):\n",
    "    \n",
    "    pspec = np.load('/mnt/scratch-lustre/horlaville/nuObs270/zdex02/pspec/cii_pspec'+str(i)+'.npy')    \n",
    "    \n",
    "    pspecsc = pspec_scale*pspec\n",
    "    \n",
    "    np.save('/mnt/scratch-lustre/horlaville/nuObs270_corr/zdex02/pspec/cii_pspec'+str(i)+'.npy', pspecsc)"
   ]
  },
  {
   "cell_type": "code",
   "execution_count": 84,
   "id": "1972bcce",
   "metadata": {},
   "outputs": [],
   "source": [
    "for i in range(len(onlyfiles)):\n",
    "    \n",
    "    pspec = np.load('/mnt/scratch-lustre/horlaville/nuObs270/zdex06/pspec/cii_pspec'+str(i)+'.npy')    \n",
    "    \n",
    "    pspecsc = pspec_scale*pspec\n",
    "    \n",
    "    np.save('/mnt/scratch-lustre/horlaville/nuObs270_corr/zdex06/pspec/cii_pspec'+str(i)+'.npy', pspecsc)"
   ]
  },
  {
   "cell_type": "code",
   "execution_count": 85,
   "id": "336288a6",
   "metadata": {},
   "outputs": [],
   "source": [
    "for i in range(len(onlyfiles)):\n",
    "    \n",
    "    pspec = np.load('/mnt/scratch-lustre/horlaville/nuObs270/zdex08/pspec/cii_pspec'+str(i)+'.npy')    \n",
    "    \n",
    "    pspecsc = pspec_scale*pspec\n",
    "    \n",
    "    np.save('/mnt/scratch-lustre/horlaville/nuObs270_corr/zdex08/pspec/cii_pspec'+str(i)+'.npy', pspecsc)"
   ]
  },
  {
   "cell_type": "code",
   "execution_count": 86,
   "id": "74668d26",
   "metadata": {},
   "outputs": [],
   "source": [
    "for i in range(len(onlyfiles)):\n",
    "    \n",
    "    pspec = np.load('/mnt/scratch-lustre/horlaville/nuObs270/zdex10/pspec/cii_pspec'+str(i)+'.npy')    \n",
    "    \n",
    "    pspecsc = pspec_scale*pspec\n",
    "    \n",
    "    np.save('/mnt/scratch-lustre/horlaville/nuObs270_corr/zdex10/pspec/cii_pspec'+str(i)+'.npy', pspecsc)"
   ]
  },
  {
   "cell_type": "markdown",
   "id": "f6ba434b",
   "metadata": {},
   "source": [
    "stacks:"
   ]
  },
  {
   "cell_type": "code",
   "execution_count": 87,
   "id": "fac438dc",
   "metadata": {},
   "outputs": [
    {
     "data": {
      "text/plain": [
       "1.23"
      ]
     },
     "execution_count": 87,
     "metadata": {},
     "output_type": "execute_result"
    }
   ],
   "source": [
    "sig_scale"
   ]
  },
  {
   "cell_type": "code",
   "execution_count": 90,
   "id": "848b72d2",
   "metadata": {},
   "outputs": [],
   "source": [
    "for i in range(len(onlyfiles)):\n",
    "    \n",
    "    stac = np.load('/mnt/scratch-lustre/horlaville/nuObs270/zdex04/alpha_cii_0-024/alpha_mhi_0-74/Mmin_2-10e10/alpha0_-1_412/gamma0_0_31/stacks/LBGs_z5-9/sig/sig'+str(i)+'.npy', allow_pickle=True)    \n",
    "    \n",
    "    stasc = sig_scale*stac\n",
    "    \n",
    "    stasc.dump('/mnt/scratch-lustre/horlaville/nuObs270_corr/zdex04/alpha_cii_0-024/alpha_mhi_0-74/Mmin_2-10e10/alpha0_-1_412/gamma0_0_31/stacks/LBGs_z5-9/sig/sig'+str(i)+'.npy')"
   ]
  },
  {
   "cell_type": "code",
   "execution_count": 91,
   "id": "81792358",
   "metadata": {},
   "outputs": [],
   "source": [
    "for i in range(len(onlyfiles)):\n",
    "    \n",
    "    stac = np.load('/mnt/scratch-lustre/horlaville/nuObs270/zdex04/alpha_cii_0-024/alpha_mhi_0-74/Mmin_2-10e10/alpha0_-1_412/gamma0_0_31/stacks/cii_z6/sig/sig'+str(i)+'.npy', allow_pickle=True)    \n",
    "    \n",
    "    stasc = sig_scale*stac\n",
    "    \n",
    "    stasc.dump('/mnt/scratch-lustre/horlaville/nuObs270_corr/zdex04/alpha_cii_0-024/alpha_mhi_0-74/Mmin_2-10e10/alpha0_-1_412/gamma0_0_31/stacks/cii_z6/sig/sig'+str(i)+'.npy')"
   ]
  },
  {
   "cell_type": "code",
   "execution_count": null,
   "id": "a6aa6f01",
   "metadata": {},
   "outputs": [],
   "source": []
  },
  {
   "cell_type": "code",
   "execution_count": null,
   "id": "e375398a",
   "metadata": {},
   "outputs": [],
   "source": []
  },
  {
   "cell_type": "code",
   "execution_count": null,
   "id": "6065235c",
   "metadata": {},
   "outputs": [],
   "source": []
  }
 ],
 "metadata": {
  "kernelspec": {
   "display_name": "Python 3 (ipykernel)",
   "language": "python",
   "name": "python3"
  },
  "language_info": {
   "codemirror_mode": {
    "name": "ipython",
    "version": 3
   },
   "file_extension": ".py",
   "mimetype": "text/x-python",
   "name": "python",
   "nbconvert_exporter": "python",
   "pygments_lexer": "ipython3",
   "version": "3.10.2"
  }
 },
 "nbformat": 4,
 "nbformat_minor": 5
}
