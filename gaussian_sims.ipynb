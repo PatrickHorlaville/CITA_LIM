{
 "cells": [
  {
   "cell_type": "code",
   "execution_count": 1,
   "id": "30532dfb",
   "metadata": {},
   "outputs": [
    {
     "name": "stderr",
     "output_type": "stream",
     "text": [
      "WARNING: AstropyDeprecationWarning: `astropy.cosmology.core.FlatLambdaCDM` has been moved (since v5.0) and should be imported as ``from astropy.cosmology import FlatLambdaCDM``. In future this will raise an exception. [astropy.cosmology.core]\n"
     ]
    }
   ],
   "source": [
    "import numpy as np\n",
    "import matplotlib\n",
    "import matplotlib.pyplot as plt\n",
    "import astropy.units as u # I use astropy units in everything, very helpful for bookkeeping/debugging\n",
    "\n",
    "from lim import lim # The base intensity mapping object\n",
    "\n",
    "matplotlib.rcParams.update({'font.size': 18,'figure.figsize':[8,7]}) # Make figures better\n",
    "#matplotlib.rcParams,update({}'figure.figsize'] = [8,7]\n",
    "from scipy.ndimage import gaussian_filter"
   ]
  },
  {
   "cell_type": "code",
   "execution_count": 2,
   "id": "597cc36c",
   "metadata": {},
   "outputs": [
    {
     "ename": "KeyError",
     "evalue": "'cosmo_header is not a file in the archive'",
     "output_type": "error",
     "traceback": [
      "\u001b[0;31m---------------------------------------------------------------------------\u001b[0m",
      "\u001b[0;31mKeyError\u001b[0m                                  Traceback (most recent call last)",
      "Input \u001b[0;32mIn [2]\u001b[0m, in \u001b[0;36m<module>\u001b[0;34m\u001b[0m\n\u001b[1;32m      1\u001b[0m m \u001b[38;5;241m=\u001b[39m lim()\n\u001b[0;32m----> 2\u001b[0m m_co \u001b[38;5;241m=\u001b[39m \u001b[43mlim\u001b[49m\u001b[43m(\u001b[49m\u001b[38;5;124;43m'\u001b[39;49m\u001b[38;5;124;43mTonyLi_PhI\u001b[39;49m\u001b[38;5;124;43m'\u001b[39;49m\u001b[43m,\u001b[49m\u001b[43m \u001b[49m\u001b[43mdoSim\u001b[49m\u001b[43m \u001b[49m\u001b[38;5;241;43m=\u001b[39;49m\u001b[43m \u001b[49m\u001b[38;5;28;43;01mTrue\u001b[39;49;00m\u001b[43m)\u001b[49m\n",
      "File \u001b[0;32m/cita/h/home-2/horlaville/clara_limlam/limCode2020-master_clara_2/lim.py:71\u001b[0m, in \u001b[0;36mlim\u001b[0;34m(model_params, doObs, doSim, match_sim_cosmo)\u001b[0m\n\u001b[1;32m     69\u001b[0m \u001b[38;5;28;01mif\u001b[39;00m doSim:\n\u001b[1;32m     70\u001b[0m     m \u001b[38;5;241m=\u001b[39m LimLam(\u001b[38;5;241m*\u001b[39m\u001b[38;5;241m*\u001b[39mpar1)\n\u001b[0;32m---> 71\u001b[0m     \u001b[38;5;28;01mif\u001b[39;00m match_sim_cosmo \u001b[38;5;129;01mand\u001b[39;00m \u001b[43mm\u001b[49m\u001b[38;5;241;43m.\u001b[39;49m\u001b[43m_cosmo_flag\u001b[49m:\n\u001b[1;32m     72\u001b[0m         set_sim_cosmo(m)\n\u001b[1;32m     73\u001b[0m         \u001b[38;5;28mprint\u001b[39m(\u001b[38;5;124m'\u001b[39m\u001b[38;5;124mSetting analytic cosmology to match simulation\u001b[39m\u001b[38;5;124m'\u001b[39m)\n",
      "File \u001b[0;32m/cita/h/home-2/horlaville/clara_limlam/limCode2020-master_clara_2/_utils.py:36\u001b[0m, in \u001b[0;36mcached_property.__get__\u001b[0;34m(self, instance, type)\u001b[0m\n\u001b[1;32m     33\u001b[0m \u001b[38;5;66;03m# ADDED THIS CODE TO LIST PROPERTY FOR UPDATING\u001b[39;00m\n\u001b[1;32m     34\u001b[0m instance\u001b[38;5;241m.\u001b[39m_update_list\u001b[38;5;241m.\u001b[39mappend(\u001b[38;5;28mself\u001b[39m\u001b[38;5;241m.\u001b[39mfunc\u001b[38;5;241m.\u001b[39m\u001b[38;5;18m__name__\u001b[39m)\n\u001b[0;32m---> 36\u001b[0m res \u001b[38;5;241m=\u001b[39m instance\u001b[38;5;241m.\u001b[39m\u001b[38;5;18m__dict__\u001b[39m[\u001b[38;5;28mself\u001b[39m\u001b[38;5;241m.\u001b[39mfunc\u001b[38;5;241m.\u001b[39m\u001b[38;5;18m__name__\u001b[39m] \u001b[38;5;241m=\u001b[39m \u001b[38;5;28;43mself\u001b[39;49m\u001b[38;5;241;43m.\u001b[39;49m\u001b[43mfunc\u001b[49m\u001b[43m(\u001b[49m\u001b[43minstance\u001b[49m\u001b[43m)\u001b[49m\n\u001b[1;32m     37\u001b[0m \u001b[38;5;28;01mreturn\u001b[39;00m res\n",
      "File \u001b[0;32m/cita/h/home-2/horlaville/clara_limlam/limCode2020-master_clara_2/limlam.py:167\u001b[0m, in \u001b[0;36mLimLam._cosmo_flag\u001b[0;34m(self)\u001b[0m\n\u001b[1;32m    162\u001b[0m \u001b[38;5;129m@cached_property\u001b[39m\n\u001b[1;32m    163\u001b[0m \u001b[38;5;28;01mdef\u001b[39;00m \u001b[38;5;21m_cosmo_flag\u001b[39m(\u001b[38;5;28mself\u001b[39m):\n\u001b[1;32m    164\u001b[0m     \u001b[38;5;124;03m'''\u001b[39;00m\n\u001b[1;32m    165\u001b[0m \u001b[38;5;124;03m    True if simulated cosmology does not match input to analytic model\u001b[39;00m\n\u001b[1;32m    166\u001b[0m \u001b[38;5;124;03m    '''\u001b[39;00m\n\u001b[0;32m--> 167\u001b[0m     \u001b[38;5;28;01mif\u001b[39;00m \u001b[38;5;129;01mnot\u001b[39;00m \u001b[38;5;28mself\u001b[39m\u001b[38;5;241m.\u001b[39mcheck_cosmo(\u001b[38;5;28;43mself\u001b[39;49m\u001b[38;5;241;43m.\u001b[39;49m\u001b[43mlimlam_cosmo\u001b[49m,\u001b[38;5;28mself\u001b[39m\u001b[38;5;241m.\u001b[39mh\u001b[38;5;241m.\u001b[39mcosmo):\n\u001b[1;32m    168\u001b[0m         \u001b[38;5;28;01mreturn\u001b[39;00m \u001b[38;5;28;01mTrue\u001b[39;00m\n\u001b[1;32m    169\u001b[0m     \u001b[38;5;28;01melse\u001b[39;00m:\n",
      "File \u001b[0;32m/cita/h/home-2/horlaville/clara_limlam/limCode2020-master_clara_2/_utils.py:36\u001b[0m, in \u001b[0;36mcached_property.__get__\u001b[0;34m(self, instance, type)\u001b[0m\n\u001b[1;32m     33\u001b[0m \u001b[38;5;66;03m# ADDED THIS CODE TO LIST PROPERTY FOR UPDATING\u001b[39;00m\n\u001b[1;32m     34\u001b[0m instance\u001b[38;5;241m.\u001b[39m_update_list\u001b[38;5;241m.\u001b[39mappend(\u001b[38;5;28mself\u001b[39m\u001b[38;5;241m.\u001b[39mfunc\u001b[38;5;241m.\u001b[39m\u001b[38;5;18m__name__\u001b[39m)\n\u001b[0;32m---> 36\u001b[0m res \u001b[38;5;241m=\u001b[39m instance\u001b[38;5;241m.\u001b[39m\u001b[38;5;18m__dict__\u001b[39m[\u001b[38;5;28mself\u001b[39m\u001b[38;5;241m.\u001b[39mfunc\u001b[38;5;241m.\u001b[39m\u001b[38;5;18m__name__\u001b[39m] \u001b[38;5;241m=\u001b[39m \u001b[38;5;28;43mself\u001b[39;49m\u001b[38;5;241;43m.\u001b[39;49m\u001b[43mfunc\u001b[49m\u001b[43m(\u001b[49m\u001b[43minstance\u001b[49m\u001b[43m)\u001b[49m\n\u001b[1;32m     37\u001b[0m \u001b[38;5;28;01mreturn\u001b[39;00m res\n",
      "File \u001b[0;32m/cita/h/home-2/horlaville/clara_limlam/limCode2020-master_clara_2/limlam.py:155\u001b[0m, in \u001b[0;36mLimLam.limlam_cosmo\u001b[0;34m(self)\u001b[0m\n\u001b[1;32m    144\u001b[0m \u001b[38;5;129m@cached_property\u001b[39m\n\u001b[1;32m    145\u001b[0m \u001b[38;5;28;01mdef\u001b[39;00m \u001b[38;5;21mlimlam_cosmo\u001b[39m(\u001b[38;5;28mself\u001b[39m):\n\u001b[1;32m    146\u001b[0m     \u001b[38;5;124;03m'''\u001b[39;00m\n\u001b[1;32m    147\u001b[0m \u001b[38;5;124;03m    Cosmological model used in simulations.  If force_sim_cosmo is set to\u001b[39;00m\n\u001b[1;32m    148\u001b[0m \u001b[38;5;124;03m    True and the LineObs object has a different cosmo_model, this function\u001b[39;00m\n\u001b[0;32m   (...)\u001b[0m\n\u001b[1;32m    153\u001b[0m \u001b[38;5;124;03m    modified slightly from the versions on git.\u001b[39;00m\n\u001b[1;32m    154\u001b[0m \u001b[38;5;124;03m    '''\u001b[39;00m\n\u001b[0;32m--> 155\u001b[0m     cosmo \u001b[38;5;241m=\u001b[39m \u001b[43mllm\u001b[49m\u001b[38;5;241;43m.\u001b[39;49m\u001b[43mload_peakpatch_catalogue_cosmo\u001b[49m\u001b[43m(\u001b[49m\u001b[38;5;28;43mself\u001b[39;49m\u001b[38;5;241;43m.\u001b[39;49m\u001b[43mhalo_info\u001b[49m\u001b[43m)\u001b[49m\n\u001b[1;32m    157\u001b[0m     \u001b[38;5;28;01mif\u001b[39;00m \u001b[38;5;129;01mnot\u001b[39;00m \u001b[38;5;28mself\u001b[39m\u001b[38;5;241m.\u001b[39mcheck_cosmo(cosmo,\u001b[38;5;28mself\u001b[39m\u001b[38;5;241m.\u001b[39mh\u001b[38;5;241m.\u001b[39mcosmo):\n\u001b[1;32m    158\u001b[0m         \u001b[38;5;28mprint\u001b[39m(\u001b[38;5;124m\"\u001b[39m\u001b[38;5;124mInput cosmological model does not match simulations\u001b[39m\u001b[38;5;124m\"\u001b[39m)\n",
      "File \u001b[0;32m/cita/h/home-2/horlaville/clara_limlam/limCode2020-master_clara_2/limlam_mocker/limlam_mocker/load_halos.py:182\u001b[0m, in \u001b[0;36mload_peakpatch_catalogue_cosmo\u001b[0;34m(halo_info)\u001b[0m\n\u001b[1;32m    179\u001b[0m \u001b[38;5;28;01mif\u001b[39;00m debug\u001b[38;5;241m.\u001b[39mverbose: \u001b[38;5;28mprint\u001b[39m(\u001b[38;5;124m\"\u001b[39m\u001b[38;5;130;01m\\t\u001b[39;00m\u001b[38;5;124mhalo catalogue contains:\u001b[39m\u001b[38;5;130;01m\\n\u001b[39;00m\u001b[38;5;130;01m\\t\u001b[39;00m\u001b[38;5;130;01m\\t\u001b[39;00m\u001b[38;5;124m\"\u001b[39m, halo_info\u001b[38;5;241m.\u001b[39mfiles)\n\u001b[1;32m    181\u001b[0m \u001b[38;5;66;03m#get cosmology from halo catalogue\u001b[39;00m\n\u001b[0;32m--> 182\u001b[0m params_dict    \u001b[38;5;241m=\u001b[39m \u001b[43mhalo_info\u001b[49m\u001b[43m[\u001b[49m\u001b[38;5;124;43m'\u001b[39;49m\u001b[38;5;124;43mcosmo_header\u001b[39;49m\u001b[38;5;124;43m'\u001b[39;49m\u001b[43m]\u001b[49m[()]\n\u001b[1;32m    183\u001b[0m cosmo\u001b[38;5;241m.\u001b[39mOmega_M  \u001b[38;5;241m=\u001b[39m params_dict\u001b[38;5;241m.\u001b[39mget(\u001b[38;5;124m'\u001b[39m\u001b[38;5;124mOmega_M\u001b[39m\u001b[38;5;124m'\u001b[39m)\n\u001b[1;32m    184\u001b[0m cosmo\u001b[38;5;241m.\u001b[39mOmega_B  \u001b[38;5;241m=\u001b[39m params_dict\u001b[38;5;241m.\u001b[39mget(\u001b[38;5;124m'\u001b[39m\u001b[38;5;124mOmega_B\u001b[39m\u001b[38;5;124m'\u001b[39m)\n",
      "File \u001b[0;32m/cita/modules/python/3.10.2/lib/python3.10/site-packages/numpy/lib/npyio.py:251\u001b[0m, in \u001b[0;36mNpzFile.__getitem__\u001b[0;34m(self, key)\u001b[0m\n\u001b[1;32m    249\u001b[0m         \u001b[38;5;28;01mreturn\u001b[39;00m \u001b[38;5;28mself\u001b[39m\u001b[38;5;241m.\u001b[39mzip\u001b[38;5;241m.\u001b[39mread(key)\n\u001b[1;32m    250\u001b[0m \u001b[38;5;28;01melse\u001b[39;00m:\n\u001b[0;32m--> 251\u001b[0m     \u001b[38;5;28;01mraise\u001b[39;00m \u001b[38;5;167;01mKeyError\u001b[39;00m(\u001b[38;5;124m\"\u001b[39m\u001b[38;5;132;01m%s\u001b[39;00m\u001b[38;5;124m is not a file in the archive\u001b[39m\u001b[38;5;124m\"\u001b[39m \u001b[38;5;241m%\u001b[39m key)\n",
      "\u001b[0;31mKeyError\u001b[0m: 'cosmo_header is not a file in the archive'"
     ]
    }
   ],
   "source": [
    "m = lim()\n",
    "m_co = lim('TonyLi_PhI', doSim = True)"
   ]
  },
  {
   "cell_type": "code",
   "execution_count": 5,
   "id": "df27228c",
   "metadata": {},
   "outputs": [],
   "source": [
    "data_file = np.load('/mnt/scratch-lustre/njcarlson/peak-patch-runs/23.02.05_SBsuite/ng0/cenz6500Mpc/output/1000Mpc_n580_nb40_nt2_merge.npz' , allow_pickle=True)"
   ]
  },
  {
   "cell_type": "code",
   "execution_count": 6,
   "id": "9125add5",
   "metadata": {},
   "outputs": [
    {
     "data": {
      "text/plain": [
       "array([ -38.239635, -488.21756 ,  -75.72608 , ...,  432.89365 ,\n",
       "        437.03616 ,  324.65335 ], dtype=float32)"
      ]
     },
     "execution_count": 6,
     "metadata": {},
     "output_type": "execute_result"
    }
   ],
   "source": [
    "data_file['x']"
   ]
  },
  {
   "cell_type": "code",
   "execution_count": 9,
   "id": "26bcb048",
   "metadata": {},
   "outputs": [],
   "source": [
    "data_dtc = np.load('/home/dongwooc/scratchspace/pprun_hiz_npz/COMAP_z5.8-7.9_960Mpc_seed_13819.npz', allow_pickle = True)"
   ]
  },
  {
   "cell_type": "code",
   "execution_count": 10,
   "id": "68234c2e",
   "metadata": {},
   "outputs": [
    {
     "data": {
      "text/plain": [
       "array({'Omega_M': 0.286, 'Omega_B': 0.047, 'Omega_L': 0.714, 'h': 0.7, 'ns': 0.96, 'sigma8': 0.82},\n",
       "      dtype=object)"
      ]
     },
     "execution_count": 10,
     "metadata": {},
     "output_type": "execute_result"
    }
   ],
   "source": [
    "data_dtc['cosmo_header']"
   ]
  },
  {
   "cell_type": "code",
   "execution_count": 11,
   "id": "766a81c4",
   "metadata": {},
   "outputs": [
    {
     "name": "stdout",
     "output_type": "stream",
     "text": [
      "cosmo_header\n",
      "x\n",
      "y\n",
      "z\n",
      "vx\n",
      "vy\n",
      "vz\n",
      "M\n",
      "zhalo\n",
      "zform\n",
      "zcos\n"
     ]
    }
   ],
   "source": [
    "for k in data_dtc.files:\n",
    "    print(k)"
   ]
  },
  {
   "cell_type": "code",
   "execution_count": 12,
   "id": "0d71075d",
   "metadata": {},
   "outputs": [
    {
     "name": "stdout",
     "output_type": "stream",
     "text": [
      "Nhalo\n",
      "M\n",
      "x\n",
      "y\n",
      "z\n",
      "xL\n",
      "yL\n",
      "zL\n",
      "vx\n",
      "vy\n",
      "vz\n"
     ]
    }
   ],
   "source": [
    "for k in data_file.files:\n",
    "    print(k)"
   ]
  },
  {
   "cell_type": "code",
   "execution_count": null,
   "id": "55d746eb",
   "metadata": {},
   "outputs": [],
   "source": []
  }
 ],
 "metadata": {
  "kernelspec": {
   "display_name": "Python 3 (ipykernel)",
   "language": "python",
   "name": "python3"
  },
  "language_info": {
   "codemirror_mode": {
    "name": "ipython",
    "version": 3
   },
   "file_extension": ".py",
   "mimetype": "text/x-python",
   "name": "python",
   "nbconvert_exporter": "python",
   "pygments_lexer": "ipython3",
   "version": "3.10.2"
  }
 },
 "nbformat": 4,
 "nbformat_minor": 5
}
