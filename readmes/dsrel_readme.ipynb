{
 "cells": [
  {
   "cell_type": "markdown",
   "id": "37d0e892",
   "metadata": {},
   "source": [
    "# This notebook is intended to present how to produce a point-wise differential relative entropy analysis over intensity maps generated through $\\texttt{limlam_mocker}$"
   ]
  },
  {
   "cell_type": "markdown",
   "id": "4b4dbfbb",
   "metadata": {},
   "source": [
    "#### Author: Patrick Horlaville"
   ]
  },
  {
   "cell_type": "markdown",
   "id": "04cb22bc",
   "metadata": {},
   "source": [
    "## NOTE: for supplemental information or any question you might have going through this readme, refer to https://arxiv.org/abs/2309.15733 or contact me at : phorlaville24@ubishops.ca"
   ]
  },
  {
   "cell_type": "markdown",
   "id": "2ca25f58",
   "metadata": {},
   "source": [
    "First, read this notebook from the root limCode folder, so the imports work correctly. Therefore, this whole notebook will run as though its location is:"
   ]
  },
  {
   "cell_type": "code",
   "execution_count": 4,
   "id": "01bfbff9",
   "metadata": {},
   "outputs": [
    {
     "name": "stdout",
     "output_type": "stream",
     "text": [
      "/fs/lustre/scratch/horlaville/clara_limlam/limCode2020-master_clara_2\n"
     ]
    }
   ],
   "source": [
    "%cd '/fs/lustre/scratch/horlaville/clara_limlam/limCode2020-master_clara_2/'"
   ]
  },
  {
   "cell_type": "markdown",
   "id": "09b6e1a7",
   "metadata": {},
   "source": [
    "Then, import all packages:"
   ]
  },
  {
   "cell_type": "code",
   "execution_count": 6,
   "id": "9b502f34",
   "metadata": {},
   "outputs": [
    {
     "name": "stderr",
     "output_type": "stream",
     "text": [
      "WARNING: AstropyDeprecationWarning: `astropy.cosmology.core.FlatLambdaCDM` has been moved (since v5.0) and should be imported as ``from astropy.cosmology import FlatLambdaCDM``. In future this will raise an exception. [astropy.cosmology.core]\n"
     ]
    }
   ],
   "source": [
    "# base imports\n",
    "import numpy as np\n",
    "import matplotlib\n",
    "import matplotlib.pyplot as plt\n",
    "\n",
    "# various math package imports\n",
    "from scipy import special\n",
    "from scipy import interpolate\n",
    "import astropy.units as u \n",
    "from scipy.ndimage import gaussian_filter\n",
    "\n",
    "# base intensity mapping package\n",
    "from lim import lim \n",
    "\n",
    "# My plotting preferences\n",
    "#matplotlib.rcParams.update({'font.size': 18,'figure.figsize':[8,7]}) \n",
    "#plt.rcParams[\"mathtext.fontset\"] = \"dejavuserif\"\n",
    "\n",
    "# Dongwoo's plotting preferences, which I used for my paper:\n",
    "plt.rcParams['text.usetex'] = True\n",
    "plt.rcParams['text.latex.preamble'] = '\\\\usepackage{tgheros}\\\\usepackage{sansmath}\\\\sansmath'\n",
    "\n",
    "# used to check on the running time of particular computations\n",
    "from datetime import datetime"
   ]
  },
  {
   "cell_type": "markdown",
   "id": "82309c9c",
   "metadata": {},
   "source": [
    "Then, we can load the lim model. The argument of `lim()` is the model chosen in `params.py`. Each model is designed to generate intensity maps of a particular line, more particularly a cube of intensites whose voxels are distributed along each angular coordinate (right ascension (RA) and declination) as well as in frequency space, although `limlam_mocker` allows to generate other by-products, such as the one-dimensional power spectrum of the cube's intensities. In the current `params.py` file, there are lots of models available; I personally mainly worked with mine (which I iterately worked over, the final version of which is `Lichen_v4`, which models the [C II] line) and the Tony Li' CO model (`'TonyLi_PhI'`)."
   ]
  },
  {
   "cell_type": "code",
   "execution_count": 7,
   "id": "bcfc571e",
   "metadata": {},
   "outputs": [
    {
     "name": "stdout",
     "output_type": "stream",
     "text": [
      "Input cosmological model does not match simulations\n",
      "Setting analytic cosmology to match simulation\n"
     ]
    }
   ],
   "source": [
    "# Initialize LineModel with default model\n",
    "m = lim()\n",
    "m_cii = lim('Lichen_v4', doSim = True)"
   ]
  },
  {
   "cell_type": "markdown",
   "id": "1839adf8",
   "metadata": {},
   "source": [
    "## Parameters' breakdown:"
   ]
  },
  {
   "cell_type": "markdown",
   "id": "26d34a96",
   "metadata": {},
   "source": [
    "`m_cii` is the `lim` object out of which we will extract our intensity map. There are multiple input parameters which will define the cube of intensities:\n",
    "\n",
    "1) `catalogue_file`: string, path to input halo lightcone \n",
    "- The most important parameter is the halo lightcone used for the simulation. The halo lightcone must contain all the information required to model the signal from all its halos (position, comoving coordinates, redshift, mass, etc.). For more information on the lightcone properties needed to be processed through `limlam_mocker`, refer to `/mnt/scratch-lustre/horlaville/nate_sims/gaussian/pksc3npz.py`, which is the example of a script that converts raw peakpatch lightcones to npz files that can be processed by `limlam_mocker`.\n",
    "- For my project, I used peak-patch halo lightcones from `/home/dongwooc/scratchspace/pprun_hiz_npz/`, where there are 270 halo lightcones in the $z \\approx$ [5.8, 7.9] redshift range and with $\\approx$ 4 deg$^2$ angular size.\n",
    "\n",
    "2) `model_name`: string, label of the mass-luminosity function\n",
    "- The second most important parameter is the mass-luminosity function used for the simulation. For mass-luminosity functions, choose a function from `mass_luminosity.py`. It determines the intensity map's line model. \n",
    "- Personally, I used `model_name='LichenCII_v3'` for my latest [C II] model, which includes the H I + metallicity dependence as well as metallicity scatter.\n",
    "\n",
    "3) `model_type`: string, luminosity prescription model type\n",
    "- The model type depends on the prescription used to generate the halo luminosities (as defined by `model_name`). If the luminosity prescription uses a halo-mass function (as can be found in `mass_luminosity.py`), then use `model_type='ML'`. If it uses a luminosity function (as can be found in `luminosity_functions.py`), then use `model_type='LF'`.\n",
    "- For example, in my case, I use a halo-mass relationship (with `model_name='LichenCII_v3'`), so I use `model_type='ML'`.\n",
    "\n",
    "4) `model_par`: dictionary, parameters for `model_name`\n",
    "- There are typically plenty of parameters prescribed inside the mass-luminosity function, some of which can be assigned in `model_par`. Typically, for relative entropy analysis, those are the fiducial values to be modified. The idea is to modify them a bit and analyze how much their variation affects the simulation results. \n",
    "\n",
    "Cube parameters in frequency (perpendicular) space:\n",
    "\n",
    "5) `nu`: astropy quantity, restframe frequency of the line\n",
    "- `nu` has to be set to the restframe frequency of the line prescribed from the chosen mass-luminosity function. \n",
    "- In my case, since my mass-luminosity function targets [C II], `nu` is set to $\\nu_{[\\rm{C\\ II}],\\ rest}$, which is 1897GHz.\n",
    "\n",
    "6) `nuObs`: astropy quantity, median observed frequency for the cube of intensities\n",
    "- `nuObs` is the central observed frequency for the simulation. If the lightcone's halos span redshift [$z_0$, $z_f$], such that the median redshift is $z_{\\rm{med}} = (z_0 + z_f)/2$, then `nuObs` would typically be set to `nu`/(1 + $z_{\\rm{med}}$).\n",
    "- For example, in my case, I used halo lightcones in the redshift range $z \\approx$ [5.8, 7.9], but I mainly worked in the redshift range $z \\approx$ [5.6, 6.6], such that $z_{\\rm{med}} \\approx$ 6.1; so I set `nuObs` to 1897 GHz/(1 + 6.1) $\\approx$ 270 GHz.\n",
    "\n",
    "7) `Delta_nu`: astropy quantity, frequency span of the cube\n",
    "- The halo lightcone spanning [$z_0$, $z_f$] in redshift space, what's the span in frequency space? That would be $\\nu_{\\rm{max}} - \\nu_{\\rm{min}}$, where the maximum frequency is attained at the minimum redshift: $\\nu_{\\rm{max}} = \\texttt{nu}/(1+z_0)$ and vice-versa: $\\nu_{\\rm{min}}$ = `nu`/$(1+z_f)$. If we want our cube of intensities to span the frequency range of our halo lightcone, which is typically the case, we just set `Delta_nu` to $\\nu_{\\rm{max}} - \\nu_{\\rm{min}}$. \n",
    "- In my case, I mainly worked in the $z \\approx$ [5.6, 6.6] redshift range, which corresponds to $\\nu \\approx$ [250, 290] GHz. Therefore, I set `Delta_nu` to 290-250 = 40 GHz.\n",
    "\n",
    "8) `dnu`: astropy quantity, frequency channelization\n",
    "- Each frequency slice of the cube of intensities will be separated by `dnu`. Its value is usually chosen in accordance to the frequency resolution abilities of typical observational instruments aiming the observation of the desired line. \n",
    "- For example, for my project, I ran all of my analysis using the CCAT deep spectroscopic survey (CCAT-DSS) osbervational characteristics, whose expected frequency channelization should be around 2.8GHz. Since I had set `Delta_nu` to 40 GHz, this means my cube of intensities will have 40 GHz/2.8GHz $\\approx$ 15 frequency channels.\n",
    "\n",
    "NOTE:\n",
    "\n",
    "- For sharper band analysis, `Delta_nu` can be smaller than $\\nu_{\\rm{max}} - \\nu_{\\rm{min}}$. Also, `nuObs` can be set to any value between $\\nu_{\\rm{min}}$ and $\\nu_{\\rm{min}}$, but `Delta_nu` should be chosen so that `nuObs` + `Delta_nu`/2 < $\\nu_{\\rm{max}}$ and `nuObs` - `Delta_nu`/2 > $\\nu_{\\rm{min}}$. In other words, it's important to generate a cube of intensities whose frequency span is within the frequency span of the halo lightcone. Otherwise, some of the cube's frequency channels may be empty.\n",
    "\n",
    "Cube parameters in angular (parallel) space:\n",
    "\n",
    "9) `Omega_field`: astropy quantity, angular area coverage\n",
    "- `Omega_field` is the angular area coverage, in the sky, of the cube. My typical process to find it from scratch is to use the halo lightcone's comoving radial distance and perpendicular size, say $\\chi_r$ and $\\chi_\\perp$. I approximate the angular size of the halo lightcone with $\\rm{tan}(\\theta) \\sim \\frac{\\chi_\\perp}{\\chi_r}$, such that $\\theta \\sim \\rm{arctan}(\\frac{\\chi_\\perp}{\\chi_r})$. Then, set `Omega_field` $\\sim \\theta^2$. Note that I advise to round down `Omega_field` rather than up as it is better to have a cube of intensities full of halos rather than to have the cube's edges missing halos because the angular size is slightly larger than the one from the lightcone. Note also that any value below $\\theta^2$ can also be used, as it will just consider a smaller portion of the lightcone.\n",
    "- The lightcones I used for my project have an angular area coverage of 4 deg$^2$, so I set `Omega_field` to 4 deg$^2$.\n",
    "\n",
    "Observational instrument-related parameters:\n",
    "\n",
    "10) `tobs`: astropy quantity, observing time\n",
    "- `tobs` defines the total observing time of the observational survey forecast per angular area coverage (`Omega_field`) across all spectroscopic feeds and voxels. \n",
    "- For example, for my project, I used two base values for `tobs` corresponding to 2 different observational scenarios for CCAT-DSS: 2000h and 40000h.\n",
    "\n",
    "11) `Tsys_NEFD`: astropy quantity, noise equivalent flux density\n",
    "- `Tsys_NEFD` is the noise equivalent flux density, which is the noise per instrumental beam. \n",
    "- For example, for my CCAT-DSS forecast, I used `Tsys_NEFD` = 72.5 mJy s$^{1/2}$, which means that a source recorded to have an intensity of 72.5 mJy through a single spectrometer with one second of observation would be detected with a signal-to-noise ratio (SNR) of 1.\n",
    "\n",
    "12) `beam_FWHM`: astropy quantity, beam's full width at half max\n",
    "- This parameter is simply the beam's full width at half maximum. \n",
    "- For my CCAT-DDS forecast, I used `beam_FWHM` = 48 arcseconds, which implies a beam width of ($\\sqrt{8ln\\ 2})^{-1} \\times$ `beam_FWHM` $\\approx$ 20 arcseconds. Given each angular slice of the cube has an area of 4 deg$^2$, which means an angular size of 2 deg (= 7200 arcseconds), the cube will generate $\\approx$ 7200/20 = 360 pixels in angular resolution. Since we also have 15 frequency channels, this means that our cube of intensities will be (360 x 360 x 15) in size, in both angular and frequency dimension respectively.\n",
    "\n",
    "13) `Nfeeds`: integer, number of feeds\n",
    "- This corresponds to the number of spectroscopic feeds of the observational instrument.\n",
    "- For example, for the CCAT-DSS forecast, I set $\\texttt{Nfeeds}$ = 120.\n",
    "\n",
    "14) `Nfield`: integer, number of fields\n",
    "- This corresponds to the number of fields to be observed by the observational instrument.\n",
    "- For example, for the CCAT-DSS forecast, I set $\\texttt{Nfield}$ = 4.\n",
    "\n",
    "Other parameters:\n",
    "\n",
    "15) `Mmin` & `Mmax`: astropy quantity, minimum and maximum halo masses\n",
    "- The code will ignore all the halos in the lightcone whose masses are inferior to `Mmin` or superior to `Mmax`."
   ]
  },
  {
   "cell_type": "markdown",
   "id": "15afe764",
   "metadata": {},
   "source": [
    "Note that if those parameters are not specified, the default ones in `params.py` will be used. It's therefore important to make sure that all the parameters used for the simulation are the adequate and desired ones. The `lim` object has a convenient function, `update`, which allows to update its parameters. I typically always use this function to set all the important parameters:"
   ]
  },
  {
   "cell_type": "code",
   "execution_count": 8,
   "id": "fbe70a1c",
   "metadata": {},
   "outputs": [],
   "source": [
    "m_cii.update(model_par = {'zdex': 0.4,\n",
    " 'M0': 1900000000.0,\n",
    " 'Mmin': 20000000000,\n",
    " 'alpha_MH1': 0.74,\n",
    " 'alpha_LCII': 0.024,\n",
    " 'alpha0': -1.412,\n",
    " 'gamma0': 0.31,\n",
    " 'BehrooziFile': 'sfr_reinterp.dat'},\n",
    "            dnu = 2.8*u.GHz,\n",
    "            nuObs = 270*u.GHz,\n",
    "            Delta_nu = 40*u.GHz,\n",
    "            tobs = 40000*u.h,\n",
    "            Omega_field = 4*u.deg**2,\n",
    "            catalogue_file = '/home/dongwooc/scratchspace/pprun_hiz_npz/COMAP_z5.8-7.9_960Mpc_seed_13819.npz')"
   ]
  },
  {
   "cell_type": "code",
   "execution_count": null,
   "id": "5a10ac42",
   "metadata": {},
   "outputs": [],
   "source": []
  }
 ],
 "metadata": {
  "kernelspec": {
   "display_name": "Python 3 (ipykernel)",
   "language": "python",
   "name": "python3"
  },
  "language_info": {
   "codemirror_mode": {
    "name": "ipython",
    "version": 3
   },
   "file_extension": ".py",
   "mimetype": "text/x-python",
   "name": "python",
   "nbconvert_exporter": "python",
   "pygments_lexer": "ipython3",
   "version": "3.10.2"
  }
 },
 "nbformat": 4,
 "nbformat_minor": 5
}
