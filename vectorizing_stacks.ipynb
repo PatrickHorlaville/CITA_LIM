{
 "cells": [
  {
   "cell_type": "markdown",
   "id": "4237cbdd",
   "metadata": {},
   "source": [
    "# Stacking Analysis -- usage"
   ]
  },
  {
   "cell_type": "code",
   "execution_count": 1,
   "id": "236f39ef",
   "metadata": {},
   "outputs": [
    {
     "name": "stderr",
     "output_type": "stream",
     "text": [
      "WARNING: AstropyDeprecationWarning: `astropy.cosmology.core.FlatLambdaCDM` has been moved (since v5.0) and should be imported as ``from astropy.cosmology import FlatLambdaCDM``. In future this will raise an exception. [astropy.cosmology.core]\n"
     ]
    }
   ],
   "source": [
    "import numpy as np\n",
    "import matplotlib\n",
    "import matplotlib.pyplot as plt\n",
    "import astropy.units as u # I use astropy units in everything, very helpful for bookkeeping/debugging\n",
    "\n",
    "#import sys \n",
    "#sys.path.append('..')\n",
    "\n",
    "from lim import lim # The base intensity mapping object\n",
    "\n",
    "matplotlib.rcParams.update({'font.size': 18,'figure.figsize':[8,7]}) # Make figures better\n",
    "#matplotlib.rcParams,update({}'figure.figsize'] = [8,7]"
   ]
  },
  {
   "cell_type": "code",
   "execution_count": 2,
   "id": "f972f1c5",
   "metadata": {},
   "outputs": [],
   "source": [
    "# Initialize LineModel with default model\n",
    "m = lim()"
   ]
  },
  {
   "cell_type": "code",
   "execution_count": 3,
   "id": "3829b3c2",
   "metadata": {},
   "outputs": [
    {
     "name": "stdout",
     "output_type": "stream",
     "text": [
      "Input cosmological model does not match simulations\n",
      "Setting analytic cosmology to match simulation\n"
     ]
    }
   ],
   "source": [
    "lim_cii = lim('Lichen_v2',doSim=True)"
   ]
  },
  {
   "cell_type": "markdown",
   "id": "b17a127a",
   "metadata": {},
   "source": [
    "- halo_centpix"
   ]
  },
  {
   "cell_type": "code",
   "execution_count": 4,
   "id": "8a7b734c",
   "metadata": {},
   "outputs": [],
   "source": [
    "def halo_centpix(lim_obj, halo_xpos, halo_ypos, halo_zpos):\n",
    "\n",
    "    '''\n",
    "    Parameters\n",
    "    ----------\n",
    "\n",
    "    halo_xpos: array_like\n",
    "               list of RA coordinates of halos, from the original distribution of halos\n",
    "\n",
    "    halo_ypos: array_like\n",
    "               list of DEC coordinates of halos, from the original distribution of halos\n",
    "\n",
    "\n",
    "    Returns\n",
    "    -------\n",
    "\n",
    "    halo_centpix_x: array_like\n",
    "                    list of the x-pixel positions of halos, mapped on the lim map\n",
    "\n",
    "\n",
    "    halo_centpix_x: array_like\n",
    "                    list of the y-pixel positions of halos, mapped on the lim map\n",
    "\n",
    "    '''\n",
    "\n",
    "    halo_centpix_x = [0 for i in range(len(halo_xpos))]\n",
    "    halo_centpix_y = [0 for i in range(len(halo_ypos))]\n",
    "    halo_centpix_z = [0 for i in range(len(halo_zpos))]\n",
    "    \n",
    "    map_xs = lim_obj.mapinst.pix_bincents_x\n",
    "    map_ys = lim_obj.mapinst.pix_bincents_y\n",
    "    map_zs = (lim_obj.mapinst.nu_rest/lim_obj.mapinst.nu_bincents) - 1\n",
    "\n",
    "    for i in range(len(halo_xpos)):\n",
    "        halo_centpix_x[i] = np.argmin(np.abs(halo_xpos[i] - map_xs))\n",
    "    for i in range(len(halo_ypos)):\n",
    "        halo_centpix_y[i] = np.argmin(np.abs(halo_ypos[i] - map_ys))\n",
    "    for i in range(len(halo_zpos)):\n",
    "        halo_centpix_z[i] = np.argmin(np.abs(halo_zpos[i] - map_zs))    \n",
    "    \n",
    "\n",
    "    return halo_centpix_x, halo_centpix_y, halo_centpix_z"
   ]
  },
  {
   "cell_type": "code",
   "execution_count": 5,
   "id": "f9699842",
   "metadata": {},
   "outputs": [],
   "source": [
    "def halo_centpix_v2(lim_obj, halo_xpos, halo_ypos, halo_zpos):\n",
    "\n",
    "    '''\n",
    "    Parameters\n",
    "    ----------\n",
    "\n",
    "    halo_xpos: array_like\n",
    "               list of RA coordinates of halos, from the original distribution of halos\n",
    "\n",
    "    halo_ypos: array_like\n",
    "               list of DEC coordinates of halos, from the original distribution of halos\n",
    "\n",
    "\n",
    "    Returns\n",
    "    -------\n",
    "\n",
    "    halo_centpix_x: array_like\n",
    "                    list of the x-pixel positions of halos, mapped on the lim map\n",
    "\n",
    "\n",
    "    halo_centpix_x: array_like\n",
    "                    list of the y-pixel positions of halos, mapped on the lim map\n",
    "\n",
    "    '''\n",
    "\n",
    "    map_xs = lim_obj.mapinst.pix_bincents_x\n",
    "    map_ys = lim_obj.mapinst.pix_bincents_y\n",
    "    map_zs = (lim_obj.mapinst.nu_rest/lim_obj.mapinst.nu_bincents) - 1\n",
    "    \n",
    "    pixcents_x_mesh, halo_xs_mesh = np.meshgrid(map_xs, halo_xpos)\n",
    "    halo_centpix_x = np.argmin(np.abs(halo_xs_mesh - pixcents_x_mesh), axis=1)\n",
    "    \n",
    "    pixcents_y_mesh, halo_ys_mesh = np.meshgrid(map_ys, halo_ypos)\n",
    "    halo_centpix_y = np.argmin(np.abs(halo_ys_mesh - pixcents_y_mesh), axis=1)\n",
    "    \n",
    "    pixcents_z_mesh, halo_zs_mesh = np.meshgrid(map_zs, halo_zpos)\n",
    "    halo_centpix_z = np.argmin(np.abs(halo_zs_mesh - pixcents_z_mesh), axis=1)\n",
    "    \n",
    "    return halo_centpix_x, halo_centpix_y, halo_centpix_z"
   ]
  },
  {
   "cell_type": "code",
   "execution_count": 6,
   "id": "fd0fd665",
   "metadata": {},
   "outputs": [],
   "source": [
    "err = 0.03\n",
    "mass_cut = 2*(10**10)\n",
    "ind = 3"
   ]
  },
  {
   "cell_type": "code",
   "execution_count": 7,
   "id": "96f03414",
   "metadata": {},
   "outputs": [
    {
     "name": "stdout",
     "output_type": "stream",
     "text": [
      "Loading .npz catalogues...\n"
     ]
    }
   ],
   "source": [
    "thresh = lim_cii.halos.M > mass_cut\n",
    "\n",
    "map_zs = (lim_cii.mapinst.nu_rest/lim_cii.mapinst.nu_bincents) - 1\n",
    "\n",
    "halo_zs = lim_cii.halos.redshift[thresh]\n",
    "\n",
    "good_halo_zs = np.where(np.logical_and(halo_zs >= map_zs[ind] - err, halo_zs <= map_zs[ind] + err))\n",
    "\n",
    "halo_xs = lim_cii.halos.ra[thresh][good_halo_zs]\n",
    "halo_ys = lim_cii.halos.dec[thresh][good_halo_zs]\n",
    "halo_zs = lim_cii.halos.redshift[thresh][good_halo_zs]"
   ]
  },
  {
   "cell_type": "code",
   "execution_count": 9,
   "id": "62e5c68b",
   "metadata": {},
   "outputs": [
    {
     "name": "stdout",
     "output_type": "stream",
     "text": [
      "CPU times: user 1.55 s, sys: 50.7 ms, total: 1.6 s\n",
      "Wall time: 1.58 s\n"
     ]
    }
   ],
   "source": [
    "%%time\n",
    "hc = halo_centpix(lim_cii, halo_xs, halo_ys, halo_zs)"
   ]
  },
  {
   "cell_type": "code",
   "execution_count": 10,
   "id": "9dead6f5",
   "metadata": {},
   "outputs": [
    {
     "name": "stdout",
     "output_type": "stream",
     "text": [
      "CPU times: user 221 ms, sys: 192 ms, total: 413 ms\n",
      "Wall time: 416 ms\n"
     ]
    },
    {
     "data": {
      "text/plain": [
       "(array([129, 128, 106, ..., 208, 214, 220]),\n",
       " array([218, 237, 232, ...,  22,  19,  15]),\n",
       " array([4, 4, 4, ..., 4, 4, 4]))"
      ]
     },
     "execution_count": 10,
     "metadata": {},
     "output_type": "execute_result"
    }
   ],
   "source": [
    "%%time\n",
    "halo_centpix_v2(lim_cii, halo_xs, halo_ys, halo_zs)"
   ]
  },
  {
   "cell_type": "markdown",
   "id": "f1c2c1dc",
   "metadata": {},
   "source": [
    "The meshgrid computation takes about 10 times less time! v2 is much better"
   ]
  },
  {
   "cell_type": "markdown",
   "id": "ceda46d2",
   "metadata": {},
   "source": [
    "### Vectorization Exploration"
   ]
  },
  {
   "cell_type": "markdown",
   "id": "327f762b",
   "metadata": {},
   "source": [
    "Sample run to understand"
   ]
  },
  {
   "cell_type": "code",
   "execution_count": 61,
   "id": "4cbffed8",
   "metadata": {},
   "outputs": [],
   "source": [
    "from scipy.spatial import KDTree"
   ]
  },
  {
   "cell_type": "code",
   "execution_count": 144,
   "id": "4089fa83",
   "metadata": {},
   "outputs": [],
   "source": [
    "data = np.random.rand(100,2) # grid on which we wish to map out cloud of points\n",
    "sample = np.random.rand(80,2) # cloud of points\n",
    "kdtree = KDTree(data)"
   ]
  },
  {
   "cell_type": "code",
   "execution_count": 180,
   "id": "4623b2c2",
   "metadata": {},
   "outputs": [],
   "source": [
    "dist, points = kdtree.query(sample) # distance and indices of nearest neighbors"
   ]
  },
  {
   "cell_type": "code",
   "execution_count": 183,
   "id": "8677ec0c",
   "metadata": {},
   "outputs": [],
   "source": [
    "plot_data = data.T\n",
    "plot_sample = sample.T\n",
    "plot_points = points.T"
   ]
  },
  {
   "cell_type": "code",
   "execution_count": 185,
   "id": "c3633ae3",
   "metadata": {},
   "outputs": [
    {
     "data": {
      "text/plain": [
       "<matplotlib.legend.Legend at 0x7f2e2ecaf4f0>"
      ]
     },
     "execution_count": 185,
     "metadata": {},
     "output_type": "execute_result"
    },
    {
     "data": {
      "image/png": "[encoded data removed]",
      "text/plain": [
       "<Figure size 576x504 with 1 Axes>"
      ]
     },
     "metadata": {
      "needs_background": "light"
     },
     "output_type": "display_data"
    }
   ],
   "source": [
    "plt.plot(plot_data[0], plot_data[1], '.', label = 'data')\n",
    "plt.plot(plot_sample[0], plot_sample[1], '.', label = 'sample')\n",
    "\n",
    "plt.plot(plot_sample[0][0], plot_sample[1][0], '.k', label = 'first point')\n",
    "plt.plot(plot_data[0][points[0]], plot_data[1][points[0]], '.g', label = 'closest data')\n",
    "\n",
    "plt.legend(bbox_to_anchor = [1, 1])"
   ]
  },
  {
   "cell_type": "markdown",
   "id": "415ce4b8",
   "metadata": {},
   "source": [
    "Define new version of function using the nearest neighbors' tree:"
   ]
  },
  {
   "cell_type": "code",
   "execution_count": 250,
   "id": "bc777e91",
   "metadata": {},
   "outputs": [],
   "source": [
    "def halo_centpix_v3(lim_obj, halo_xpos, halo_ypos, halo_zpos):\n",
    "\n",
    "    map_xs = lim_obj.mapinst.pix_bincents_x\n",
    "    map_ys = lim_obj.mapinst.pix_bincents_y\n",
    "    map_zs = (lim_obj.mapinst.nu_rest/lim_obj.mapinst.nu_bincents) - 1\n",
    "    \n",
    "    map_data = np.reshape(np.transpose(np.meshgrid(map_xs, map_ys, map_zs)), \n",
    "                          [len(map_xs)*len(map_ys)*len(map_zs), 3])\n",
    "\n",
    "    halo_sample = np.transpose(np.array([halo_xs, halo_ys, halo_zs]))\n",
    "    \n",
    "    tree = KDTree(map_data)\n",
    "\n",
    "    _, points = tree.query(halo_sample)\n",
    "    \n",
    "    return map_data[points]"
   ]
  },
  {
   "cell_type": "code",
   "execution_count": 257,
   "id": "0ffc0b40",
   "metadata": {},
   "outputs": [
    {
     "name": "stdout",
     "output_type": "stream",
     "text": [
      "CPU times: user 3.52 s, sys: 88.1 ms, total: 3.6 s\n",
      "Wall time: 3.62 s\n"
     ]
    },
    {
     "data": {
      "text/plain": [
       "array([[-0.26912181,  0.23512748,  5.89818182],\n",
       "       [-0.27478754,  0.3427762 ,  5.89818182],\n",
       "       [-0.39943343,  0.31444759,  5.89818182],\n",
       "       ...,\n",
       "       [ 0.17847025, -0.87535411,  5.89818182],\n",
       "       [ 0.21246459, -0.89235127,  5.89818182],\n",
       "       [ 0.24645892, -0.91501416,  5.89818182]])"
      ]
     },
     "execution_count": 257,
     "metadata": {},
     "output_type": "execute_result"
    }
   ],
   "source": [
    "%%time\n",
    "halo_centpix_v3(lim_cii, halo_xs, halo_ys, halo_zs)"
   ]
  },
  {
   "cell_type": "markdown",
   "id": "530c7dcc",
   "metadata": {},
   "source": [
    "It works! But two problems: \n",
    "- 1) the returning output is not what I wanted (the index of the mapped positions): it's the mapped positions themselves. But because I reshaped arrays to run the tree, it's not trivial to retrieve the indices that I want.\n",
    "- 2) It takes quite more time (3-4 s on average)\n",
    "- Albeit I won't use that tool for now, it's good that I made it work and that I understand how it works. It may be very useful for other future problems."
   ]
  },
  {
   "cell_type": "markdown",
   "id": "274088d2",
   "metadata": {},
   "source": [
    "So for now, the best halo_centpix function to use is the v2"
   ]
  },
  {
   "cell_type": "markdown",
   "id": "de6f742f",
   "metadata": {},
   "source": [
    "- halo_map"
   ]
  },
  {
   "cell_type": "code",
   "execution_count": 13,
   "id": "a298e697",
   "metadata": {},
   "outputs": [],
   "source": [
    "def halo_map(lim_obj, n, halo_xpos, halo_ypos, halo_zpos):\n",
    "\n",
    "    halo_mapx = [0 for i in range(len(halo_xpos))]\n",
    "    halo_mapy = [0 for i in range(len(halo_ypos))]\n",
    "\n",
    "    halo_centpix_x, halo_centpix_y, _ = halo_centpix_v2(lim_obj, halo_xpos, halo_ypos, halo_zpos)\n",
    "\n",
    "    for i in range(len(halo_xpos)):\n",
    "        halo_mapx[i] = np.linspace(halo_centpix_x[i] - ((n - 1)/2), halo_centpix_x[i] + ((n - 1)/2), n)\n",
    "    for i in range(len(halo_ypos)):\n",
    "        halo_mapy[i] = np.linspace(halo_centpix_y[i] - ((n - 1)/2), halo_centpix_y[i] + ((n - 1)/2), n)\n",
    "\n",
    "    return halo_mapx, halo_mapy"
   ]
  },
  {
   "cell_type": "code",
   "execution_count": 15,
   "id": "4f7b52f5",
   "metadata": {},
   "outputs": [
    {
     "name": "stdout",
     "output_type": "stream",
     "text": [
      "CPU times: user 6.46 s, sys: 475 ms, total: 6.94 s\n",
      "Wall time: 6.86 s\n"
     ]
    }
   ],
   "source": [
    "%%time\n",
    "hm = halo_map(lim_cii, 11, halo_xs, halo_ys, halo_zs)"
   ]
  },
  {
   "cell_type": "code",
   "execution_count": 16,
   "id": "e6e808a6",
   "metadata": {},
   "outputs": [],
   "source": [
    "def halo_map_v2(lim_obj, n, halo_xpos, halo_ypos, halo_zpos):\n",
    "\n",
    "    halo_mapx = [0 for i in range(len(halo_xpos))]\n",
    "    halo_mapy = [0 for i in range(len(halo_ypos))]\n",
    "\n",
    "    halo_centpix_x, halo_centpix_y, _ = halo_centpix_v2(lim_obj, halo_xpos, halo_ypos, halo_zpos)\n",
    "\n",
    "    halo_mapx = np.linspace(halo_centpix_x - ((n - 1)/2), halo_centpix_x + ((n - 1)/2), n, axis = 1)\n",
    "    halo_mapy = np.linspace(halo_centpix_y - ((n - 1)/2), halo_centpix_y + ((n - 1)/2), n, axis = 1)\n",
    "\n",
    "    return halo_mapx, halo_mapy"
   ]
  },
  {
   "cell_type": "code",
   "execution_count": 25,
   "id": "42d9c91c",
   "metadata": {},
   "outputs": [
    {
     "name": "stdout",
     "output_type": "stream",
     "text": [
      "CPU times: user 231 ms, sys: 185 ms, total: 417 ms\n",
      "Wall time: 418 ms\n"
     ]
    }
   ],
   "source": [
    "%%time\n",
    "halo_mapx, halo_mapy = halo_map_v2(lim_cii, 11, halo_xs, halo_ys, halo_zs)"
   ]
  },
  {
   "cell_type": "markdown",
   "id": "daca2b44",
   "metadata": {},
   "source": [
    "- lum"
   ]
  },
  {
   "cell_type": "code",
   "execution_count": 18,
   "id": "94085c36",
   "metadata": {},
   "outputs": [],
   "source": [
    "def lum(lim_obj, ind, n, halo_xpos, halo_ypos, halo_zpos):\n",
    "\n",
    "    halo_mapx, halo_mapy = halo_map(lim_obj, n, halo_xpos, halo_ypos, halo_zpos)\n",
    "    \n",
    "    npix_x, npix_y = lim_obj.mapinst.npix_x + 1, lim_obj.mapinst.npix_y + 1\n",
    "    n_halos = len(halo_xpos)\n",
    "\n",
    "    lum_pure = [[[[] for i in range(n)] for j in range(n)] for k in range(n_halos)]\n",
    "    lum_noisy= [[[[] for i in range(n)] for j in range(n)] for k in range(n_halos)]\n",
    "\n",
    "    pure_map = lim_obj.maps.value\n",
    "    noisy_map = lim_obj.noise_added_map\n",
    "    \n",
    "    for i in range(n_halos):\n",
    "        for j in range(len(halo_mapx[i])):\n",
    "            for k in range(len(halo_mapy[i])):\n",
    "                if int(halo_mapx[i][j]) < npix_x:\n",
    "                    if int(halo_mapy[i][k]) < npix_y:\n",
    "                            lum_pure[i][j][k] = pure_map[int(halo_mapx[i][j]), int(halo_mapy[i][k]), ind]\n",
    "                            lum_noisy[i][j][k]= noisy_map[int(halo_mapx[i][j]), int(halo_mapy[i][k]), ind]\n",
    "                    else:\n",
    "                        lum_pure[i][j][k] = np.nan\n",
    "                        lum_noisy[i][j][k]= np.nan\n",
    "                else:\n",
    "                    lum_pure[i][j][k] = np.nan\n",
    "                    lum_noisy[i][j][k]= np.nan\n",
    "        \n",
    "    return lum_pure, lum_noisy"
   ]
  },
  {
   "cell_type": "code",
   "execution_count": 19,
   "id": "ee5118b9",
   "metadata": {},
   "outputs": [
    {
     "name": "stdout",
     "output_type": "stream",
     "text": [
      "CPU times: user 3min 41s, sys: 1.77 s, total: 3min 43s\n",
      "Wall time: 3min 45s\n"
     ]
    }
   ],
   "source": [
    "%%time\n",
    "pure_cii, noisy_cii = lum(lim_cii, 3, 11, halo_xs, halo_ys, halo_zs)"
   ]
  },
  {
   "cell_type": "code",
   "execution_count": 21,
   "id": "a37f3935",
   "metadata": {},
   "outputs": [
    {
     "data": {
      "text/plain": [
       "22.5"
      ]
     },
     "execution_count": 21,
     "metadata": {},
     "output_type": "execute_result"
    }
   ],
   "source": [
    "(60*3 + 45)/10"
   ]
  },
  {
   "cell_type": "code",
   "execution_count": 26,
   "id": "de96c7a7",
   "metadata": {},
   "outputs": [],
   "source": [
    "def halo_map_v3(lim_obj, n, halo_xpos, halo_ypos, halo_zpos):\n",
    "\n",
    "    halo_centpix_x, halo_centpix_y, halo_centpix_z = halo_centpix_v2(lim_obj, halo_xpos, halo_ypos, halo_zpos)\n",
    "\n",
    "    halo_mapx = np.linspace(halo_centpix_x - ((n - 1)/2), halo_centpix_x + ((n - 1)/2), n, axis = 1)\n",
    "    halo_mapy = np.linspace(halo_centpix_y - ((n - 1)/2), halo_centpix_y + ((n - 1)/2), n, axis = 1)\n",
    "    halo_mapz = halo_centpix_z\n",
    "    \n",
    "    npix_x, npix_y = lim_obj.mapinst.npix_x + 1, lim_obj.mapinst.npix_y + 1\n",
    "    outb_x = halo_mapx >= npix_x\n",
    "    outb_y = halo_mapy >= npix_y\n",
    "    \n",
    "    halo_mapx[outb_x] = None\n",
    "    halo_mapy[outb_y] = None\n",
    "    \n",
    "    return halo_mapx, halo_mapy, halo_mapz"
   ]
  },
  {
   "cell_type": "code",
   "execution_count": 174,
   "id": "be18d022",
   "metadata": {},
   "outputs": [],
   "source": [
    "def inbound_halos(lim_obj, n, halo_xpos, halo_ypos, halo_zpos):\n",
    "    \n",
    "    halo_mapx, halo_mapy, halo_mapz = halo_map_v3(lim_obj, n, halo_xpos, halo_ypos, halo_zpos)\n",
    "\n",
    "    inb_x = ~np.isnan(halo_mapx).any(axis = 1)\n",
    "    inb_y = ~np.isnan(halo_mapy).any(axis = 1)\n",
    "    \n",
    "    inb = np.logical_and(inb_x, inb_y)\n",
    "            \n",
    "    return halo_mapx, halo_mapy, halo_mapz, inb"
   ]
  },
  {
   "cell_type": "code",
   "execution_count": 172,
   "id": "0d4f7640",
   "metadata": {},
   "outputs": [],
   "source": [
    "_, _, _, inb_tot = inbound_halos_new(lim_cii, 11, halo_xs, halo_ys, halo_zs)"
   ]
  },
  {
   "cell_type": "code",
   "execution_count": null,
   "id": "04649cb2",
   "metadata": {},
   "outputs": [],
   "source": [
    "inb_tot = np.logical_and(inb_x, )"
   ]
  },
  {
   "cell_type": "code",
   "execution_count": 173,
   "id": "7ce1ba0f",
   "metadata": {},
   "outputs": [
    {
     "data": {
      "text/plain": [
       "44063"
      ]
     },
     "execution_count": 173,
     "metadata": {},
     "output_type": "execute_result"
    }
   ],
   "source": [
    "len(halo_xs[inb_tot])"
   ]
  },
  {
   "cell_type": "code",
   "execution_count": 154,
   "id": "a8a4c84c",
   "metadata": {},
   "outputs": [
    {
     "data": {
      "text/plain": [
       "44063"
      ]
     },
     "execution_count": 154,
     "metadata": {},
     "output_type": "execute_result"
    }
   ],
   "source": [
    "len(halo_xs[inb_x][inb_y])"
   ]
  },
  {
   "cell_type": "code",
   "execution_count": 156,
   "id": "9edd2ccf",
   "metadata": {},
   "outputs": [
    {
     "data": {
      "text/plain": [
       "44709"
      ]
     },
     "execution_count": 156,
     "metadata": {},
     "output_type": "execute_result"
    }
   ],
   "source": [
    "len(halo_zs)"
   ]
  },
  {
   "cell_type": "code",
   "execution_count": 157,
   "id": "9e6db144",
   "metadata": {},
   "outputs": [
    {
     "data": {
      "text/plain": [
       "44709"
      ]
     },
     "execution_count": 157,
     "metadata": {},
     "output_type": "execute_result"
    }
   ],
   "source": [
    "len(inb_tot)"
   ]
  },
  {
   "cell_type": "markdown",
   "id": "a17debe4",
   "metadata": {},
   "source": [
    "- new exploration for collecting luminosities"
   ]
  },
  {
   "cell_type": "code",
   "execution_count": 29,
   "id": "1308f05b",
   "metadata": {},
   "outputs": [
    {
     "name": "stdout",
     "output_type": "stream",
     "text": [
      "CPU times: user 214 ms, sys: 214 ms, total: 428 ms\n",
      "Wall time: 430 ms\n"
     ]
    }
   ],
   "source": [
    "%%time\n",
    "halo_mapx, halo_mapy, halo_mapz, inb_x, inb_y = inbound_halos(lim_cii, 11, halo_xs, halo_ys, halo_zs)"
   ]
  },
  {
   "cell_type": "code",
   "execution_count": 42,
   "id": "d47968c7",
   "metadata": {},
   "outputs": [
    {
     "data": {
      "text/plain": [
       "array([4, 4, 4, ..., 4, 4, 4])"
      ]
     },
     "execution_count": 42,
     "metadata": {},
     "output_type": "execute_result"
    }
   ],
   "source": [
    "halo_mapz"
   ]
  },
  {
   "cell_type": "code",
   "execution_count": 52,
   "id": "25443b62",
   "metadata": {},
   "outputs": [],
   "source": [
    "halo_mapx_in = halo_mapx[inb_x][inb_y].astype(int)\n",
    "halo_mapy_in = halo_mapy[inb_x][inb_y].astype(int)\n",
    "halo_mapz_in = halo_mapz[inb_x][inb_y]"
   ]
  },
  {
   "cell_type": "code",
   "execution_count": 67,
   "id": "c8428062",
   "metadata": {},
   "outputs": [
    {
     "name": "stdout",
     "output_type": "stream",
     "text": [
      "CPU times: user 12 s, sys: 16.6 s, total: 28.6 s\n",
      "Wall time: 29 s\n"
     ]
    }
   ],
   "source": [
    "%%time\n",
    "wht = pure_map[halo_mapx_in]"
   ]
  },
  {
   "cell_type": "code",
   "execution_count": 72,
   "id": "4dbde167",
   "metadata": {},
   "outputs": [
    {
     "name": "stdout",
     "output_type": "stream",
     "text": [
      "CPU times: user 11.4 s, sys: 18.3 s, total: 29.7 s\n",
      "Wall time: 30.1 s\n"
     ]
    }
   ],
   "source": [
    "%%time\n",
    "sig_x = np.take(pure_map, halo_mapx_in, axis = 0)"
   ]
  },
  {
   "cell_type": "code",
   "execution_count": 75,
   "id": "8e6e2ac8",
   "metadata": {},
   "outputs": [
    {
     "name": "stdout",
     "output_type": "stream",
     "text": [
      "CPU times: user 30 µs, sys: 0 ns, total: 30 µs\n",
      "Wall time: 42 µs\n"
     ]
    },
    {
     "data": {
      "text/plain": [
       "(44063, 11, 354, 54)"
      ]
     },
     "execution_count": 75,
     "metadata": {},
     "output_type": "execute_result"
    }
   ],
   "source": [
    "%%time\n",
    "np.shape(sig_x[:, ])"
   ]
  },
  {
   "cell_type": "code",
   "execution_count": 76,
   "id": "1aeec1a3",
   "metadata": {},
   "outputs": [
    {
     "data": {
      "text/plain": [
       "array([124, 125, 126, 127, 128, 129, 130, 131, 132, 133, 134])"
      ]
     },
     "execution_count": 76,
     "metadata": {},
     "output_type": "execute_result"
    }
   ],
   "source": [
    "halo_mapx_in[0]"
   ]
  },
  {
   "cell_type": "code",
   "execution_count": 78,
   "id": "580f0d74",
   "metadata": {},
   "outputs": [
    {
     "data": {
      "text/plain": [
       "array([213, 214, 215, 216, 217, 218, 219, 220, 221, 222, 223])"
      ]
     },
     "execution_count": 78,
     "metadata": {},
     "output_type": "execute_result"
    }
   ],
   "source": [
    "halo_mapy_in[0]"
   ]
  },
  {
   "cell_type": "code",
   "execution_count": 84,
   "id": "c9613f88",
   "metadata": {},
   "outputs": [
    {
     "data": {
      "text/plain": [
       "(11, 54)"
      ]
     },
     "execution_count": 84,
     "metadata": {},
     "output_type": "execute_result"
    }
   ],
   "source": [
    "np.shape(pure_map[halo_mapx_in[0], halo_mapy_in[0]])"
   ]
  },
  {
   "cell_type": "code",
   "execution_count": 100,
   "id": "d331072c",
   "metadata": {},
   "outputs": [
    {
     "data": {
      "text/plain": [
       "4"
      ]
     },
     "execution_count": 100,
     "metadata": {},
     "output_type": "execute_result"
    }
   ],
   "source": [
    "halo_mapz_in[0]"
   ]
  },
  {
   "cell_type": "code",
   "execution_count": 97,
   "id": "25fecd78",
   "metadata": {},
   "outputs": [
    {
     "name": "stdout",
     "output_type": "stream",
     "text": [
      "CPU times: user 9 µs, sys: 2 µs, total: 11 µs\n",
      "Wall time: 23.1 µs\n"
     ]
    }
   ],
   "source": [
    "%time\n",
    "grid_0 = np.meshgrid(halo_mapx_in[0], halo_mapy_in[0], halo_mapz_in[0])"
   ]
  },
  {
   "cell_type": "code",
   "execution_count": 104,
   "id": "ab0b371b",
   "metadata": {},
   "outputs": [],
   "source": [
    "grid_0 = np.reshape(grid_0, (3, 11, 11))"
   ]
  },
  {
   "cell_type": "code",
   "execution_count": 105,
   "id": "ffe1ff20",
   "metadata": {},
   "outputs": [
    {
     "data": {
      "text/plain": [
       "(11, 11)"
      ]
     },
     "execution_count": 105,
     "metadata": {},
     "output_type": "execute_result"
    }
   ],
   "source": [
    "np.shape(pure_map[grid_0[0], grid_0[1], grid_0[2]])"
   ]
  },
  {
   "cell_type": "code",
   "execution_count": 119,
   "id": "4bed3ecb",
   "metadata": {},
   "outputs": [],
   "source": [
    "n_halos = len(halo_xs[inb_x][inb_y])\n",
    "grid = [0 for i in range(n_halos)]\n",
    "sigs = [0 for i in range(n_halos)]\n",
    "\n",
    "for i in range(len(halo_xs[inb_x][inb_y])):\n",
    "    \n",
    "    grid[i] = np.meshgrid(halo_mapx_in[i], halo_mapy_in[i], halo_mapz_in[i])\n",
    "    sigs[i] = pure_map[grid[i][0], grid[i][1], grid[i][2]]\n",
    "\n",
    "sigs = np.reshape(sigs, (n_halos, 11, 11))"
   ]
  },
  {
   "cell_type": "code",
   "execution_count": 120,
   "id": "0ccfd1c8",
   "metadata": {},
   "outputs": [
    {
     "data": {
      "text/plain": [
       "(44063, 11, 11)"
      ]
     },
     "execution_count": 120,
     "metadata": {},
     "output_type": "execute_result"
    }
   ],
   "source": [
    "np.shape(sigs)"
   ]
  },
  {
   "cell_type": "code",
   "execution_count": 122,
   "id": "d7df7cf1",
   "metadata": {},
   "outputs": [],
   "source": [
    "avg_sig = np.nanmean(sigs, axis = 0)"
   ]
  },
  {
   "cell_type": "code",
   "execution_count": 124,
   "id": "0c54d026",
   "metadata": {},
   "outputs": [
    {
     "data": {
      "text/plain": [
       "<matplotlib.image.AxesImage at 0x7fdb906eec20>"
      ]
     },
     "execution_count": 124,
     "metadata": {},
     "output_type": "execute_result"
    },
    {
     "data": {
      "image/png": "[encoded data removed]",
      "text/plain": [
       "<Figure size 576x504 with 1 Axes>"
      ]
     },
     "metadata": {
      "needs_background": "light"
     },
     "output_type": "display_data"
    }
   ],
   "source": [
    "plt.imshow(avg_sig)"
   ]
  },
  {
   "cell_type": "code",
   "execution_count": 132,
   "id": "6c18ee8f",
   "metadata": {},
   "outputs": [
    {
     "data": {
      "text/plain": [
       "44416"
      ]
     },
     "execution_count": 132,
     "metadata": {},
     "output_type": "execute_result"
    }
   ],
   "source": [
    "len(inb_y)"
   ]
  },
  {
   "cell_type": "code",
   "execution_count": 133,
   "id": "236e6d7e",
   "metadata": {},
   "outputs": [
    {
     "data": {
      "text/plain": [
       "44709"
      ]
     },
     "execution_count": 133,
     "metadata": {},
     "output_type": "execute_result"
    }
   ],
   "source": [
    "len(inb_x)"
   ]
  },
  {
   "cell_type": "code",
   "execution_count": 134,
   "id": "280e665d",
   "metadata": {},
   "outputs": [
    {
     "ename": "ValueError",
     "evalue": "operands could not be broadcast together with shapes (44709,) (44416,) ",
     "output_type": "error",
     "traceback": [
      "\u001b[0;31m---------------------------------------------------------------------------\u001b[0m",
      "\u001b[0;31mValueError\u001b[0m                                Traceback (most recent call last)",
      "Input \u001b[0;32mIn [134]\u001b[0m, in \u001b[0;36m<module>\u001b[0;34m\u001b[0m\n\u001b[0;32m----> 1\u001b[0m \u001b[43mnp\u001b[49m\u001b[38;5;241;43m.\u001b[39;49m\u001b[43mlogical_and\u001b[49m\u001b[43m(\u001b[49m\u001b[43minb_x\u001b[49m\u001b[43m,\u001b[49m\u001b[43m \u001b[49m\u001b[43minb_y\u001b[49m\u001b[43m)\u001b[49m\n",
      "\u001b[0;31mValueError\u001b[0m: operands could not be broadcast together with shapes (44709,) (44416,) "
     ]
    }
   ],
   "source": [
    "np.logical_and(inb_x, inb_y)"
   ]
  },
  {
   "cell_type": "code",
   "execution_count": 185,
   "id": "e207ec18",
   "metadata": {},
   "outputs": [],
   "source": [
    "def lum_v3(lim_obj, n, halo_xpos, halo_ypos, halo_zpos):\n",
    "\n",
    "    halo_mapx, halo_mapy, halo_mapz, inb = inbound_halos(lim_obj, n, halo_xpos, halo_ypos, halo_zpos)\n",
    "    \n",
    "    inb_mapx = halo_mapx[inb].astype(int)\n",
    "    inb_mapy = halo_mapy[inb].astype(int)\n",
    "    inb_mapz = halo_mapz[inb].astype(int)\n",
    "\n",
    "    nhalos = len(inb_mapx)\n",
    "    \n",
    "    pure_map = lim_obj.maps.value\n",
    "    noisy_map= lim_obj.noise_added_map\n",
    "    \n",
    "    grid = [0 for i in range(nhalos)]\n",
    "    sigs = [0 for i in range(nhalos)]\n",
    "    noisy= [0 for i in range(nhalos)]\n",
    "    \n",
    "    for i in range(nhalos):\n",
    "    \n",
    "        grid[i] = np.meshgrid(inb_mapx[i], inb_mapy[i], inb_mapz[i])\n",
    "        sigs[i] = pure_map[grid[i][0], grid[i][1], grid[i][2]]\n",
    "        noisy[i]= noisy_map[grid[i][0], grid[i][1], grid[i][2]]\n",
    "        \n",
    "    sigs = np.reshape(sigs, (nhalos, n, n))\n",
    "    noisy= np.reshape(noisy, (nhalos, n, n))\n",
    "    \n",
    "    return sigs, noisy"
   ]
  },
  {
   "cell_type": "code",
   "execution_count": 202,
   "id": "5bda9294",
   "metadata": {},
   "outputs": [
    {
     "name": "stdout",
     "output_type": "stream",
     "text": [
      "CPU times: user 18.1 s, sys: 3 s, total: 21.1 s\n",
      "Wall time: 21.3 s\n"
     ]
    }
   ],
   "source": [
    "%%time\n",
    "pure_sig, noisy_sig = lum_v3(lim_cii, 50, halo_xs, halo_ys, halo_zs )"
   ]
  },
  {
   "cell_type": "code",
   "execution_count": 203,
   "id": "5711ee7b",
   "metadata": {},
   "outputs": [
    {
     "data": {
      "text/plain": [
       "Text(0.5, 0, '$RA-pixels$')"
      ]
     },
     "execution_count": 203,
     "metadata": {},
     "output_type": "execute_result"
    },
    {
     "data": {
      "image/png": "[encoded data removed]",
      "text/plain": [
       "<Figure size 1440x576 with 4 Axes>"
      ]
     },
     "metadata": {
      "needs_background": "light"
     },
     "output_type": "display_data"
    }
   ],
   "source": [
    "fig , axes = plt.subplots(nrows = 1, ncols = 2, figsize = (20, 8))\n",
    "\n",
    "plt.subplot(121)\n",
    "plt.imshow(np.nanmean(pure_sig, axis = 0), cmap = 'CMRmap')\n",
    "plt.colorbar()\n",
    "plt.title(r'$Pure\\ CII\\ stacked\\ map$', math_fontfamily = 'dejavuserif')\n",
    "plt.xlabel(r'$RA-pixels$', math_fontfamily='dejavuserif')\n",
    "plt.ylabel(r'$DEC-pixels$', math_fontfamily='dejavuserif')\n",
    "\n",
    "plt.subplot(122)\n",
    "plt.imshow(np.nanmean(noisy_sig, axis = 0), cmap = 'CMRmap')\n",
    "plt.colorbar(label = r'$Signal\\ [Jy/sr]$')\n",
    "plt.title(r'$Forecast\\ CII\\ stacked\\ map$', math_fontfamily = 'dejavuserif')\n",
    "plt.xlabel(r'$RA-pixels$', math_fontfamily='dejavuserif')"
   ]
  },
  {
   "cell_type": "code",
   "execution_count": 204,
   "id": "11c04a09",
   "metadata": {},
   "outputs": [
    {
     "data": {
      "text/latex": [
       "$2000 \\; \\mathrm{h}$"
      ],
      "text/plain": [
       "<Quantity 2000. h>"
      ]
     },
     "execution_count": 204,
     "metadata": {},
     "output_type": "execute_result"
    }
   ],
   "source": [
    "lim_cii.tobs"
   ]
  },
  {
   "cell_type": "code",
   "execution_count": 208,
   "id": "cf411ddb",
   "metadata": {},
   "outputs": [
    {
     "data": {
      "text/plain": [
       "5.870422535211265"
      ]
     },
     "execution_count": 208,
     "metadata": {},
     "output_type": "execute_result"
    }
   ],
   "source": [
    "map_zs[3]"
   ]
  },
  {
   "cell_type": "code",
   "execution_count": 209,
   "id": "92ac815f",
   "metadata": {},
   "outputs": [],
   "source": [
    "def pix_res(beam_width, map_dim_deg, map_dim_pix):\n",
    "    '''\n",
    "    beam_width in arcmin\n",
    "    map_dim_pix in pixels\n",
    "    map_dim_deg in degrees\n",
    "    \n",
    "    '''\n",
    "    \n",
    "    ang_res = (beam_width.to(u.arcmin))/2.355\n",
    "    map_dim_deg.to(u.deg)\n",
    "    \n",
    "    \n",
    "    return ang_res/((map_dim_deg/map_dim_pix)*(60*u.arcmin/u.deg))"
   ]
  },
  {
   "cell_type": "code",
   "execution_count": 216,
   "id": "c2bb10b8",
   "metadata": {},
   "outputs": [
    {
     "data": {
      "text/latex": [
       "$50.106157 \\; \\mathrm{}$"
      ],
      "text/plain": [
       "<Quantity 50.10615711>"
      ]
     },
     "execution_count": 216,
     "metadata": {},
     "output_type": "execute_result"
    }
   ],
   "source": [
    "pix_res(40*u.arcmin, 2*u.deg, 354)"
   ]
  },
  {
   "cell_type": "code",
   "execution_count": 214,
   "id": "12ad2a48",
   "metadata": {},
   "outputs": [
    {
     "data": {
      "text/latex": [
       "$8.3333333 \\; \\mathrm{{}^{\\prime}}$"
      ],
      "text/plain": [
       "<Quantity 8.33333333 arcmin>"
      ]
     },
     "execution_count": 214,
     "metadata": {},
     "output_type": "execute_result"
    }
   ],
   "source": [
    "(500*u.arcsec).to(u.arcmin)"
   ]
  },
  {
   "cell_type": "code",
   "execution_count": 219,
   "id": "a8a015ba",
   "metadata": {},
   "outputs": [
    {
     "data": {
      "text/plain": [
       "array([5.78846918, 5.81556886, 5.84288577, 5.87042254, 5.89818182,\n",
       "       5.92616633, 5.95437882, 5.98282209, 6.01149897, 6.04041237,\n",
       "       6.06956522, 6.0989605 , 6.12860125, 6.15849057, 6.18863158,\n",
       "       6.21902748, 6.24968153, 6.28059701, 6.3117773 , 6.34322581,\n",
       "       6.374946  , 6.40694143, 6.43921569, 6.47177243, 6.50461538,\n",
       "       6.53774834, 6.57117517, 6.60489978, 6.63892617, 6.67325843,\n",
       "       6.70790068, 6.74285714, 6.77813212, 6.81372998, 6.84965517,\n",
       "       6.88591224, 6.9225058 , 6.95944056, 6.99672131, 7.03435294,\n",
       "       7.07234043, 7.11068884, 7.14940334, 7.18848921, 7.22795181,\n",
       "       7.26779661, 7.3080292 , 7.34865526, 7.38968059, 7.43111111,\n",
       "       7.47295285, 7.51521197, 7.55789474, 7.60100756])"
      ]
     },
     "execution_count": 219,
     "metadata": {},
     "output_type": "execute_result"
    }
   ],
   "source": [
    "map_zs"
   ]
  },
  {
   "cell_type": "code",
   "execution_count": null,
   "id": "7503dbe7",
   "metadata": {},
   "outputs": [],
   "source": []
  },
  {
   "cell_type": "code",
   "execution_count": null,
   "id": "ece4e707",
   "metadata": {},
   "outputs": [],
   "source": []
  },
  {
   "cell_type": "code",
   "execution_count": null,
   "id": "e300caf3",
   "metadata": {},
   "outputs": [],
   "source": []
  },
  {
   "cell_type": "code",
   "execution_count": 226,
   "id": "3f0b9fda",
   "metadata": {},
   "outputs": [],
   "source": [
    "def lum_v2(lim_obj, ind, n, halo_xpos, halo_ypos, halo_zpos):\n",
    "\n",
    "    halo_mapx, halo_mapy, halo_mapz = halo_map_v3(lim_obj, n, halo_xpos, halo_ypos, halo_zpos)\n",
    "    \n",
    "    npix_x, npix_y = lim_obj.mapinst.npix_x + 1, lim_obj.mapinst.npix_y + 1\n",
    "    n_halos = len(halo_xpos)\n",
    "\n",
    "    pure_map = lim_obj.maps.value\n",
    "    \n",
    "    for i in range(n_halos):\n",
    "        pure_x = np.take(pure_map, halo_mapx.astype(int)[i], axis = 0)\n",
    "        pure_xy = np.take(sig_x, halo_mapy.astype(int)[i], axis = 1)\n",
    "        pure_xyz = np.take(sig_xy, halo_mapz.astype(int)[i], axis = 2)\n",
    "        \n",
    "    return pure_xyz"
   ]
  },
  {
   "cell_type": "code",
   "execution_count": 320,
   "id": "78f41905",
   "metadata": {},
   "outputs": [],
   "source": [
    "halo_mapx, halo_mapy, halo_mapz = halo_map_v3(lim_cii, 11, halo_xs, halo_ys, halo_zs)"
   ]
  },
  {
   "cell_type": "code",
   "execution_count": 39,
   "id": "0565511a",
   "metadata": {},
   "outputs": [],
   "source": [
    "pure_map = lim_cii.maps.value\n",
    "noisy_map = lim_cii.noise_added_map"
   ]
  },
  {
   "cell_type": "code",
   "execution_count": 170,
   "id": "3fb814fc",
   "metadata": {},
   "outputs": [
    {
     "data": {
      "text/plain": [
       "array([[124, 125, 126, ..., 132, 133, 134],\n",
       "       [123, 124, 125, ..., 131, 132, 133],\n",
       "       [101, 102, 103, ..., 109, 110, 111],\n",
       "       ...,\n",
       "       [203, 204, 205, ..., 211, 212, 213],\n",
       "       [209, 210, 211, ..., 217, 218, 219],\n",
       "       [215, 216, 217, ..., 223, 224, 225]])"
      ]
     },
     "execution_count": 170,
     "metadata": {},
     "output_type": "execute_result"
    }
   ],
   "source": [
    "halo_mapx.astype(int)"
   ]
  },
  {
   "cell_type": "code",
   "execution_count": 215,
   "id": "98d73d94",
   "metadata": {},
   "outputs": [],
   "source": [
    "sig_x = np.take(pure_map, halo_mapx.astype(int)[0], axis = 0)\n",
    "sig_xy = np.take(sig_x, halo_mapy.astype(int)[0], axis = 1)\n",
    "sig_xyz = np.take(sig_xy, halo_mapz.astype(int)[0], axis = 2)"
   ]
  },
  {
   "cell_type": "code",
   "execution_count": 322,
   "id": "1eb58854",
   "metadata": {},
   "outputs": [
    {
     "data": {
      "text/plain": [
       "array([345., 346., 347., 348., 349., 350., 351., 352., 353.,  nan,  nan])"
      ]
     },
     "execution_count": 322,
     "metadata": {},
     "output_type": "execute_result"
    }
   ],
   "source": [
    "halo_mapx[1951]"
   ]
  },
  {
   "cell_type": "code",
   "execution_count": 342,
   "id": "85ef5f06",
   "metadata": {},
   "outputs": [],
   "source": [
    "halo_mapx_new = halo_mapx[~np.isnan(halo_mapx).any(axis = 1)]\n",
    "halo_mapy_new = halo_mapy[~np.isnan(halo_mapy).any(axis = 1)]"
   ]
  },
  {
   "cell_type": "code",
   "execution_count": 348,
   "id": "1b4b6b42",
   "metadata": {},
   "outputs": [
    {
     "data": {
      "text/plain": [
       "array([[124., 125., 126., ..., 132., 133., 134.],\n",
       "       [123., 124., 125., ..., 131., 132., 133.],\n",
       "       [101., 102., 103., ..., 109., 110., 111.],\n",
       "       ...,\n",
       "       [203., 204., 205., ..., 211., 212., 213.],\n",
       "       [209., 210., 211., ..., 217., 218., 219.],\n",
       "       [215., 216., 217., ..., 223., 224., 225.]])"
      ]
     },
     "execution_count": 348,
     "metadata": {},
     "output_type": "execute_result"
    }
   ],
   "source": [
    "halo_mapx[~np.isnan(halo_mapx).any(axis = 1)]"
   ]
  },
  {
   "cell_type": "code",
   "execution_count": 333,
   "id": "d8f825df",
   "metadata": {},
   "outputs": [
    {
     "data": {
      "text/plain": [
       "array([314., 315., 316., 317., 318., 319., 320., 321., 322., 323., 324.])"
      ]
     },
     "execution_count": 333,
     "metadata": {},
     "output_type": "execute_result"
    }
   ],
   "source": [
    "halo_mapx[1952]"
   ]
  },
  {
   "cell_type": "code",
   "execution_count": 335,
   "id": "a2c7a404",
   "metadata": {},
   "outputs": [
    {
     "data": {
      "text/plain": [
       "array([314., 315., 316., 317., 318., 319., 320., 321., 322., 323., 324.])"
      ]
     },
     "execution_count": 335,
     "metadata": {},
     "output_type": "execute_result"
    }
   ],
   "source": [
    "halo_mapx_new[1951]"
   ]
  },
  {
   "cell_type": "code",
   "execution_count": 338,
   "id": "78b18a1a",
   "metadata": {},
   "outputs": [
    {
     "data": {
      "text/plain": [
       "0.9934465096513007"
      ]
     },
     "execution_count": 338,
     "metadata": {},
     "output_type": "execute_result"
    }
   ],
   "source": [
    "len(halo_mapx_new)/len(halo_mapx)"
   ]
  },
  {
   "cell_type": "code",
   "execution_count": 340,
   "id": "35aa7c32",
   "metadata": {},
   "outputs": [
    {
     "data": {
      "text/plain": [
       "0.9920597642532824"
      ]
     },
     "execution_count": 340,
     "metadata": {},
     "output_type": "execute_result"
    }
   ],
   "source": [
    "len(halo_mapy_new)/len(halo_mapy)"
   ]
  },
  {
   "cell_type": "code",
   "execution_count": 27,
   "id": "105e14cd",
   "metadata": {},
   "outputs": [],
   "source": [
    "def inbound_halos(lim_obj, n, halo_xpos, halo_ypos, halo_zpos):\n",
    "    \n",
    "    halo_mapx, halo_mapy, halo_mapz = halo_map_v3(lim_obj, n, halo_xpos, halo_ypos, halo_zpos)\n",
    "\n",
    "    inbound_x = ~np.isnan(halo_mapx).any(axis = 1)\n",
    "    inbound_y = ~np.isnan(halo_mapy[inbound_x]).any(axis = 1)\n",
    "        \n",
    "    return halo_mapx, halo_mapy, halo_mapz, inbound_x, inbound_y"
   ]
  },
  {
   "cell_type": "code",
   "execution_count": null,
   "id": "2b5a2b25",
   "metadata": {},
   "outputs": [],
   "source": [
    "def halo_map_v3(lim_obj, n, halo_xpos, halo_ypos, halo_zpos):\n",
    "\n",
    "    halo_centpix_x, halo_centpix_y, halo_centpix_z = halo_centpix_v2(lim_obj, halo_xpos, halo_ypos, halo_zpos)\n",
    "\n",
    "    halo_mapx = np.linspace(halo_centpix_x - ((n - 1)/2), halo_centpix_x + ((n - 1)/2), n, axis = 1)\n",
    "    halo_mapy = np.linspace(halo_centpix_y - ((n - 1)/2), halo_centpix_y + ((n - 1)/2), n, axis = 1)\n",
    "    halo_mapz = halo_centpix_z\n",
    "    \n",
    "    npix_x, npix_y = lim_obj.mapinst.npix_x + 1, lim_obj.mapinst.npix_y + 1\n",
    "    outb_x = halo_mapx >= npix_x\n",
    "    outb_y = halo_mapy >= npix_y\n",
    "    \n",
    "    halo_mapx[outb_x] = None\n",
    "    halo_mapy[outb_y] = None\n",
    "    \n",
    "    return halo_mapx, halo_mapy, halo_mapz"
   ]
  },
  {
   "cell_type": "code",
   "execution_count": null,
   "id": "31ef7722",
   "metadata": {},
   "outputs": [],
   "source": [
    "def lum_v3(lim_obj, ind, n, halo_xpos, halo_ypos, halo_zpos):\n",
    "\n",
    "    halo_mapx, halo_mapy, halo_mapz, inb_x, inb_y = inbound_halos(lim_obj, n, halo_xpos, halo_ypos, halo_zpos)\n",
    "    \n",
    "    good_mapx = halo_mapx[inb_x][inb_y]\n",
    "    good_mapy = halo_mapy[inb_x][inb_y]\n",
    "\n",
    "    pure_map = lim_obj.maps.value\n",
    "    \n",
    "    pure_x = np.take(pure_map, halo_mapx.astype(int)[i], axis = 0)\n",
    "    pure_xy = np.take(sig_x, halo_mapy.astype(int)[i], axis = 1)\n",
    "    pure_xyz = np.take(sig_xy, halo_mapz.astype(int)[i], axis = 2)\n",
    "        \n",
    "    return pure_xyz"
   ]
  },
  {
   "cell_type": "code",
   "execution_count": 367,
   "id": "dcb65bc4",
   "metadata": {},
   "outputs": [
    {
     "name": "stdout",
     "output_type": "stream",
     "text": [
      "CPU times: user 233 ms, sys: 196 ms, total: 429 ms\n",
      "Wall time: 432 ms\n"
     ]
    }
   ],
   "source": [
    "%%time\n",
    "halo_mapx, halo_mapy, halo_mapz, inb_x, inb_y = inbound_halos(lim_cii, 11, halo_xs, halo_ys, halo_zs)"
   ]
  },
  {
   "cell_type": "code",
   "execution_count": null,
   "id": "56c94735",
   "metadata": {},
   "outputs": [],
   "source": [
    "%%time\n",
    "np.meshgrid(halo_mapx[inb_x][inb_y], halo_mapy[inb_x][inb_y])"
   ]
  },
  {
   "cell_type": "code",
   "execution_count": 288,
   "id": "7a558784",
   "metadata": {},
   "outputs": [],
   "source": [
    "halo_mapx = halo_mapx[np.isfinite(halo_mapx)]"
   ]
  },
  {
   "cell_type": "code",
   "execution_count": 297,
   "id": "9da1fb82",
   "metadata": {},
   "outputs": [
    {
     "data": {
      "text/plain": [
       "array([124., 125., 126., ..., 223., 224., 225.])"
      ]
     },
     "execution_count": 297,
     "metadata": {},
     "output_type": "execute_result"
    }
   ],
   "source": [
    "np.where(np.isfinite(halo_mapx), halo_mapx, 2)"
   ]
  },
  {
   "cell_type": "code",
   "execution_count": 285,
   "id": "743debe0",
   "metadata": {},
   "outputs": [
    {
     "data": {
      "text/plain": [
       "array([124., 125., 126., ..., 223., 224., 225.])"
      ]
     },
     "execution_count": 285,
     "metadata": {},
     "output_type": "execute_result"
    }
   ],
   "source": [
    "halo_mapx"
   ]
  },
  {
   "cell_type": "code",
   "execution_count": 243,
   "id": "6d18f22a",
   "metadata": {},
   "outputs": [],
   "source": [
    "import pandas as pd"
   ]
  },
  {
   "cell_type": "code",
   "execution_count": 299,
   "id": "3d1f167b",
   "metadata": {},
   "outputs": [],
   "source": [
    "df = pd.DataFrame(halo_mapx)"
   ]
  },
  {
   "cell_type": "code",
   "execution_count": 300,
   "id": "7a77acc4",
   "metadata": {},
   "outputs": [],
   "source": [
    "df = df[df.notnull()]"
   ]
  },
  {
   "cell_type": "code",
   "execution_count": 303,
   "id": "d1c3d05c",
   "metadata": {},
   "outputs": [],
   "source": [
    "df = df.T"
   ]
  },
  {
   "cell_type": "code",
   "execution_count": 277,
   "id": "6b7dc61d",
   "metadata": {},
   "outputs": [],
   "source": [
    "new_df = df.T"
   ]
  },
  {
   "cell_type": "code",
   "execution_count": 279,
   "id": "d7d2537a",
   "metadata": {},
   "outputs": [
    {
     "data": {
      "text/html": [
       "<div>\n",
       "<style scoped>\n",
       "    .dataframe tbody tr th:only-of-type {\n",
       "        vertical-align: middle;\n",
       "    }\n",
       "\n",
       "    .dataframe tbody tr th {\n",
       "        vertical-align: top;\n",
       "    }\n",
       "\n",
       "    .dataframe thead th {\n",
       "        text-align: right;\n",
       "    }\n",
       "</style>\n",
       "<table border=\"1\" class=\"dataframe\">\n",
       "  <thead>\n",
       "    <tr style=\"text-align: right;\">\n",
       "      <th></th>\n",
       "      <th>1951</th>\n",
       "    </tr>\n",
       "  </thead>\n",
       "  <tbody>\n",
       "    <tr>\n",
       "      <th>0</th>\n",
       "      <td>345.0</td>\n",
       "    </tr>\n",
       "    <tr>\n",
       "      <th>1</th>\n",
       "      <td>346.0</td>\n",
       "    </tr>\n",
       "    <tr>\n",
       "      <th>2</th>\n",
       "      <td>347.0</td>\n",
       "    </tr>\n",
       "    <tr>\n",
       "      <th>3</th>\n",
       "      <td>348.0</td>\n",
       "    </tr>\n",
       "    <tr>\n",
       "      <th>4</th>\n",
       "      <td>349.0</td>\n",
       "    </tr>\n",
       "    <tr>\n",
       "      <th>5</th>\n",
       "      <td>350.0</td>\n",
       "    </tr>\n",
       "    <tr>\n",
       "      <th>6</th>\n",
       "      <td>351.0</td>\n",
       "    </tr>\n",
       "    <tr>\n",
       "      <th>7</th>\n",
       "      <td>352.0</td>\n",
       "    </tr>\n",
       "    <tr>\n",
       "      <th>8</th>\n",
       "      <td>353.0</td>\n",
       "    </tr>\n",
       "    <tr>\n",
       "      <th>9</th>\n",
       "      <td>NaN</td>\n",
       "    </tr>\n",
       "    <tr>\n",
       "      <th>10</th>\n",
       "      <td>NaN</td>\n",
       "    </tr>\n",
       "  </tbody>\n",
       "</table>\n",
       "</div>"
      ],
      "text/plain": [
       "     1951\n",
       "0   345.0\n",
       "1   346.0\n",
       "2   347.0\n",
       "3   348.0\n",
       "4   349.0\n",
       "5   350.0\n",
       "6   351.0\n",
       "7   352.0\n",
       "8   353.0\n",
       "9     NaN\n",
       "10    NaN"
      ]
     },
     "execution_count": 279,
     "metadata": {},
     "output_type": "execute_result"
    }
   ],
   "source": [
    "new_df[[1951]]"
   ]
  },
  {
   "cell_type": "code",
   "execution_count": null,
   "id": "960ef09c",
   "metadata": {},
   "outputs": [],
   "source": []
  },
  {
   "cell_type": "code",
   "execution_count": null,
   "id": "b3e6c323",
   "metadata": {},
   "outputs": [],
   "source": []
  },
  {
   "cell_type": "code",
   "execution_count": 77,
   "id": "6ff21ffc",
   "metadata": {},
   "outputs": [
    {
     "ename": "IndexError",
     "evalue": "arrays used as indices must be of integer (or boolean) type",
     "output_type": "error",
     "traceback": [
      "\u001b[0;31m---------------------------------------------------------------------------\u001b[0m",
      "\u001b[0;31mIndexError\u001b[0m                                Traceback (most recent call last)",
      "File \u001b[0;32m<timed exec>:1\u001b[0m, in \u001b[0;36m<module>\u001b[0;34m\u001b[0m\n",
      "Input \u001b[0;32mIn [76]\u001b[0m, in \u001b[0;36mlum_v2\u001b[0;34m(lim_obj, ind, n, halo_xpos, halo_ypos, halo_zpos)\u001b[0m\n\u001b[1;32m     12\u001b[0m noisy_map \u001b[38;5;241m=\u001b[39m lim_obj\u001b[38;5;241m.\u001b[39mnoise_added_map\n\u001b[1;32m     14\u001b[0m \u001b[38;5;28;01mfor\u001b[39;00m i \u001b[38;5;129;01min\u001b[39;00m \u001b[38;5;28mrange\u001b[39m(n_halos):\n\u001b[0;32m---> 15\u001b[0m     lum_pure[i] \u001b[38;5;241m=\u001b[39m \u001b[43mpure_map\u001b[49m\u001b[43m[\u001b[49m\u001b[43mhalo_mapx\u001b[49m\u001b[43m[\u001b[49m\u001b[43mi\u001b[49m\u001b[43m]\u001b[49m\u001b[43m,\u001b[49m\u001b[43m \u001b[49m\u001b[43mhalo_mapy\u001b[49m\u001b[43m[\u001b[49m\u001b[43mi\u001b[49m\u001b[43m]\u001b[49m\u001b[43m,\u001b[49m\u001b[43m \u001b[49m\u001b[43mind\u001b[49m\u001b[43m]\u001b[49m\n\u001b[1;32m     16\u001b[0m     lum_noisy[i]\u001b[38;5;241m=\u001b[39m noise_map[halo_mapx[i], halo_mapy[i], ind]\n\u001b[1;32m     18\u001b[0m \u001b[38;5;28;01mreturn\u001b[39;00m lum_pure, lum_noisy\n",
      "\u001b[0;31mIndexError\u001b[0m: arrays used as indices must be of integer (or boolean) type"
     ]
    }
   ],
   "source": [
    "%%time\n",
    "pure_cii, noisy_cii = lum_v2(lim_cii, 3, 11, halo_xs, halo_ys, halo_zs)"
   ]
  },
  {
   "cell_type": "code",
   "execution_count": 17,
   "id": "63b12a6a",
   "metadata": {},
   "outputs": [
    {
     "data": {
      "text/plain": [
       "Text(0.5, 0, '$RA-pixels$')"
      ]
     },
     "execution_count": 17,
     "metadata": {},
     "output_type": "execute_result"
    },
    {
     "data": {
      "image/png": "[encoded data removed]",
      "text/plain": [
       "<Figure size 1440x576 with 4 Axes>"
      ]
     },
     "metadata": {
      "needs_background": "light"
     },
     "output_type": "display_data"
    }
   ],
   "source": [
    "fig , axes = plt.subplots(nrows = 1, ncols = 2, figsize = (20, 8))\n",
    "\n",
    "plt.subplot(121)\n",
    "plt.imshow(np.nanmean(pure_cii, axis = 0), cmap = 'CMRmap')\n",
    "plt.colorbar()\n",
    "plt.title(r'$Pure\\ CII\\ stacked\\ map$', math_fontfamily = 'dejavuserif')\n",
    "plt.xlabel(r'$RA-pixels$', math_fontfamily='dejavuserif')\n",
    "plt.ylabel(r'$DEC-pixels$', math_fontfamily='dejavuserif')\n",
    "\n",
    "plt.subplot(122)\n",
    "plt.imshow(np.nanmean(noisy_cii, axis = 0), cmap = 'CMRmap')\n",
    "plt.colorbar(label = r'$Signal\\ [Jy/sr]$')\n",
    "plt.title(r'$Forecast\\ CII\\ stacked\\ map$', math_fontfamily = 'dejavuserif')\n",
    "plt.xlabel(r'$RA-pixels$', math_fontfamily='dejavuserif')"
   ]
  },
  {
   "cell_type": "code",
   "execution_count": null,
   "id": "180788db",
   "metadata": {},
   "outputs": [],
   "source": []
  },
  {
   "cell_type": "code",
   "execution_count": 47,
   "id": "91556a89",
   "metadata": {},
   "outputs": [],
   "source": [
    "halo_mapx, halo_mapy = halo_map_v2(lim_cii, 11, halo_xs, halo_ys, halo_zs)"
   ]
  },
  {
   "cell_type": "code",
   "execution_count": 27,
   "id": "0c41ddc5",
   "metadata": {},
   "outputs": [],
   "source": [
    "halo_centpix_x, halo_centpix_y, _ = halo_centpix_v2(lim_cii, halo_xs, halo_ys, halo_zs)"
   ]
  },
  {
   "cell_type": "code",
   "execution_count": 31,
   "id": "79229a63",
   "metadata": {},
   "outputs": [
    {
     "data": {
      "text/plain": [
       "129"
      ]
     },
     "execution_count": 31,
     "metadata": {},
     "output_type": "execute_result"
    }
   ],
   "source": [
    "halo_centpix_x[0]"
   ]
  },
  {
   "cell_type": "code",
   "execution_count": 34,
   "id": "09280721",
   "metadata": {},
   "outputs": [
    {
     "data": {
      "text/plain": [
       "array([124., 125., 126., 127., 128., 129., 130., 131., 132., 133., 134.])"
      ]
     },
     "execution_count": 34,
     "metadata": {},
     "output_type": "execute_result"
    }
   ],
   "source": [
    "halo_mapx[0]"
   ]
  },
  {
   "cell_type": "markdown",
   "id": "a64b4b31",
   "metadata": {},
   "source": [
    "## G/Non-G Debugging (June 9)"
   ]
  },
  {
   "cell_type": "code",
   "execution_count": 1,
   "id": "095a99f1",
   "metadata": {},
   "outputs": [
    {
     "name": "stderr",
     "output_type": "stream",
     "text": [
      "WARNING: AstropyDeprecationWarning: `astropy.cosmology.core.FlatLambdaCDM` has been moved (since v5.0) and should be imported as ``from astropy.cosmology import FlatLambdaCDM``. In future this will raise an exception. [astropy.cosmology.core]\n"
     ]
    }
   ],
   "source": [
    "from stacking_utils import *"
   ]
  },
  {
   "cell_type": "markdown",
   "id": "d723bc49",
   "metadata": {},
   "source": [
    "### stacking_params:"
   ]
  },
  {
   "cell_type": "code",
   "execution_count": 2,
   "id": "a7672d7b",
   "metadata": {},
   "outputs": [
    {
     "name": "stdout",
     "output_type": "stream",
     "text": [
      "Input cosmological model does not match simulations\n",
      "Setting analytic cosmology to match simulation\n"
     ]
    }
   ],
   "source": [
    "# Set the limlam_mocker object\n",
    "#m = lim()\n",
    "lim_sim = lim('Lichen_v4', doSim=True)\n",
    "\n",
    "# Update parameters as desired: tobs for noise, catalogue_file for input lightcone\n",
    "# Be aware: make sure to adapt nuObs and Delta_nu to your lightcone\n",
    "# dnu for the amount of redshift slices\n",
    "\n",
    "t_obs = 100000 * u.hr\n",
    "lim_sim.update(model_par = {'zdex': 0.3,\n",
    " 'M0': 1900000000.0,\n",
    " 'Mmin': 20000000000,\n",
    " 'alpha_MH1': 0.74,\n",
    " 'alpha_LCII': 0.017,\n",
    " 'BehrooziFile': 'sfr_reinterp.dat'}, \n",
    "             tobs = t_obs,\n",
    "             nuObs = 400*u.GHz,\n",
    "             Delta_nu = 28*u.GHz,\n",
    "             Omega_field = 16*(u.deg**2),\n",
    "               catalogue_file = '/mnt/scratch-lustre/horlaville/nate_sims/june_9/gaussian/gauss_lc_0.npz')\n",
    "\n",
    "# Lower bound of halo masses to be considered\n",
    "mass_cut = 2*(10**10) # in Solar masses\n",
    "\n",
    "# Error of acceptance on the redshift of the 2D map for surrounding halos\n",
    "err = 0.03\n",
    "\n",
    "# Index of the redshift map to be selected. There are 21 redshift slices by default, so ind can be any integer between 0 and 20\n",
    "ind = 3\n",
    "\n",
    "# Size of the stacked map to be produced (n by n)\n",
    "n = 10\n",
    "\n",
    "# Size of the stacked map, in angular dimension\n",
    "ang_side = np.sqrt(lim_sim.Omega_field)\n",
    "nside = lim_sim.Nside\n",
    "stack_dim = round(n*(ang_side/nside).value, 2)"
   ]
  },
  {
   "cell_type": "markdown",
   "id": "ddd94e0e",
   "metadata": {},
   "source": [
    "### stacking"
   ]
  },
  {
   "cell_type": "code",
   "execution_count": 6,
   "id": "06202845",
   "metadata": {},
   "outputs": [
    {
     "name": "stdout",
     "output_type": "stream",
     "text": [
      "The total forecast observing time has been set to 100000.0 h .\n",
      "Redshift of selected slice is 3.626 , and accepted halos are in the redshift range [ 3.596 , 3.656 ].\n",
      "Stacked map is 10 by 10 , which covers 0.06 deg by 0.06 deg.\n"
     ]
    }
   ],
   "source": [
    "thresh = lim_sim.halos.M > mass_cut\n",
    "\n",
    "map_zs = (lim_sim.mapinst.nu_rest/lim_sim.mapinst.nu_bincents) - 1\n",
    "\n",
    "halo_zs = lim_sim.halos.redshift[thresh]\n",
    "good_halo_zs = np.where(np.logical_and(halo_zs >= map_zs[ind] - err, halo_zs <= map_zs[ind] + err))\n",
    "\n",
    "halo_xs = lim_sim.halos.ra[thresh][good_halo_zs]\n",
    "halo_ys = lim_sim.halos.dec[thresh][good_halo_zs]\n",
    "halo_zs = halo_zs[good_halo_zs]\n",
    "\n",
    "print('The total forecast observing time has been set to', t_obs, '.')\n",
    "print('Redshift of selected slice is', round(map_zs[ind], 3), ', and accepted halos are in the redshift range [', round(map_zs[ind] - err, 3), ',', round(map_zs[ind] + err, 3), '].')\n",
    "print('Stacked map is', n, 'by', n, ', which covers', stack_dim, 'deg by', stack_dim, 'deg.')"
   ]
  },
  {
   "cell_type": "code",
   "execution_count": 10,
   "id": "518bbabe",
   "metadata": {},
   "outputs": [
    {
     "name": "stdout",
     "output_type": "stream",
     "text": [
      "0\n",
      "1\n",
      "2\n",
      "3\n",
      "4\n",
      "5\n",
      "6\n",
      "7\n",
      "8\n",
      "9\n",
      "10\n",
      "11\n",
      "12\n",
      "13\n",
      "14\n",
      "15\n",
      "16\n",
      "17\n",
      "18\n",
      "19\n",
      "20\n",
      "21\n",
      "22\n",
      "23\n",
      "24\n",
      "25\n",
      "26\n",
      "27\n",
      "28\n",
      "29\n",
      "30\n",
      "31\n",
      "32\n",
      "33\n",
      "34\n",
      "35\n",
      "36\n",
      "37\n",
      "38\n",
      "39\n",
      "40\n",
      "41\n",
      "42\n",
      "43\n",
      "44\n",
      "45\n",
      "46\n",
      "47\n",
      "48\n",
      "49\n",
      "50\n",
      "51\n",
      "52\n",
      "53\n",
      "54\n",
      "55\n",
      "56\n",
      "57\n",
      "58\n",
      "59\n",
      "60\n",
      "61\n",
      "62\n",
      "63\n",
      "64\n",
      "65\n",
      "66\n",
      "67\n",
      "68\n",
      "69\n",
      "70\n",
      "71\n",
      "72\n",
      "73\n",
      "74\n",
      "75\n",
      "76\n",
      "77\n",
      "78\n",
      "79\n",
      "80\n",
      "81\n",
      "82\n",
      "83\n",
      "84\n",
      "85\n",
      "86\n",
      "87\n",
      "88\n",
      "89\n",
      "90\n",
      "91\n",
      "92\n",
      "93\n",
      "94\n",
      "95\n",
      "96\n",
      "97\n",
      "98\n",
      "99\n",
      "100\n",
      "101\n",
      "102\n",
      "103\n",
      "104\n",
      "105\n",
      "106\n",
      "107\n",
      "108\n",
      "109\n",
      "110\n",
      "111\n",
      "112\n",
      "113\n",
      "114\n",
      "115\n",
      "116\n",
      "117\n",
      "118\n",
      "119\n",
      "120\n",
      "121\n",
      "122\n",
      "123\n",
      "124\n",
      "125\n",
      "126\n",
      "127\n",
      "128\n",
      "129\n",
      "130\n",
      "131\n",
      "132\n",
      "133\n",
      "134\n",
      "135\n",
      "136\n",
      "137\n",
      "138\n",
      "139\n",
      "140\n",
      "141\n",
      "142\n",
      "143\n",
      "144\n",
      "145\n",
      "146\n",
      "147\n",
      "148\n",
      "149\n",
      "150\n",
      "151\n",
      "152\n",
      "153\n",
      "154\n",
      "155\n",
      "156\n",
      "157\n",
      "158\n",
      "159\n",
      "160\n",
      "161\n",
      "162\n",
      "163\n",
      "164\n",
      "165\n",
      "166\n",
      "167\n",
      "168\n",
      "169\n",
      "170\n",
      "171\n",
      "172\n",
      "173\n",
      "174\n",
      "175\n",
      "176\n",
      "177\n",
      "178\n",
      "179\n",
      "180\n",
      "181\n",
      "182\n",
      "183\n",
      "184\n",
      "185\n",
      "186\n",
      "187\n",
      "188\n",
      "189\n",
      "190\n",
      "191\n",
      "192\n",
      "193\n",
      "194\n",
      "195\n",
      "196\n",
      "197\n",
      "198\n",
      "199\n",
      "200\n",
      "201\n",
      "202\n",
      "203\n",
      "204\n",
      "205\n",
      "206\n",
      "207\n",
      "208\n",
      "209\n",
      "210\n",
      "211\n",
      "212\n",
      "213\n",
      "214\n",
      "215\n",
      "216\n",
      "217\n",
      "218\n",
      "219\n",
      "220\n",
      "221\n",
      "222\n",
      "223\n",
      "224\n",
      "225\n",
      "226\n",
      "227\n",
      "228\n",
      "229\n",
      "230\n",
      "231\n",
      "232\n",
      "233\n",
      "234\n",
      "235\n",
      "236\n",
      "237\n",
      "238\n",
      "239\n",
      "240\n",
      "241\n",
      "242\n",
      "243\n",
      "244\n",
      "245\n",
      "246\n",
      "247\n",
      "248\n",
      "249\n",
      "250\n",
      "251\n",
      "252\n",
      "253\n",
      "254\n",
      "255\n",
      "256\n",
      "257\n",
      "258\n",
      "259\n",
      "260\n",
      "261\n",
      "262\n",
      "263\n",
      "264\n",
      "265\n",
      "266\n",
      "267\n",
      "268\n",
      "269\n",
      "270\n",
      "271\n",
      "272\n",
      "273\n",
      "274\n"
     ]
    },
    {
     "ename": "IndexError",
     "evalue": "index 706 is out of bounds for axis 0 with size 706",
     "output_type": "error",
     "traceback": [
      "\u001b[0;31m---------------------------------------------------------------------------\u001b[0m",
      "\u001b[0;31mIndexError\u001b[0m                                Traceback (most recent call last)",
      "Input \u001b[0;32mIn [10]\u001b[0m, in \u001b[0;36m<module>\u001b[0;34m\u001b[0m\n\u001b[0;32m----> 1\u001b[0m pure_map, noisy_map \u001b[38;5;241m=\u001b[39m \u001b[43mlum\u001b[49m\u001b[43m(\u001b[49m\u001b[43mlim_sim\u001b[49m\u001b[43m,\u001b[49m\u001b[43m \u001b[49m\u001b[43mn\u001b[49m\u001b[43m,\u001b[49m\u001b[43m \u001b[49m\u001b[43mhalo_xs\u001b[49m\u001b[43m,\u001b[49m\u001b[43m \u001b[49m\u001b[43mhalo_ys\u001b[49m\u001b[43m,\u001b[49m\u001b[43m \u001b[49m\u001b[43mhalo_zs\u001b[49m\u001b[43m)\u001b[49m\n",
      "File \u001b[0;32m/cita/h/home-2/horlaville/clara_limlam/limCode2020-master_clara_2/stacking_utils.py:111\u001b[0m, in \u001b[0;36mlum\u001b[0;34m(lim_obj, n, halo_xpos, halo_ypos, halo_zpos)\u001b[0m\n\u001b[1;32m    109\u001b[0m     grid[i] \u001b[38;5;241m=\u001b[39m np\u001b[38;5;241m.\u001b[39mmeshgrid(inb_mapx[i], inb_mapy[i], inb_mapz[i])\n\u001b[1;32m    110\u001b[0m     \u001b[38;5;28mprint\u001b[39m(i)\n\u001b[0;32m--> 111\u001b[0m     sigs[i] \u001b[38;5;241m=\u001b[39m \u001b[43mpure_map\u001b[49m\u001b[43m[\u001b[49m\u001b[43mgrid\u001b[49m\u001b[43m[\u001b[49m\u001b[43mi\u001b[49m\u001b[43m]\u001b[49m\u001b[43m[\u001b[49m\u001b[38;5;241;43m0\u001b[39;49m\u001b[43m]\u001b[49m\u001b[43m,\u001b[49m\u001b[43m \u001b[49m\u001b[43mgrid\u001b[49m\u001b[43m[\u001b[49m\u001b[43mi\u001b[49m\u001b[43m]\u001b[49m\u001b[43m[\u001b[49m\u001b[38;5;241;43m1\u001b[39;49m\u001b[43m]\u001b[49m\u001b[43m,\u001b[49m\u001b[43m \u001b[49m\u001b[43mgrid\u001b[49m\u001b[43m[\u001b[49m\u001b[43mi\u001b[49m\u001b[43m]\u001b[49m\u001b[43m[\u001b[49m\u001b[38;5;241;43m2\u001b[39;49m\u001b[43m]\u001b[49m\u001b[43m]\u001b[49m\n\u001b[1;32m    112\u001b[0m     noisy[i]\u001b[38;5;241m=\u001b[39m noisy_map[grid[i][\u001b[38;5;241m0\u001b[39m], grid[i][\u001b[38;5;241m1\u001b[39m], grid[i][\u001b[38;5;241m2\u001b[39m]]\n\u001b[1;32m    114\u001b[0m sigs \u001b[38;5;241m=\u001b[39m np\u001b[38;5;241m.\u001b[39mreshape(sigs, (nhalos, n, n))\n",
      "\u001b[0;31mIndexError\u001b[0m: index 706 is out of bounds for axis 0 with size 706"
     ]
    }
   ],
   "source": [
    "pure_map, noisy_map = lum(lim_sim, n, halo_xs, halo_ys, halo_zs)"
   ]
  },
  {
   "cell_type": "code",
   "execution_count": null,
   "id": "9bd85203",
   "metadata": {},
   "outputs": [],
   "source": []
  },
  {
   "cell_type": "code",
   "execution_count": null,
   "id": "6107e595",
   "metadata": {},
   "outputs": [],
   "source": []
  },
  {
   "cell_type": "code",
   "execution_count": null,
   "id": "ac64f9b5",
   "metadata": {},
   "outputs": [],
   "source": [
    "halo_mapx, halo_mapy, halo_mapz, inb = inbound_halos(lim_obj, n, halo_xpos, halo_ypos, halo_zpos)\n",
    "    \n",
    "inb_mapx = halo_mapx[inb].astype(int)\n",
    "inb_mapy = halo_mapy[inb].astype(int)\n",
    "inb_mapz = halo_mapz[inb].astype(int)\n",
    "\n",
    "nhalos = len(inb_mapx)\n",
    "    \n",
    "pure_map = lim_obj.maps.value\n",
    "noisy_map= lim_obj.noise_added_map\n",
    "\n",
    "grid = [0 for i in range(nhalos)]\n",
    "sigs = [0 for i in range(nhalos)]\n",
    "noisy= [0 for i in range(nhalos)]"
   ]
  },
  {
   "cell_type": "code",
   "execution_count": null,
   "id": "d36977a5",
   "metadata": {},
   "outputs": [],
   "source": [
    "def lum(lim_obj, n, halo_xpos, halo_ypos, halo_zpos):\n",
    "\n",
    "    halo_mapx, halo_mapy, halo_mapz, inb = inbound_halos(lim_obj, n, halo_xpos, halo_ypos, halo_zpos)\n",
    "    \n",
    "    inb_mapx = halo_mapx[inb].astype(int)\n",
    "    inb_mapy = halo_mapy[inb].astype(int)\n",
    "    inb_mapz = halo_mapz[inb].astype(int)\n",
    "\n",
    "    nhalos = len(inb_mapx)\n",
    "    \n",
    "    pure_map = lim_obj.maps.value\n",
    "    noisy_map= lim_obj.noise_added_map\n",
    "    \n",
    "    grid = [0 for i in range(nhalos)]\n",
    "    sigs = [0 for i in range(nhalos)]\n",
    "    noisy= [0 for i in range(nhalos)]\n",
    "    \n",
    "    for i in range(nhalos):\n",
    "    \n",
    "        grid[i] = np.meshgrid(inb_mapx[i], inb_mapy[i], inb_mapz[i])\n",
    "        print(i)\n",
    "        sigs[i] = pure_map[grid[i][0], grid[i][1], grid[i][2]]\n",
    "        noisy[i]= noisy_map[grid[i][0], grid[i][1], grid[i][2]]\n",
    "        \n",
    "    sigs = np.reshape(sigs, (nhalos, n, n))\n",
    "    noisy= np.reshape(noisy, (nhalos, n, n))\n",
    "    \n",
    "    return sigs, noisy"
   ]
  },
  {
   "cell_type": "code",
   "execution_count": 11,
   "id": "bd70b455",
   "metadata": {},
   "outputs": [],
   "source": [
    "def inbound_halos(lim_obj, n, halo_xpos, halo_ypos, halo_zpos):\n",
    "    \n",
    "    halo_mapx, halo_mapy, halo_mapz = halo_map(lim_obj, n, halo_xpos, halo_ypos, halo_zpos)\n",
    "\n",
    "    inb_x = ~np.isnan(halo_mapx).any(axis = 1)\n",
    "    inb_y = ~np.isnan(halo_mapy).any(axis = 1)\n",
    "    \n",
    "    inb = np.logical_and(inb_x, inb_y)\n",
    "            \n",
    "    return halo_mapx, halo_mapy, halo_mapz, inb"
   ]
  },
  {
   "cell_type": "code",
   "execution_count": 12,
   "id": "dbe6b320",
   "metadata": {},
   "outputs": [],
   "source": [
    "def halo_map(lim_obj, n, halo_xpos, halo_ypos, halo_zpos):\n",
    "\n",
    "    halo_centpix_x, halo_centpix_y, halo_centpix_z = halo_centpix(lim_obj, halo_xpos, halo_ypos, halo_zpos)\n",
    "\n",
    "    halo_mapx = np.linspace(halo_centpix_x - ((n - 1)/2), halo_centpix_x + ((n - 1)/2), n, axis = 1)\n",
    "    halo_mapy = np.linspace(halo_centpix_y - ((n - 1)/2), halo_centpix_y + ((n - 1)/2), n, axis = 1)\n",
    "    halo_mapz = halo_centpix_z\n",
    "    \n",
    "    npix_x, npix_y = lim_obj.mapinst.npix_x + 1, lim_obj.mapinst.npix_y + 1\n",
    "    outb_x = halo_mapx >= npix_x\n",
    "    outb_y = halo_mapy >= npix_y\n",
    "    \n",
    "    halo_mapx[outb_x] = None\n",
    "    halo_mapy[outb_y] = None\n",
    "    \n",
    "    return halo_mapx, halo_mapy, halo_mapz"
   ]
  },
  {
   "cell_type": "code",
   "execution_count": 13,
   "id": "bca4735d",
   "metadata": {},
   "outputs": [],
   "source": [
    "def halo_centpix(lim_obj, halo_xpos, halo_ypos, halo_zpos):\n",
    "\n",
    "    map_xs = lim_obj.mapinst.pix_bincents_x\n",
    "    map_ys = lim_obj.mapinst.pix_bincents_y\n",
    "    map_zs = (lim_obj.mapinst.nu_rest/lim_obj.mapinst.nu_bincents) - 1\n",
    "    \n",
    "    pixcents_x_mesh, halo_xs_mesh = np.meshgrid(map_xs, halo_xpos)\n",
    "    halo_centpix_x = np.argmin(np.abs(halo_xs_mesh - pixcents_x_mesh), axis=1)\n",
    "    \n",
    "    pixcents_y_mesh, halo_ys_mesh = np.meshgrid(map_ys, halo_ypos)\n",
    "    halo_centpix_y = np.argmin(np.abs(halo_ys_mesh - pixcents_y_mesh), axis=1)\n",
    "    \n",
    "    pixcents_z_mesh, halo_zs_mesh = np.meshgrid(map_zs, halo_zpos)\n",
    "    halo_centpix_z = np.argmin(np.abs(halo_zs_mesh - pixcents_z_mesh), axis=1)\n",
    "    \n",
    "    return halo_centpix_x, halo_centpix_y, halo_centpix_z"
   ]
  },
  {
   "cell_type": "code",
   "execution_count": null,
   "id": "aa12cde3",
   "metadata": {},
   "outputs": [],
   "source": []
  },
  {
   "cell_type": "code",
   "execution_count": 63,
   "id": "77c8538c",
   "metadata": {},
   "outputs": [],
   "source": [
    "mass_cut_t = 2*(10**10)\n",
    "ind_t = 3\n",
    "err_t = 0.03\n",
    "n_t = 75"
   ]
  },
  {
   "cell_type": "code",
   "execution_count": 64,
   "id": "d36cb25c",
   "metadata": {},
   "outputs": [],
   "source": [
    "ang_side_t = np.sqrt(lim_sim.Omega_field)\n",
    "nside_t = lim_sim.Nside\n",
    "stack_dim_t = round(n_t*(ang_side_t/nside_t).value, 2)"
   ]
  },
  {
   "cell_type": "code",
   "execution_count": 65,
   "id": "3ec1c597",
   "metadata": {},
   "outputs": [],
   "source": [
    "thresh_t = lim_sim.halos.M > mass_cut_t\n",
    "\n",
    "map_zs_t = (lim_sim.mapinst.nu_rest/lim_sim.mapinst.nu_bincents) - 1\n",
    "\n",
    "halo_zs_t = lim_sim.halos.redshift[thresh_t]\n",
    "good_halo_zs_t = np.where(np.logical_and(halo_zs_t >= map_zs_t[ind_t] - err_t, halo_zs_t <= map_zs_t[ind_t] + err_t))\n",
    "\n",
    "halo_xs_t = lim_sim.halos.ra[thresh_t][good_halo_zs_t]\n",
    "halo_ys_t = lim_sim.halos.dec[thresh_t][good_halo_zs_t]\n",
    "halo_zs_t = halo_zs_t[good_halo_zs_t]"
   ]
  },
  {
   "cell_type": "code",
   "execution_count": 66,
   "id": "ead0a40e",
   "metadata": {},
   "outputs": [],
   "source": [
    "map_xs_t = lim_sim.mapinst.pix_bincents_x\n",
    "map_ys_t = lim_sim.mapinst.pix_bincents_y\n",
    "map_zs_t = (lim_sim.mapinst.nu_rest/lim_sim.mapinst.nu_bincents) - 1\n",
    "    \n",
    "pixcents_x_mesh_t, halo_xs_mesh_t = np.meshgrid(map_xs_t, halo_xs_t)\n",
    "halo_centpix_x_t = np.argmin(np.abs(halo_xs_mesh_t - pixcents_x_mesh_t), axis=1)\n",
    "    \n",
    "pixcents_y_mesh_t, halo_ys_mesh_t = np.meshgrid(map_ys_t, halo_ys_t)\n",
    "halo_centpix_y_t = np.argmin(np.abs(halo_ys_mesh_t - pixcents_y_mesh_t), axis=1)\n",
    "    \n",
    "pixcents_z_mesh_t, halo_zs_mesh_t = np.meshgrid(map_zs_t, halo_zs_t)\n",
    "halo_centpix_z_t = np.argmin(np.abs(halo_zs_mesh_t - pixcents_z_mesh_t), axis=1)"
   ]
  },
  {
   "cell_type": "code",
   "execution_count": 67,
   "id": "45d49ff1",
   "metadata": {},
   "outputs": [
    {
     "data": {
      "text/plain": [
       "Text(0.5, 1.0, 'Halos x position')"
      ]
     },
     "execution_count": 67,
     "metadata": {},
     "output_type": "execute_result"
    },
    {
     "data": {
      "image/png": "[encoded data removed]",
      "text/plain": [
       "<Figure size 576x504 with 1 Axes>"
      ]
     },
     "metadata": {
      "needs_background": "light"
     },
     "output_type": "display_data"
    }
   ],
   "source": [
    "plt.hist(halo_centpix_x_t, bins = 100)\n",
    "plt.title('Halos x position')"
   ]
  },
  {
   "cell_type": "code",
   "execution_count": 68,
   "id": "237b1a7c",
   "metadata": {},
   "outputs": [],
   "source": [
    "halo_mapx_t = np.linspace(halo_centpix_x_t - ((n_t - 1)/2), halo_centpix_x_t + ((n_t - 1)/2), n_t, axis = 1)\n",
    "halo_mapy_t = np.linspace(halo_centpix_y_t - ((n_t - 1)/2), halo_centpix_y_t + ((n_t - 1)/2), n_t, axis = 1)\n",
    "halo_mapz_t = halo_centpix_z_t\n",
    "    \n",
    "npix_x_t, npix_y_t = lim_sim.mapinst.npix_x , lim_sim.mapinst.npix_y \n",
    "outb_x_t = halo_mapx_t >= npix_x_t\n",
    "outb_y_t = halo_mapy_t >= npix_y_t\n",
    "    \n",
    "halo_mapx_t[outb_x_t] = None\n",
    "halo_mapy_t[outb_y_t] = None"
   ]
  },
  {
   "cell_type": "code",
   "execution_count": 69,
   "id": "dfed7e74",
   "metadata": {},
   "outputs": [],
   "source": [
    "inb_x_t = ~np.isnan(halo_mapx_t).any(axis = 1)\n",
    "inb_y_t = ~np.isnan(halo_mapy_t).any(axis = 1)\n",
    "    \n",
    "inb_t = np.logical_and(inb_x_t, inb_y_t)"
   ]
  },
  {
   "cell_type": "code",
   "execution_count": 70,
   "id": "18944744",
   "metadata": {},
   "outputs": [],
   "source": [
    "inb_mapx_t = halo_mapx_t[inb_t].astype(int)\n",
    "inb_mapy_t = halo_mapy_t[inb_t].astype(int)\n",
    "inb_mapz_t = halo_mapz_t[inb_t].astype(int)\n",
    "\n",
    "nhalos_t = len(inb_mapx_t)\n",
    "    \n",
    "pure_map_t = lim_sim.maps.value\n",
    "noisy_map_t = lim_sim.noise_added_map\n",
    "    \n",
    "grid_t = [0 for i in range(nhalos_t)]\n",
    "sigs_t = [0 for i in range(nhalos_t)]\n",
    "noisy_t = [0 for i in range(nhalos_t)]\n",
    "    \n",
    "for i in range(nhalos_t):\n",
    "    \n",
    "    grid_t[i] = np.meshgrid(inb_mapx_t[i], inb_mapy_t[i], inb_mapz_t[i])\n",
    "    sigs_t[i] = pure_map_t[grid_t[i][0], grid_t[i][1], grid_t[i][2]]\n",
    "    noisy_t[i] = noisy_map_t[grid_t[i][0], grid_t[i][1], grid_t[i][2]]\n",
    "        \n",
    "sigs_t = np.reshape(sigs_t, (nhalos_t, n_t, n_t))\n",
    "noisy_t = np.reshape(noisy_t, (nhalos_t, n_t, n_t))"
   ]
  },
  {
   "cell_type": "code",
   "execution_count": 71,
   "id": "aeb8a865",
   "metadata": {},
   "outputs": [],
   "source": [
    "pure_stack_t, noisy_stack_t = np.nanmean(sigs_t, axis = 0), np.nanmean(noisy_t, axis = 0)"
   ]
  },
  {
   "cell_type": "code",
   "execution_count": 73,
   "id": "4c693a84",
   "metadata": {},
   "outputs": [
    {
     "data": {
      "text/plain": [
       "<matplotlib.image.AxesImage at 0x7fb1dfd1b970>"
      ]
     },
     "execution_count": 73,
     "metadata": {},
     "output_type": "execute_result"
    },
    {
     "data": {
      "image/png": "[encoded data removed]",
      "text/plain": [
       "<Figure size 576x504 with 1 Axes>"
      ]
     },
     "metadata": {
      "needs_background": "light"
     },
     "output_type": "display_data"
    }
   ],
   "source": [
    "plt.imshow(pure_stack_t)"
   ]
  },
  {
   "cell_type": "code",
   "execution_count": 72,
   "id": "9bca48d7",
   "metadata": {},
   "outputs": [
    {
     "data": {
      "text/plain": [
       "<matplotlib.image.AxesImage at 0x7fb1dc87bf40>"
      ]
     },
     "execution_count": 72,
     "metadata": {},
     "output_type": "execute_result"
    },
    {
     "data": {
      "image/png": "[encoded data removed]",
      "text/plain": [
       "<Figure size 576x504 with 1 Axes>"
      ]
     },
     "metadata": {
      "needs_background": "light"
     },
     "output_type": "display_data"
    }
   ],
   "source": [
    "plt.imshow(noisy_stack_t)"
   ]
  },
  {
   "cell_type": "code",
   "execution_count": 74,
   "id": "f2b2f92f",
   "metadata": {},
   "outputs": [
    {
     "data": {
      "image/png": "[encoded data removed]",
      "text/plain": [
       "<Figure size 576x1152 with 4 Axes>"
      ]
     },
     "metadata": {
      "needs_background": "light"
     },
     "output_type": "display_data"
    }
   ],
   "source": [
    "fig , axes = plt.subplots(nrows = 2, ncols = 1, figsize = (8, 16))\n",
    "\n",
    "plt.subplot(211)\n",
    "plt.imshow(pure_stack_t, cmap = 'CMRmap', extent = [-stack_dim_t/2, stack_dim_t/2, -stack_dim_t/2, stack_dim_t/2])\n",
    "plt.title(r'$Pure\\ Signal\\ Stacked\\ Map$', math_fontfamily = 'dejavuserif')\n",
    "plt.xlabel(r'$RA\\ [Degrees]$', math_fontfamily='dejavuserif')\n",
    "plt.ylabel(r'$Dec\\ [Degrees]$', math_fontfamily='dejavuserif')\n",
    "cb1 = plt.colorbar(label = r'$Jy/sr$')\n",
    "ax1 = cb1.ax\n",
    "text1 = ax1.yaxis.label\n",
    "font = matplotlib.font_manager.FontProperties(math_fontfamily='dejavuserif', style='italic')\n",
    "text1.set_font_properties(font)\n",
    "\n",
    "\n",
    "plt.subplot(212)\n",
    "plt.imshow(noisy_stack_t, cmap = 'CMRmap', extent = [-stack_dim_t/2, stack_dim_t/2, -stack_dim_t/2, stack_dim_t/2])\n",
    "plt.title(r'$Forecast\\ Stacked\\ Map$', math_fontfamily = 'dejavuserif')\n",
    "plt.xlabel(r'$RA\\ [Degrees]$', math_fontfamily='dejavuserif')\n",
    "plt.ylabel(r'$Dec\\ [Degrees]$', math_fontfamily='dejavuserif')\n",
    "cb2 = plt.colorbar(label = r'$Jy/sr$')\n",
    "ax2 = cb2.ax\n",
    "text2 = ax2.yaxis.label\n",
    "font = matplotlib.font_manager.FontProperties(math_fontfamily='dejavuserif', style='italic')\n",
    "text2.set_font_properties(font)"
   ]
  },
  {
   "cell_type": "code",
   "execution_count": 98,
   "id": "5a709c82",
   "metadata": {},
   "outputs": [
    {
     "data": {
      "text/plain": [
       "7416.028983233111"
      ]
     },
     "execution_count": 98,
     "metadata": {},
     "output_type": "execute_result"
    }
   ],
   "source": [
    "np.max(pure_stack_t)"
   ]
  },
  {
   "cell_type": "code",
   "execution_count": 101,
   "id": "02893c8f",
   "metadata": {},
   "outputs": [
    {
     "data": {
      "text/plain": [
       "36"
      ]
     },
     "execution_count": 101,
     "metadata": {},
     "output_type": "execute_result"
    }
   ],
   "source": [
    "np.argmax(pure_stack_t)%75"
   ]
  },
  {
   "cell_type": "code",
   "execution_count": 97,
   "id": "cee6e190",
   "metadata": {},
   "outputs": [
    {
     "data": {
      "text/plain": [
       "7416.028983233111"
      ]
     },
     "execution_count": 97,
     "metadata": {},
     "output_type": "execute_result"
    }
   ],
   "source": [
    "pure_stack_t[36][36]"
   ]
  },
  {
   "cell_type": "code",
   "execution_count": 95,
   "id": "734e98ec",
   "metadata": {},
   "outputs": [
    {
     "data": {
      "text/plain": [
       "36"
      ]
     },
     "execution_count": 95,
     "metadata": {},
     "output_type": "execute_result"
    }
   ],
   "source": [
    "2736%75"
   ]
  },
  {
   "cell_type": "code",
   "execution_count": 104,
   "id": "e13fc355",
   "metadata": {},
   "outputs": [
    {
     "data": {
      "text/plain": [
       "2700"
      ]
     },
     "execution_count": 104,
     "metadata": {},
     "output_type": "execute_result"
    }
   ],
   "source": [
    "36*75"
   ]
  },
  {
   "cell_type": "code",
   "execution_count": 156,
   "id": "22347e69",
   "metadata": {},
   "outputs": [],
   "source": [
    "import numpy as np\n",
    "\n",
    "def radial_profile(data):\n",
    "    \n",
    "    ## data = (n, n) shape\n",
    "    \n",
    "    n = len(data)\n",
    "    \n",
    "    center_y = np.argmax(data)%n\n",
    "    center_x = np.argmax(data) - (np.argmax(data)%n)*n\n",
    "    \n",
    "    center = (center_x, center_y)\n",
    "    \n",
    "    y, x = np.indices((data.shape))\n",
    "    r = np.sqrt((x - center[0])**2 + (y - center[1])**2)\n",
    "    r = r.astype(int)\n",
    "\n",
    "    tbin = np.bincount(r.ravel(), data.ravel())\n",
    "    nr = np.bincount(r.ravel())\n",
    "    radialprofile = tbin / nr\n",
    "    \n",
    "    return radialprofile"
   ]
  },
  {
   "cell_type": "code",
   "execution_count": 153,
   "id": "134ad385",
   "metadata": {},
   "outputs": [],
   "source": [
    "n_t = len(pure_stack_t)\n",
    "    \n",
    "center_y_t = np.argmax(pure_stack_t)%n_t\n",
    "center_x_t = np.argmax(pure_stack_t) - (np.argmax(pure_stack_t)%n_t)*n_t\n",
    "    \n",
    "center_t = (center_x_t, center_y_t)\n",
    "    \n",
    "y_t, x_t = np.indices((pure_stack_t.shape))\n",
    "r_t = np.sqrt((x_t - center_t[0])**2 + (y_t - center_t[1])**2)\n",
    "r_t = r_t.astype(int)\n",
    "\n",
    "tbin_t = np.bincount(r_t.ravel(), pure_stack_t.ravel())\n",
    "nr_t = np.bincount(r_t.ravel())\n",
    "radialprofile_t = tbin_t / nr_t"
   ]
  },
  {
   "cell_type": "code",
   "execution_count": 154,
   "id": "633d92a5",
   "metadata": {},
   "outputs": [
    {
     "data": {
      "text/plain": [
       "[<matplotlib.lines.Line2D at 0x7fb22cc0ac80>]"
      ]
     },
     "execution_count": 154,
     "metadata": {},
     "output_type": "execute_result"
    },
    {
     "data": {
      "image/png": "[encoded data removed]",
      "text/plain": [
       "<Figure size 576x504 with 1 Axes>"
      ]
     },
     "metadata": {
      "needs_background": "light"
     },
     "output_type": "display_data"
    }
   ],
   "source": [
    "plt.plot(radialprofile_t)"
   ]
  },
  {
   "cell_type": "code",
   "execution_count": 142,
   "id": "49f20b2e",
   "metadata": {},
   "outputs": [
    {
     "data": {
      "text/plain": [
       "5625"
      ]
     },
     "execution_count": 142,
     "metadata": {},
     "output_type": "execute_result"
    }
   ],
   "source": [
    "len(r_t.ravel())"
   ]
  },
  {
   "cell_type": "code",
   "execution_count": 145,
   "id": "188cb03f",
   "metadata": {},
   "outputs": [
    {
     "data": {
      "text/plain": [
       "54"
      ]
     },
     "execution_count": 145,
     "metadata": {},
     "output_type": "execute_result"
    }
   ],
   "source": [
    "len(nr_t)"
   ]
  },
  {
   "cell_type": "code",
   "execution_count": 110,
   "id": "43d3eed5",
   "metadata": {},
   "outputs": [],
   "source": [
    "rad_t = radial_profile(pure_stack_t)"
   ]
  },
  {
   "cell_type": "code",
   "execution_count": 111,
   "id": "0e4c0d6a",
   "metadata": {},
   "outputs": [
    {
     "data": {
      "text/plain": [
       "(36, 36)"
      ]
     },
     "execution_count": 111,
     "metadata": {},
     "output_type": "execute_result"
    }
   ],
   "source": [
    "cent_t"
   ]
  },
  {
   "cell_type": "code",
   "execution_count": 149,
   "id": "30f8f9ea",
   "metadata": {},
   "outputs": [
    {
     "data": {
      "text/plain": [
       "[<matplotlib.lines.Line2D at 0x7fb1d5c26da0>]"
      ]
     },
     "execution_count": 149,
     "metadata": {},
     "output_type": "execute_result"
    },
    {
     "data": {
      "image/png": "[encoded data removed]",
      "text/plain": [
       "<Figure size 576x504 with 1 Axes>"
      ]
     },
     "metadata": {
      "needs_background": "light"
     },
     "output_type": "display_data"
    }
   ],
   "source": [
    "plt.plot(radialprofile_t)"
   ]
  },
  {
   "cell_type": "code",
   "execution_count": 116,
   "id": "c7160f33",
   "metadata": {},
   "outputs": [
    {
     "data": {
      "text/latex": [
       "$100000 \\; \\mathrm{h}$"
      ],
      "text/plain": [
       "<Quantity 100000. h>"
      ]
     },
     "execution_count": 116,
     "metadata": {},
     "output_type": "execute_result"
    }
   ],
   "source": [
    "lim_sim.tobs"
   ]
  },
  {
   "cell_type": "markdown",
   "id": "8532f940",
   "metadata": {},
   "source": [
    "Pipeline:"
   ]
  },
  {
   "cell_type": "code",
   "execution_count": 163,
   "id": "6529cf8c",
   "metadata": {},
   "outputs": [
    {
     "name": "stdout",
     "output_type": "stream",
     "text": [
      "Input cosmological model does not match simulations\n",
      "Setting analytic cosmology to match simulation\n"
     ]
    }
   ],
   "source": [
    "# Set the limlam_mocker object\n",
    "#m = lim()\n",
    "lim_sim = lim('Lichen_v4', doSim=True)\n",
    "\n",
    "# Update parameters as desired: tobs for noise, catalogue_file for input lightcone\n",
    "# Be aware: make sure to adapt nuObs and Delta_nu to your lightcone\n",
    "# dnu for the amount of redshift slices\n",
    "\n",
    "t_obs = 10000 * u.hr\n",
    "lim_sim.update(model_par = {'zdex': 0.3,\n",
    " 'M0': 1900000000.0,\n",
    " 'Mmin': 20000000000,\n",
    " 'alpha_MH1': 0.74,\n",
    " 'alpha_LCII': 0.017,\n",
    " 'BehrooziFile': 'sfr_reinterp.dat'}, \n",
    "             tobs = t_obs,\n",
    "             nuObs = 400*u.GHz,\n",
    "             Delta_nu = 28*u.GHz,\n",
    "             Omega_field = 16*(u.deg**2),\n",
    "               catalogue_file = '/mnt/scratch-lustre/horlaville/nate_sims/june_9/ngaussian/ngauss_mlambda25_0.npz')\n",
    "\n",
    "mass_cut_t = 2*(10**10)\n",
    "ind_t = 3\n",
    "err_t = 0.03\n",
    "n_t = 75\n",
    "\n",
    "# Size of the stacked map, in angular dimension\n",
    "ang_side_t = np.sqrt(lim_sim.Omega_field)\n",
    "nside_t = lim_sim.Nside\n",
    "stack_dim_t = round(n_t*(ang_side_t/nside_t).value, 2)"
   ]
  },
  {
   "cell_type": "code",
   "execution_count": 164,
   "id": "c07ced03",
   "metadata": {},
   "outputs": [
    {
     "name": "stdout",
     "output_type": "stream",
     "text": [
      "Loading .npz catalogues...\n"
     ]
    }
   ],
   "source": [
    "thresh_t = lim_sim.halos.M > mass_cut_t\n",
    "\n",
    "map_zs_t = (lim_sim.mapinst.nu_rest/lim_sim.mapinst.nu_bincents) - 1\n",
    "\n",
    "halo_zs_t = lim_sim.halos.redshift[thresh_t]\n",
    "good_halo_zs_t = np.where(np.logical_and(halo_zs_t >= map_zs_t[ind_t] - err_t, halo_zs_t <= map_zs_t[ind_t] + err_t))\n",
    "\n",
    "halo_xs_t = lim_sim.halos.ra[thresh_t][good_halo_zs_t]\n",
    "halo_ys_t = lim_sim.halos.dec[thresh_t][good_halo_zs_t]\n",
    "halo_zs_t = halo_zs_t[good_halo_zs_t]"
   ]
  },
  {
   "cell_type": "code",
   "execution_count": 165,
   "id": "f4dc3927",
   "metadata": {},
   "outputs": [],
   "source": [
    "map_xs_t = lim_sim.mapinst.pix_bincents_x\n",
    "map_ys_t = lim_sim.mapinst.pix_bincents_y\n",
    "map_zs_t = (lim_sim.mapinst.nu_rest/lim_sim.mapinst.nu_bincents) - 1\n",
    "    \n",
    "pixcents_x_mesh_t, halo_xs_mesh_t = np.meshgrid(map_xs_t, halo_xs_t)\n",
    "halo_centpix_x_t = np.argmin(np.abs(halo_xs_mesh_t - pixcents_x_mesh_t), axis=1)\n",
    "    \n",
    "pixcents_y_mesh_t, halo_ys_mesh_t = np.meshgrid(map_ys_t, halo_ys_t)\n",
    "halo_centpix_y_t = np.argmin(np.abs(halo_ys_mesh_t - pixcents_y_mesh_t), axis=1)\n",
    "    \n",
    "pixcents_z_mesh_t, halo_zs_mesh_t = np.meshgrid(map_zs_t, halo_zs_t)\n",
    "halo_centpix_z_t = np.argmin(np.abs(halo_zs_mesh_t - pixcents_z_mesh_t), axis=1)\n",
    "\n",
    "halo_mapx_t = np.linspace(halo_centpix_x_t - ((n_t - 1)/2), halo_centpix_x_t + ((n_t - 1)/2), n_t, axis = 1)\n",
    "halo_mapy_t = np.linspace(halo_centpix_y_t - ((n_t - 1)/2), halo_centpix_y_t + ((n_t - 1)/2), n_t, axis = 1)\n",
    "halo_mapz_t = halo_centpix_z_t\n",
    "    \n",
    "npix_x_t, npix_y_t = lim_sim.mapinst.npix_x , lim_sim.mapinst.npix_y \n",
    "outb_x_t = halo_mapx_t >= npix_x_t\n",
    "outb_y_t = halo_mapy_t >= npix_y_t\n",
    "    \n",
    "halo_mapx_t[outb_x_t] = None\n",
    "halo_mapy_t[outb_y_t] = None\n",
    "\n",
    "inb_x_t = ~np.isnan(halo_mapx_t).any(axis = 1)\n",
    "inb_y_t = ~np.isnan(halo_mapy_t).any(axis = 1)\n",
    "    \n",
    "inb_t = np.logical_and(inb_x_t, inb_y_t)\n",
    "\n",
    "inb_mapx_t = halo_mapx_t[inb_t].astype(int)\n",
    "inb_mapy_t = halo_mapy_t[inb_t].astype(int)\n",
    "inb_mapz_t = halo_mapz_t[inb_t].astype(int)\n",
    "\n",
    "nhalos_t = len(inb_mapx_t)\n",
    "    \n",
    "pure_map_t = lim_sim.maps.value\n",
    "noisy_map_t = lim_sim.noise_added_map\n",
    "    \n",
    "grid_t = [0 for i in range(nhalos_t)]\n",
    "sigs_t = [0 for i in range(nhalos_t)]\n",
    "noisy_t = [0 for i in range(nhalos_t)]\n",
    "    \n",
    "for i in range(nhalos_t):\n",
    "    \n",
    "    grid_t[i] = np.meshgrid(inb_mapx_t[i], inb_mapy_t[i], inb_mapz_t[i])\n",
    "    sigs_t[i] = pure_map_t[grid_t[i][0], grid_t[i][1], grid_t[i][2]]\n",
    "    noisy_t[i] = noisy_map_t[grid_t[i][0], grid_t[i][1], grid_t[i][2]]\n",
    "        \n",
    "sigs_t = np.reshape(sigs_t, (nhalos_t, n_t, n_t))\n",
    "noisy_t = np.reshape(noisy_t, (nhalos_t, n_t, n_t))\n",
    "\n",
    "pure_stack_t, noisy_stack_t = np.nanmean(sigs_t, axis = 0), np.nanmean(noisy_t, axis = 0)"
   ]
  },
  {
   "cell_type": "code",
   "execution_count": 166,
   "id": "74936930",
   "metadata": {},
   "outputs": [],
   "source": [
    "pure_rad_t_nong = radial_profile(pure_stack_t)\n",
    "noisy_rad_t_nong = radial_profile(noisy_stack_t)"
   ]
  },
  {
   "cell_type": "code",
   "execution_count": 167,
   "id": "7a37ee60",
   "metadata": {},
   "outputs": [
    {
     "data": {
      "image/png": "[encoded data removed]",
      "text/plain": [
       "<Figure size 576x1152 with 4 Axes>"
      ]
     },
     "metadata": {
      "needs_background": "light"
     },
     "output_type": "display_data"
    }
   ],
   "source": [
    "fig , axes = plt.subplots(nrows = 2, ncols = 1, figsize = (8, 16))\n",
    "\n",
    "plt.subplot(211)\n",
    "plt.imshow(pure_stack_t, cmap = 'CMRmap', extent = [-stack_dim_t/2, stack_dim_t/2, -stack_dim_t/2, stack_dim_t/2])\n",
    "plt.title(r'$Pure\\ Signal\\ Stacked\\ Map$', math_fontfamily = 'dejavuserif')\n",
    "plt.xlabel(r'$RA\\ [Degrees]$', math_fontfamily='dejavuserif')\n",
    "plt.ylabel(r'$Dec\\ [Degrees]$', math_fontfamily='dejavuserif')\n",
    "cb1 = plt.colorbar(label = r'$Jy/sr$')\n",
    "ax1 = cb1.ax\n",
    "text1 = ax1.yaxis.label\n",
    "font = matplotlib.font_manager.FontProperties(math_fontfamily='dejavuserif', style='italic')\n",
    "text1.set_font_properties(font)\n",
    "\n",
    "plt.subplot(212)\n",
    "plt.imshow(noisy_stack_t, cmap = 'CMRmap', extent = [-stack_dim_t/2, stack_dim_t/2, -stack_dim_t/2, stack_dim_t/2])\n",
    "plt.title(r'$Forecast\\ Stacked\\ Map$', math_fontfamily = 'dejavuserif')\n",
    "plt.xlabel(r'$RA\\ [Degrees]$', math_fontfamily='dejavuserif')\n",
    "plt.ylabel(r'$Dec\\ [Degrees]$', math_fontfamily='dejavuserif')\n",
    "cb2 = plt.colorbar(label = r'$Jy/sr$')\n",
    "ax2 = cb2.ax\n",
    "text2 = ax2.yaxis.label\n",
    "font = matplotlib.font_manager.FontProperties(math_fontfamily='dejavuserif', style='italic')\n",
    "text2.set_font_properties(font)"
   ]
  },
  {
   "cell_type": "code",
   "execution_count": 172,
   "id": "fcc444ab",
   "metadata": {},
   "outputs": [
    {
     "data": {
      "image/png": "[encoded data removed]",
      "text/plain": [
       "<Figure size 576x504 with 1 Axes>"
      ]
     },
     "metadata": {
      "needs_background": "light"
     },
     "output_type": "display_data"
    }
   ],
   "source": [
    "plt.rcParams[\"mathtext.fontset\"] = \"dejavuserif\"\n",
    "\n",
    "plt.plot(pure_rad_t, 'k', label = r'$Gaussian\\ pure\\ signal$')\n",
    "plt.plot(noisy_rad_t, '--k', label = r'$Gaussian\\ forecast$')\n",
    "\n",
    "plt.plot(pure_rad_t_nong, 'r', label = r'$Non-Gaussian\\ pure\\ signal$')\n",
    "plt.plot(noisy_rad_t_nong, '--r', label = r'$Non-Gaussian\\ forecast$')\n",
    "\n",
    "plt.title(r'$Radial\\ Profile,\\ t_{obs}=10000h$')\n",
    "plt.xlabel(r'$Distance\\ away\\ from\\ halo\\ center$')\n",
    "plt.ylabel(r'$Intensity\\ [Jy/sr]$')\n",
    "\n",
    "plt.yscale('log')\n",
    "\n",
    "plt.legend(bbox_to_anchor = (1,1))\n",
    "plt.savefig('Stacking/radialprofile_tobs10kh_gng_z3.png', bbox_inches = 'tight')"
   ]
  },
  {
   "cell_type": "code",
   "execution_count": null,
   "id": "c3521a1f",
   "metadata": {},
   "outputs": [],
   "source": []
  }
 ],
 "metadata": {
  "kernelspec": {
   "display_name": "Python 3 (ipykernel)",
   "language": "python",
   "name": "python3"
  },
  "language_info": {
   "codemirror_mode": {
    "name": "ipython",
    "version": 3
   },
   "file_extension": ".py",
   "mimetype": "text/x-python",
   "name": "python",
   "nbconvert_exporter": "python",
   "pygments_lexer": "ipython3",
   "version": "3.10.2"
  }
 },
 "nbformat": 4,
 "nbformat_minor": 5
}
